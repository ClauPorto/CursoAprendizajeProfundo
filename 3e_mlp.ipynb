{
 "cells": [
  {
   "cell_type": "markdown",
   "metadata": {},
   "source": [
    "# Perceptrón multicapa\n",
    "\n",
    "#### <div style=\"text-align: right\"> Berenice Montalvo Lezama </div>\n",
    "\n",
    "En este ejemplo veremos como implementar un perceptrón multicapa para la tarea de clasificación de imágenes. Emplearemos un conjunto referencia llamado [MNIST](http://yann.lecun.com/exdb/mnist/) recolectado por [Yann LeCun](http://yann.lecun.com). Tiene imágenes en escala de grises de 28 × 28 píxeles que contienen dígitos entre 0 y 9 escritos a mano. El conjunto cuenta con 60,000 imágenes de entrenamiento y 10,000 de prueba.\n",
    "\n",
    "![Lecun](../figs/yan_lecun.png)\n"
   ]
  },
  {
   "cell_type": "markdown",
   "metadata": {},
   "source": [
    "## 1 Carga de datos\n",
    "\n",
    "Comenzaremos descargando y leyendo el conjunto de datos. Aprovecharemos que Tensorflow cuenta con utilerias en el paquete [`tf.keras.datasets`](https://www.tensorflow.org/versions/r2.0/api_docs/python/tf/keras/datasets) para descargar conjuntos de datos de referencia preprocesados."
   ]
  },
  {
   "cell_type": "code",
   "execution_count": 1,
   "metadata": {},
   "outputs": [],
   "source": [
    "try:\n",
    "  %tensorflow_version 2.x\n",
    "except Exception:\n",
    "  pass\n",
    "\n",
    "import os\n",
    "\n",
    "import matplotlib.pyplot as plt\n",
    "import numpy as np\n",
    "import pandas as pd\n",
    "import tensorflow as tf\n",
    "from tensorflow.keras.layers import Dense, Flatten\n",
    "from tensorflow.keras import Model\n",
    "\n",
    "tf.random.set_seed(2019)\n",
    "\n",
    "mnist = tf.keras.datasets.mnist\n",
    "(x_train, y_train), (x_test, y_test) = mnist.load_data()"
   ]
  },
  {
   "cell_type": "markdown",
   "metadata": {},
   "source": [
    "Una vez descargadas las imágenes, podemos visualizar algunas para ver cómo lucen."
   ]
  },
  {
   "cell_type": "code",
   "execution_count": 2,
   "metadata": {},
   "outputs": [
    {
     "data": {
      "image/png": "[encoded data removed]",
      "text/plain": [
       "<Figure size 360x432 with 9 Axes>"
      ]
     },
     "metadata": {},
     "output_type": "display_data"
    }
   ],
   "source": [
    "plt.figure(figsize=(5, 6))\n",
    "for i in range(1, 10):\n",
    "    plt.subplot(330 + i)\n",
    "    plt.xticks([])\n",
    "    plt.yticks([])\n",
    "    plt.imshow(x_train[5 * i], cmap='Greys')"
   ]
  },
  {
   "cell_type": "markdown",
   "metadata": {},
   "source": [
    "Ahora normalizamos las imágenes."
   ]
  },
  {
   "cell_type": "code",
   "execution_count": 3,
   "metadata": {},
   "outputs": [],
   "source": [
    "x_train, x_test = x_train / 255.0, x_test / 255.0\n",
    "y_train = y_train[..., tf.newaxis]\n",
    "y_test = y_test[..., tf.newaxis]"
   ]
  },
  {
   "cell_type": "markdown",
   "metadata": {},
   "source": [
    "Definimos nuestra tubería de datos para el conjunto de entrenamiento."
   ]
  },
  {
   "cell_type": "code",
   "execution_count": 4,
   "metadata": {},
   "outputs": [
    {
     "name": "stderr",
     "output_type": "stream",
     "text": [
      "WARNING: Logging before flag parsing goes to stderr.\n",
      "W0826 21:17:36.833422 140385481750336 deprecation.py:323] From /home/richardt/.virtualenvs/riiaa/lib/python3.6/site-packages/tensorflow/python/data/util/random_seed.py:58: add_dispatch_support.<locals>.wrapper (from tensorflow.python.ops.array_ops) is deprecated and will be removed in a future version.\n",
      "Instructions for updating:\n",
      "Use tf.where in 2.0, which has the same broadcast rule as np.where\n"
     ]
    },
    {
     "name": "stdout",
     "output_type": "stream",
     "text": [
      "x=[0. 0. 0. ... 0. 0. 0.] x.shape=(64, 28, 28)\n",
      "y=[2 6 0 7 8 7 5 7 7 4 4 4 3 2 3 7 7 6 3 7 0 3 1 3 1 6 1 3 1 0 6 4 9 9 4 0 5\n",
      " 9 8 8 0 9 2 1 6 1 3 0 7 6 7 0 1 8 7 7 1 7 3 7 9 7 0 3] y_true.shape=(64, 1)\n"
     ]
    }
   ],
   "source": [
    "batch_size = 64\n",
    "ds = tf.data.Dataset.from_tensor_slices((x_train, y_train))\n",
    "ds = ds.shuffle(60000)\n",
    "ds = ds.batch(batch_size)\n",
    "\n",
    "for x, y_true in ds:\n",
    "    print('x={} x.shape={}'.format(x.numpy().flatten(), x.shape))\n",
    "    print('y={} y_true.shape={}'.format(y_true.numpy().flatten(), y_true.shape))\n",
    "    break"
   ]
  },
  {
   "cell_type": "markdown",
   "metadata": {},
   "source": [
    "### Quiz 1\n",
    "\n",
    "¿Cúal es la función de activación adecuada para la capa de salida de una red neuronal para clasificación multiclase?"
   ]
  },
  {
   "cell_type": "markdown",
   "metadata": {},
   "source": [
    "## 2 Definición del modelo"
   ]
  },
  {
   "cell_type": "code",
   "execution_count": 5,
   "metadata": {},
   "outputs": [],
   "source": [
    "class MLP(Model):\n",
    "\n",
    "  def __init__(self):\n",
    "    super(MLP, self).__init__()\n",
    "    self.flatten = tf.keras.layers.Flatten()\n",
    "    self.fc1 = Dense(128, activation=tf.nn.relu)\n",
    "    self.fc2 = Dense(10, activation=tf.nn.softmax)\n",
    "\n",
    "  def call(self, x):\n",
    "    # (N, 28, 28) =>\n",
    "    # (N, 28*28)\n",
    "    o = self.flatten(x)\n",
    "    # (N, 28*28) =>\n",
    "    # (N, 128)\n",
    "    o = self.fc1(o)\n",
    "    # (N, 128) =>\n",
    "    # (N, 10)\n",
    "    o = self.fc2(o)\n",
    "    return o"
   ]
  },
  {
   "cell_type": "markdown",
   "metadata": {},
   "source": [
    "### Quiz 2\n",
    "\n",
    "Si las clases fueran 100 en vez de 10 y quisera utilizar la misma arquitectura anterior ¿qué modificación tendría que realizar? "
   ]
  },
  {
   "cell_type": "markdown",
   "metadata": {},
   "source": [
    "### Definición de pérdida y optimizador"
   ]
  },
  {
   "cell_type": "code",
   "execution_count": 6,
   "metadata": {},
   "outputs": [],
   "source": [
    "loss_fn = tf.keras.losses.SparseCategoricalCrossentropy()\n",
    "optimizer = tf.keras.optimizers.SGD(learning_rate=1e-3)"
   ]
  },
  {
   "cell_type": "markdown",
   "metadata": {},
   "source": [
    "### Definición de métricas\n",
    "\n",
    "Las clases dentro de `tf.keras.metrics` están diseñadas para mantener un histórico de una métrica a lo largo de los pasas de entrenamiento y agregarlo (con el promedio por ejemplo) para obtener el desempeño de la métrica a nivel epoca."
   ]
  },
  {
   "cell_type": "code",
   "execution_count": 7,
   "metadata": {},
   "outputs": [],
   "source": [
    "# historiales a nivel época\n",
    "loss_epoch = tf.keras.metrics.SparseCategoricalCrossentropy()\n",
    "acc_epoch = tf.keras.metrics.SparseCategoricalAccuracy()\n",
    "\n",
    "# historiales a nivel entrenamiento\n",
    "loss_history = []\n",
    "acc_history = []"
   ]
  },
  {
   "cell_type": "markdown",
   "metadata": {},
   "source": [
    "## 3 Entrenamiento"
   ]
  },
  {
   "cell_type": "code",
   "execution_count": null,
   "metadata": {},
   "outputs": [
    {
     "name": "stdout",
     "output_type": "stream",
     "text": [
      "E  0 loss=194.70, acc= 44.45\n",
      "E  1 loss=137.57, acc= 72.60\n",
      "E  2 loss=102.29, acc= 79.43\n",
      "E  3 loss= 82.57, acc= 82.48\n",
      "E  4 loss= 70.85, acc= 84.18\n",
      "E  5 loss= 63.23, acc= 85.27\n",
      "E  6 loss= 57.89, acc= 86.06\n",
      "E  7 loss= 53.94, acc= 86.73\n",
      "E  8 loss= 50.89, acc= 87.23\n",
      "E  9 loss= 48.46, acc= 87.65\n",
      "E 10 loss= 46.47, acc= 87.99\n",
      "E 11 loss= 44.81, acc= 88.33\n",
      "E 12 loss= 43.40, acc= 88.58\n",
      "E 13 loss= 42.18, acc= 88.82\n",
      "E 14 loss= 41.11, acc= 89.04\n",
      "E 15 loss= 40.16, acc= 89.22\n",
      "E 16 loss= 39.32, acc= 89.36\n",
      "E 17 loss= 38.56, acc= 89.54\n"
     ]
    }
   ],
   "source": [
    "model = MLP()\n",
    "\n",
    "epochs = 25\n",
    "for epoch in range(epochs):\n",
    "    \n",
    "    for x, y_true in ds:\n",
    "        \n",
    "        with tf.GradientTape() as tape:\n",
    "            y_pred = model(x)\n",
    "            loss = loss_fn(y_true, y_pred)            \n",
    "        \n",
    "        gradients = tape.gradient(loss, model.trainable_variables)\n",
    "        optimizer.apply_gradients(zip(gradients, model.trainable_variables))\n",
    "\n",
    "        loss_epoch(y_true, y_pred)\n",
    "        acc_epoch(y_true, y_pred)\n",
    "    \n",
    "    loss_res = loss_epoch.result().numpy() * 100\n",
    "    acc_res = acc_epoch.result().numpy() * 100\n",
    "    loss_epoch.reset_states()\n",
    "    acc_epoch.reset_states()\n",
    "    \n",
    "    loss_history.append(loss_res)\n",
    "    acc_history.append(acc_res)\n",
    "\n",
    "    print('E{:3d} loss={:6.2f}, acc={:6.2f}'.format(epoch, loss_res, acc_res))        "
   ]
  },
  {
   "cell_type": "markdown",
   "metadata": {},
   "source": [
    "Gráficamos la pérdida de nuestro modelo."
   ]
  },
  {
   "cell_type": "code",
   "execution_count": null,
   "metadata": {},
   "outputs": [],
   "source": [
    "plt.plot(np.arange(len(loss_history)), loss_history, color='red')\n",
    "plt.xlabel('iteraciones')\n",
    "plt.ylabel('entropía cruzada categorica')\n",
    "plt.show()"
   ]
  },
  {
   "cell_type": "markdown",
   "metadata": {},
   "source": [
    "Gráficamos la exactitud de nuestro modelo"
   ]
  },
  {
   "cell_type": "code",
   "execution_count": null,
   "metadata": {},
   "outputs": [],
   "source": [
    "plt.plot(np.arange(len(acc_history)), acc_history, color='blue')\n",
    "plt.xlabel('iteraciones')\n",
    "plt.ylabel('exactitud')\n",
    "plt.show()"
   ]
  },
  {
   "cell_type": "markdown",
   "metadata": {
    "scrolled": true
   },
   "source": [
    "## 4 Validación"
   ]
  },
  {
   "cell_type": "code",
   "execution_count": null,
   "metadata": {},
   "outputs": [],
   "source": [
    "y_pred_test = model(x_test)\n",
    "print(acc_epoch(y_test, y_pred_test).numpy() * 100)"
   ]
  },
  {
   "cell_type": "code",
   "execution_count": null,
   "metadata": {},
   "outputs": [],
   "source": [
    "plt.figure(figsize=(5, 6))\n",
    "for i in range(1, 10):\n",
    "    plt.subplot(330 + i)\n",
    "    plt.xticks([])\n",
    "    plt.yticks([])\n",
    "    plt.imshow(x_test[5*i], cmap='Greys')\n",
    "    plt.title(y_pred_test[5*i].numpy().argmax())"
   ]
  }
 ],
 "metadata": {
  "kernelspec": {
   "display_name": "Python 3",
   "language": "python",
   "name": "python3"
  },
  "language_info": {
   "codemirror_mode": {
    "name": "ipython",
    "version": 3
   },
   "file_extension": ".py",
   "mimetype": "text/x-python",
   "name": "python",
   "nbconvert_exporter": "python",
   "pygments_lexer": "ipython3",
   "version": "3.6.8"
  }
 },
 "nbformat": 4,
 "nbformat_minor": 2
}
