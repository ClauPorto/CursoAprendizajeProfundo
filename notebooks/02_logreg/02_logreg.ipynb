{
 "cells": [
  {
   "cell_type": "markdown",
   "metadata": {},
   "source": [
    "# Regresión logística\n",
    "\n",
    "#### <div style=\"text-align: right\"> Berenice Montalvo Lezama </div>\n",
    "\n",
    "En este ejemplo veremos como implementar regresión logisitica para un atributo. Este modelo se puede ver como la forma más simple de una red neuronal para clasificación, por lo que es importante comprenderlo a profundidad."
   ]
  },
  {
   "cell_type": "code",
   "execution_count": 1,
   "metadata": {},
   "outputs": [],
   "source": [
    "import os\n",
    "\n",
    "import matplotlib.pyplot as plt\n",
    "import numpy as np\n",
    "import pandas as pd\n",
    "import tensorflow as tf\n",
    "from tensorflow.keras.layers import Dense\n",
    "from tensorflow.keras import Model\n",
    "\n",
    "# silenciar TF\n",
    "os.environ['TF_CPP_MIN_LOG_LEVEL'] = '2'\n",
    "\n",
    "tf.random.set_seed(2019)"
   ]
  },
  {
   "cell_type": "markdown",
   "metadata": {},
   "source": [
    "## Conjunto de datos Iris\n",
    "\n",
    "Emplearemos un conjunto referencia llamado [Iris](https://en.wikipedia.org/wiki/Iris_flower_data_set) recolectado por [Ronald Fisher](https://en.wikipedia.org/wiki/Ronald_Fisher) (sí, el mismo del [algoritmo de barajeo](https://en.wikipedia.org/wiki/Fisher%E2%80%93Yates_shuffle) de Fisher-Yates). Este conjunto tiene cuatro atributos de entrada: los anchos y largos de los pétalos y sépalos; y tres clases de flor iris de salida: setosa, versicolour, virginica.\n",
    "\n",
    "![Pétalo y sépalo](img/iris.png)\n",
    "<center>Fuente: Suruchi Fialoke, October 13, 2016, Classification of Iris Varieties</center>\n",
    "\n"
   ]
  },
  {
   "cell_type": "markdown",
   "metadata": {},
   "source": [
    "Este conjunto tiene 50 muestras de cada clase, leamoslo e imprimamos las primeras cinco de cada clase."
   ]
  },
  {
   "cell_type": "code",
   "execution_count": 2,
   "metadata": {},
   "outputs": [
    {
     "data": {
      "text/html": [
       "<div>\n",
       "<style scoped>\n",
       "    .dataframe tbody tr th:only-of-type {\n",
       "        vertical-align: middle;\n",
       "    }\n",
       "\n",
       "    .dataframe tbody tr th {\n",
       "        vertical-align: top;\n",
       "    }\n",
       "\n",
       "    .dataframe thead th {\n",
       "        text-align: right;\n",
       "    }\n",
       "</style>\n",
       "<table border=\"1\" class=\"dataframe\">\n",
       "  <thead>\n",
       "    <tr style=\"text-align: right;\">\n",
       "      <th></th>\n",
       "      <th>largo sépalo</th>\n",
       "      <th>ancho sépalo</th>\n",
       "      <th>largo pétalo</th>\n",
       "      <th>ancho pétalo</th>\n",
       "      <th>clase</th>\n",
       "    </tr>\n",
       "  </thead>\n",
       "  <tbody>\n",
       "    <tr>\n",
       "      <th>1</th>\n",
       "      <td>4.9</td>\n",
       "      <td>3.0</td>\n",
       "      <td>1.4</td>\n",
       "      <td>0.2</td>\n",
       "      <td>Iris-setosa</td>\n",
       "    </tr>\n",
       "    <tr>\n",
       "      <th>2</th>\n",
       "      <td>4.7</td>\n",
       "      <td>3.2</td>\n",
       "      <td>1.3</td>\n",
       "      <td>0.2</td>\n",
       "      <td>Iris-setosa</td>\n",
       "    </tr>\n",
       "    <tr>\n",
       "      <th>3</th>\n",
       "      <td>4.6</td>\n",
       "      <td>3.1</td>\n",
       "      <td>1.5</td>\n",
       "      <td>0.2</td>\n",
       "      <td>Iris-setosa</td>\n",
       "    </tr>\n",
       "    <tr>\n",
       "      <th>4</th>\n",
       "      <td>5.0</td>\n",
       "      <td>3.6</td>\n",
       "      <td>1.4</td>\n",
       "      <td>0.2</td>\n",
       "      <td>Iris-setosa</td>\n",
       "    </tr>\n",
       "    <tr>\n",
       "      <th>50</th>\n",
       "      <td>7.0</td>\n",
       "      <td>3.2</td>\n",
       "      <td>4.7</td>\n",
       "      <td>1.4</td>\n",
       "      <td>Iris-versicolor</td>\n",
       "    </tr>\n",
       "    <tr>\n",
       "      <th>51</th>\n",
       "      <td>6.4</td>\n",
       "      <td>3.2</td>\n",
       "      <td>4.5</td>\n",
       "      <td>1.5</td>\n",
       "      <td>Iris-versicolor</td>\n",
       "    </tr>\n",
       "    <tr>\n",
       "      <th>52</th>\n",
       "      <td>6.9</td>\n",
       "      <td>3.1</td>\n",
       "      <td>4.9</td>\n",
       "      <td>1.5</td>\n",
       "      <td>Iris-versicolor</td>\n",
       "    </tr>\n",
       "    <tr>\n",
       "      <th>53</th>\n",
       "      <td>5.5</td>\n",
       "      <td>2.3</td>\n",
       "      <td>4.0</td>\n",
       "      <td>1.3</td>\n",
       "      <td>Iris-versicolor</td>\n",
       "    </tr>\n",
       "    <tr>\n",
       "      <th>54</th>\n",
       "      <td>6.5</td>\n",
       "      <td>2.8</td>\n",
       "      <td>4.6</td>\n",
       "      <td>1.5</td>\n",
       "      <td>Iris-versicolor</td>\n",
       "    </tr>\n",
       "    <tr>\n",
       "      <th>100</th>\n",
       "      <td>6.3</td>\n",
       "      <td>3.3</td>\n",
       "      <td>6.0</td>\n",
       "      <td>2.5</td>\n",
       "      <td>Iris-virginica</td>\n",
       "    </tr>\n",
       "    <tr>\n",
       "      <th>101</th>\n",
       "      <td>5.8</td>\n",
       "      <td>2.7</td>\n",
       "      <td>5.1</td>\n",
       "      <td>1.9</td>\n",
       "      <td>Iris-virginica</td>\n",
       "    </tr>\n",
       "    <tr>\n",
       "      <th>102</th>\n",
       "      <td>7.1</td>\n",
       "      <td>3.0</td>\n",
       "      <td>5.9</td>\n",
       "      <td>2.1</td>\n",
       "      <td>Iris-virginica</td>\n",
       "    </tr>\n",
       "    <tr>\n",
       "      <th>103</th>\n",
       "      <td>6.3</td>\n",
       "      <td>2.9</td>\n",
       "      <td>5.6</td>\n",
       "      <td>1.8</td>\n",
       "      <td>Iris-virginica</td>\n",
       "    </tr>\n",
       "    <tr>\n",
       "      <th>104</th>\n",
       "      <td>6.5</td>\n",
       "      <td>3.0</td>\n",
       "      <td>5.8</td>\n",
       "      <td>2.2</td>\n",
       "      <td>Iris-virginica</td>\n",
       "    </tr>\n",
       "  </tbody>\n",
       "</table>\n",
       "</div>"
      ],
      "text/plain": [
       "     largo sépalo  ancho sépalo  largo pétalo  ancho pétalo            clase\n",
       "1             4.9           3.0           1.4           0.2      Iris-setosa\n",
       "2             4.7           3.2           1.3           0.2      Iris-setosa\n",
       "3             4.6           3.1           1.5           0.2      Iris-setosa\n",
       "4             5.0           3.6           1.4           0.2      Iris-setosa\n",
       "50            7.0           3.2           4.7           1.4  Iris-versicolor\n",
       "51            6.4           3.2           4.5           1.5  Iris-versicolor\n",
       "52            6.9           3.1           4.9           1.5  Iris-versicolor\n",
       "53            5.5           2.3           4.0           1.3  Iris-versicolor\n",
       "54            6.5           2.8           4.6           1.5  Iris-versicolor\n",
       "100           6.3           3.3           6.0           2.5   Iris-virginica\n",
       "101           5.8           2.7           5.1           1.9   Iris-virginica\n",
       "102           7.1           3.0           5.9           2.1   Iris-virginica\n",
       "103           6.3           2.9           5.6           1.8   Iris-virginica\n",
       "104           6.5           3.0           5.8           2.2   Iris-virginica"
      ]
     },
     "execution_count": 2,
     "metadata": {},
     "output_type": "execute_result"
    }
   ],
   "source": [
    "columns = ('largo sépalo', 'ancho sépalo', 'largo pétalo', 'ancho pétalo', 'clase')\n",
    "df = pd.read_csv('../data/iris/iris.csv', names=columns)\n",
    "pd.concat((df[1:5], df[50:55], df[100:105]))  "
   ]
  },
  {
   "cell_type": "markdown",
   "metadata": {},
   "source": [
    "El modelo de regresión logística que entrenaremos resolvera una tarea de clasificación binaria sobre este conjunto considerando únicamente como entrada el largo del peétalo y como salida las dos primeras clases. Grafiquemos la entrada contra la salida para visualizar su relación."
   ]
  },
  {
   "cell_type": "code",
   "execution_count": 3,
   "metadata": {},
   "outputs": [
    {
     "data": {
      "image/png": "[encoded data removed]",
      "text/plain": [
       "<Figure size 432x288 with 1 Axes>"
      ]
     },
     "metadata": {
      "needs_background": "light"
     },
     "output_type": "display_data"
    }
   ],
   "source": [
    "label2index = {'Iris-setosa': 0, 'Iris-versicolor': 1}\n",
    "x_train = np.array(df.iloc[:, 3][:100])[..., np.newaxis]\n",
    "y_true_train = [label2index[l] for l in df.iloc[:, -1][:100]]\n",
    "y_true_train = np.array(y_true_train)[..., np.newaxis]\n",
    "plt.plot(x_train[:50], y_true_train[:50], '.', label='Iris-setosa')\n",
    "plt.plot(x_train[50:], y_true_train[50:], '.', label='Iris-versicolor')\n",
    "plt.xlabel('ancho pétalo')\n",
    "plt.ylabel('clase')\n",
    "plt.legend(loc='lower right')\n",
    "plt.show()"
   ]
  },
  {
   "cell_type": "markdown",
   "metadata": {},
   "source": [
    "### Quiz 1\n",
    "\n",
    "¿Cómo podriamos graficar los cuatro atributos de entrada y contra la salida?"
   ]
  },
  {
   "cell_type": "markdown",
   "metadata": {},
   "source": [
    "## Tuberia de datos"
   ]
  },
  {
   "cell_type": "code",
   "execution_count": 4,
   "metadata": {},
   "outputs": [
    {
     "name": "stderr",
     "output_type": "stream",
     "text": [
      "WARNING: Logging before flag parsing goes to stderr.\n",
      "W0821 21:14:55.590666 139820299925312 deprecation.py:323] From /home/bere/.virtualenvs/cap/lib/python3.6/site-packages/tensorflow/python/data/util/random_seed.py:58: add_dispatch_support.<locals>.wrapper (from tensorflow.python.ops.array_ops) is deprecated and will be removed in a future version.\n",
      "Instructions for updating:\n",
      "Use tf.where in 2.0, which has the same broadcast rule as np.where\n"
     ]
    },
    {
     "name": "stdout",
     "output_type": "stream",
     "text": [
      "x=[0.2 1.2 1.3 0.2 1.3 0.3 0.2 1.5 0.4 0.2 0.2 1.3 0.2 0.2 0.4 0.1] x.shape=(16, 1)\n",
      "y=[0 1 1 0 1 0 0 1 0 0 0 1 0 0 0 0] y_true.shape=(16, 1)\n"
     ]
    }
   ],
   "source": [
    "batch_size = 16\n",
    "ds = tf.data.Dataset.from_tensor_slices((x_train, y_true_train))\n",
    "ds = ds.shuffle(len(df))\n",
    "ds = ds.batch(batch_size)\n",
    "\n",
    "for x, y_true in ds:\n",
    "    print('x={} x.shape={}'.format(x.numpy().flatten(), x.shape))\n",
    "    print('y={} y_true.shape={}'.format(y_true.numpy().flatten(), y_true.shape))\n",
    "    break\n"
   ]
  },
  {
   "cell_type": "markdown",
   "metadata": {},
   "source": [
    "## Definición del modelo"
   ]
  },
  {
   "cell_type": "code",
   "execution_count": 5,
   "metadata": {},
   "outputs": [],
   "source": [
    "class LogReg(Model):\n",
    "\n",
    "  def __init__(self):\n",
    "    super(LogReg, self).__init__()\n",
    "    self.fc = Dense(1, activation=tf.nn.sigmoid)\n",
    "\n",
    "  def call(self, x):\n",
    "    return self.fc(x)"
   ]
  },
  {
   "cell_type": "markdown",
   "metadata": {},
   "source": [
    "### Quiz 2\n",
    "\n",
    "¿Qué modelo sencillo podríamos usar para realizar clasificación de las tres clases?"
   ]
  },
  {
   "cell_type": "markdown",
   "metadata": {},
   "source": [
    "## Definición de pérdida y optimizador"
   ]
  },
  {
   "cell_type": "code",
   "execution_count": 6,
   "metadata": {},
   "outputs": [],
   "source": [
    "loss_fn = tf.keras.losses.BinaryCrossentropy()\n",
    "optimizer = tf.keras.optimizers.SGD(learning_rate=0.1)\n"
   ]
  },
  {
   "cell_type": "markdown",
   "metadata": {},
   "source": [
    "### Quiz 3\n",
    "\n",
    "¿Qué función de pérdida podríamos usar para realizar clasificación de las tres clases?"
   ]
  },
  {
   "cell_type": "markdown",
   "metadata": {},
   "source": [
    "## Definición de métricas\n",
    "\n",
    "Las clases dentro de `tf.keras.metrics` están diseñadas para mantener un histórico de una métrica a lo largo de los pasas de entrenamiento y agregarlo (con el promedio por ejemplo) para obtener el desempeño de la métrica a nivel epoca."
   ]
  },
  {
   "cell_type": "code",
   "execution_count": 7,
   "metadata": {},
   "outputs": [],
   "source": [
    "# historial de pérdidas\n",
    "train_loss = tf.keras.metrics.BinaryCrossentropy()\n",
    "# historial de exactitudes\n",
    "train_acc = tf.keras.metrics.BinaryAccuracy()"
   ]
  },
  {
   "cell_type": "markdown",
   "metadata": {},
   "source": [
    "### Quiz 4\n",
    "\n",
    "¿Cómo se define la exactitud?\n"
   ]
  },
  {
   "cell_type": "markdown",
   "metadata": {},
   "source": [
    "## Entrenamiento"
   ]
  },
  {
   "cell_type": "code",
   "execution_count": 8,
   "metadata": {},
   "outputs": [
    {
     "name": "stdout",
     "output_type": "stream",
     "text": [
      "E  0 loss= 71.09, acc= 46.00\n",
      "E  1 loss= 66.30, acc= 50.00\n",
      "E  2 loss= 62.66, acc= 52.00\n",
      "E  3 loss= 59.70, acc= 56.00\n",
      "E  4 loss= 57.15, acc= 71.00\n",
      "E  5 loss= 54.88, acc= 84.00\n",
      "E  6 loss= 52.81, acc= 88.00\n",
      "E  7 loss= 50.89, acc= 91.00\n",
      "E  8 loss= 49.10, acc= 91.00\n",
      "E  9 loss= 47.42, acc= 94.00\n",
      "E 10 loss= 45.84, acc= 98.00\n",
      "E 11 loss= 44.35, acc= 98.00\n",
      "E 12 loss= 42.94, acc= 98.00\n",
      "E 13 loss= 41.61, acc= 98.00\n",
      "E 14 loss= 40.34, acc= 99.00\n",
      "E 15 loss= 39.15, acc= 99.00\n",
      "E 16 loss= 38.01, acc= 99.00\n",
      "E 17 loss= 36.93, acc= 99.00\n",
      "E 18 loss= 35.91, acc= 99.00\n",
      "E 19 loss= 34.94, acc= 99.00\n"
     ]
    }
   ],
   "source": [
    "model = LogReg()\n",
    "\n",
    "epochs = 20\n",
    "\n",
    "for epoch in range(epochs):\n",
    "    \n",
    "    for x, y_true in ds:\n",
    "        \n",
    "        with tf.GradientTape() as tape:\n",
    "            y_pred = model(x)\n",
    "            loss = loss_fn(y_true, y_pred)            \n",
    "        \n",
    "        gradients = tape.gradient(loss, model.trainable_variables)\n",
    "        optimizer.apply_gradients(zip(gradients, model.trainable_variables))\n",
    "\n",
    "        train_loss(y_true, y_pred)\n",
    "        train_acc(y_true, y_pred)\n",
    "    \n",
    "    loss = train_loss.result() * 100\n",
    "    acc = train_acc.result() * 100\n",
    "    train_loss.reset_states()\n",
    "    train_acc.reset_states()\n",
    "\n",
    "    print('E{:3d} loss={:6.2f}, acc={:6.2f}'.format(epoch, loss, acc))        "
   ]
  },
  {
   "cell_type": "markdown",
   "metadata": {},
   "source": [
    "## Inferencia"
   ]
  },
  {
   "cell_type": "code",
   "execution_count": 9,
   "metadata": {
    "scrolled": true
   },
   "outputs": [
    {
     "data": {
      "image/png": "[encoded data removed]",
      "text/plain": [
       "<Figure size 432x288 with 1 Axes>"
      ]
     },
     "metadata": {
      "needs_background": "light"
     },
     "output_type": "display_data"
    }
   ],
   "source": [
    "w, b = model.trainable_variables\n",
    "w, b = w.numpy()[0][0], b.numpy()[0]\n",
    "sigmoid = lambda x: (1 / (1 + np.exp(-x)))\n",
    "x_model = np.linspace(x_train[:100].min(), x_train[:100].max(), 100)[..., np.newaxis]\n",
    "y_model = sigmoid(x_model * w + b)\n",
    "plt.plot(x_train[:50], y_true_train[:50], '.', label='Iris-setosa')\n",
    "plt.plot(x_train[50:], y_true_train[50:], '.', label='Iris-versicolor')\n",
    "plt.plot(x_model, y_model, label='logreg')\n",
    "plt.xlabel('ancho pétalo')\n",
    "plt.ylabel('clase')\n",
    "plt.legend(loc='lower right')\n",
    "plt.show()"
   ]
  },
  {
   "cell_type": "markdown",
   "metadata": {},
   "source": [
    "### Quiz 5\n",
    "\n",
    "¿Qué pasaría con la pérdida, la exactitud y la gráfica de la función sigmoide si entrenamos durante 100 épocas?"
   ]
  }
 ],
 "metadata": {
  "kernelspec": {
   "display_name": "Python 3",
   "language": "python",
   "name": "python3"
  },
  "language_info": {
   "codemirror_mode": {
    "name": "ipython",
    "version": 3
   },
   "file_extension": ".py",
   "mimetype": "text/x-python",
   "name": "python",
   "nbconvert_exporter": "python",
   "pygments_lexer": "ipython3",
   "version": "3.6.8"
  }
 },
 "nbformat": 4,
 "nbformat_minor": 2
}
