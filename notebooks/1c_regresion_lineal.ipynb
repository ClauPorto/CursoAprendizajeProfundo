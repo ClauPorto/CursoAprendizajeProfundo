{
 "cells": [
  {
   "cell_type": "markdown",
   "metadata": {},
   "source": [
    "# Regresión lineal simple\n",
    "\n",
    "#### <div style=\"text-align: right\">Berenice Montalvo Lezama</div>\n",
    "\n",
    "[TensorFlow](https://www.tensorflow.org/beta) es una biblioteca de software de código abierto para la implementación eficiente, rápida y sencilla de redes neuronales profundas. En este curso se utilizará la version TensorFlow 2.0. Beta.\n",
    "\n",
    "Para comenzar a familiarizarnos con TensorFlow implementaremos un modelo de regresión lineal simple sobre un conjunto de datos de calificaciones, lo que deseamos predecir es que calificación tendrá el alumno en un examen. El conjunto de datos posee dos atributos entrada: la calificación que obtuvo en un examen previo y el número de horas que estudio el alumno para presentar el examen. En este ejemplo nos enfocaremos en realizar regresion lineal univariada, por lo tanto, consideraremos únicamente un atributo de entrada, el número de horas de estudio.\n",
    "\n",
    "\n"
   ]
  },
  {
   "cell_type": "code",
   "execution_count": 1,
   "metadata": {},
   "outputs": [],
   "source": [
    "import matplotlib.pyplot as plt\n",
    "import numpy as np\n",
    "import pandas as pd\n",
    "import tensorflow as tf\n",
    "from tensorflow.keras.layers import Dense\n",
    "from tensorflow.keras import Model\n",
    "\n",
    "# para reproducibilidad\n",
    "tf.random.set_seed(2019)"
   ]
  },
  {
   "cell_type": "markdown",
   "metadata": {},
   "source": [
    "## Carga de datos\n",
    "\n",
    "Utilizamos [Pandas](https://pandas.pydata.org/) para la lectura del csv e imprimimos los primeros 5 ejemplos.\n"
   ]
  },
  {
   "cell_type": "code",
   "execution_count": 2,
   "metadata": {},
   "outputs": [
    {
     "data": {
      "text/html": [
       "<div>\n",
       "<style scoped>\n",
       "    .dataframe tbody tr th:only-of-type {\n",
       "        vertical-align: middle;\n",
       "    }\n",
       "\n",
       "    .dataframe tbody tr th {\n",
       "        vertical-align: top;\n",
       "    }\n",
       "\n",
       "    .dataframe thead th {\n",
       "        text-align: right;\n",
       "    }\n",
       "</style>\n",
       "<table border=\"1\" class=\"dataframe\">\n",
       "  <thead>\n",
       "    <tr style=\"text-align: right;\">\n",
       "      <th></th>\n",
       "      <th>calif anterior</th>\n",
       "      <th>horas de estudio</th>\n",
       "      <th>calificación</th>\n",
       "    </tr>\n",
       "  </thead>\n",
       "  <tbody>\n",
       "    <tr>\n",
       "      <th>0</th>\n",
       "      <td>5.638</td>\n",
       "      <td>8.289</td>\n",
       "      <td>5.136</td>\n",
       "    </tr>\n",
       "    <tr>\n",
       "      <th>1</th>\n",
       "      <td>6.744</td>\n",
       "      <td>9.389</td>\n",
       "      <td>5.931</td>\n",
       "    </tr>\n",
       "    <tr>\n",
       "      <th>2</th>\n",
       "      <td>5.136</td>\n",
       "      <td>10.060</td>\n",
       "      <td>5.484</td>\n",
       "    </tr>\n",
       "    <tr>\n",
       "      <th>3</th>\n",
       "      <td>5.748</td>\n",
       "      <td>10.421</td>\n",
       "      <td>6.524</td>\n",
       "    </tr>\n",
       "    <tr>\n",
       "      <th>4</th>\n",
       "      <td>7.136</td>\n",
       "      <td>10.434</td>\n",
       "      <td>6.770</td>\n",
       "    </tr>\n",
       "  </tbody>\n",
       "</table>\n",
       "</div>"
      ],
      "text/plain": [
       "   calif anterior  horas de estudio  calificación\n",
       "0           5.638             8.289         5.136\n",
       "1           6.744             9.389         5.931\n",
       "2           5.136            10.060         5.484\n",
       "3           5.748            10.421         6.524\n",
       "4           7.136            10.434         6.770"
      ]
     },
     "execution_count": 2,
     "metadata": {},
     "output_type": "execute_result"
    }
   ],
   "source": [
    "df = pd.read_csv('../data/califs/califs.csv', names=['calif anterior','horas de estudio','calificación'])\n",
    "df.head(5)"
   ]
  },
  {
   "cell_type": "markdown",
   "metadata": {},
   "source": [
    "Graficamos los datos tener una idea más clara de como se encuentran distribuidos."
   ]
  },
  {
   "cell_type": "code",
   "execution_count": 3,
   "metadata": {
    "scrolled": true
   },
   "outputs": [
    {
     "data": {
      "image/png": "[encoded data removed]",
      "text/plain": [
       "<Figure size 432x288 with 1 Axes>"
      ]
     },
     "metadata": {
      "needs_background": "light"
     },
     "output_type": "display_data"
    }
   ],
   "source": [
    "# se obtiene el atributo de entrada y se agrega una dimensión\n",
    "x_train = np.array(df.iloc[:,1])[..., np.newaxis]\n",
    "# se obtiene la salda\n",
    "y_true_train = np.array(df.iloc[:,-1])[..., np.newaxis]\n",
    "# graficamos\n",
    "plt.plot(x_train, y_true_train, '.', color='green')\n",
    "plt.xlabel('horas de estudio')\n",
    "plt.ylabel('calificación')\n",
    "plt.show()"
   ]
  },
  {
   "cell_type": "markdown",
   "metadata": {},
   "source": [
    "Utilizamos el API [tf.data](https://www.tensorflow.org/beta/guide/data_performance) de Tensorflow que nos permite crear tuberias de procesamiento de datos flexibles y eficientes. Para nuestro ejemplo, el proceso se describe mediante los siguientes pasos:\n",
    "\n",
    "A) Los vectores de entrada y la salida pasan a `from_tensor_slices(·)` para obtener una matriz de parejas entrada-salida.\n",
    "\n",
    "B) Las parejas entrada-salida pasan a `shuffle(·)` para ser barajeadas.\n",
    "\n",
    "C) La salida del paso B pasa a `batch(·)` para particionar en lotes de entrenamiento.\n",
    "\n",
    "La siguiente figura ilustra el proceso:"
   ]
  },
  {
   "cell_type": "markdown",
   "metadata": {},
   "source": [
    "![alt text](../figs/pipeline.png \"Title\")"
   ]
  },
  {
   "cell_type": "code",
   "execution_count": 4,
   "metadata": {},
   "outputs": [
    {
     "name": "stderr",
     "output_type": "stream",
     "text": [
      "WARNING: Logging before flag parsing goes to stderr.\n",
      "W0825 15:02:16.128530 140051829479232 deprecation.py:323] From /home/bere/.virtualenvs/cap/lib/python3.6/site-packages/tensorflow/python/data/util/random_seed.py:58: add_dispatch_support.<locals>.wrapper (from tensorflow.python.ops.array_ops) is deprecated and will be removed in a future version.\n",
      "Instructions for updating:\n",
      "Use tf.where in 2.0, which has the same broadcast rule as np.where\n"
     ]
    }
   ],
   "source": [
    "batch_size = 8\n",
    "# creamos un Dataset de los dos vectores de entrada y salida\n",
    "ds = tf.data.Dataset.from_tensor_slices((x_train, y_true_train))\n",
    "# se barajean\n",
    "ds = ds.shuffle(len(df))\n",
    "# particionamos en lotes de entrenamiento\n",
    "ds = ds.batch(batch_size)"
   ]
  },
  {
   "cell_type": "markdown",
   "metadata": {},
   "source": [
    "Para ver el funcionamiento de la tubería de datos imprimimos la forma de cada lote y su primer elemento."
   ]
  },
  {
   "cell_type": "code",
   "execution_count": 5,
   "metadata": {},
   "outputs": [
    {
     "name": "stdout",
     "output_type": "stream",
     "text": [
      "(8, 1) (8, 1)\n",
      "[13.026] [7.992]\n",
      "(8, 1) (8, 1)\n",
      "[13.99] [8.38]\n",
      "(8, 1) (8, 1)\n",
      "[12.814] [7.737]\n",
      "(8, 1) (8, 1)\n",
      "[10.421] [6.524]\n",
      "(8, 1) (8, 1)\n",
      "[10.768] [7.236]\n",
      "(8, 1) (8, 1)\n",
      "[10.437] [6.039]\n",
      "(2, 1) (2, 1)\n",
      "[10.46] [6.871]\n"
     ]
    }
   ],
   "source": [
    "# iteramos sobre los lotes\n",
    "for x, y_true in ds:\n",
    "    # imprimimoos las dimensiones del atributo de entrada X y la salida Y\n",
    "    print(x.shape, y_true.shape)\n",
    "    # imprimimos el primer elemento de cada lote\n",
    "    print(x[0].numpy(), y_true[0].numpy())"
   ]
  },
  {
   "cell_type": "markdown",
   "metadata": {},
   "source": [
    "### Quiz 1\n",
    "\n",
    "¿ Cuáles serían las dimensiones si consideraramos los dos atributos de entrada?"
   ]
  },
  {
   "cell_type": "markdown",
   "metadata": {},
   "source": [
    "## Definición del modelo\n"
   ]
  },
  {
   "cell_type": "code",
   "execution_count": 6,
   "metadata": {},
   "outputs": [],
   "source": [
    "#se define la clase RegLin que hereda de tensorflow.keras.Moldel\n",
    "class RegLin(Model):\n",
    "\n",
    "  #se define el inicializador\n",
    "  def __init__(self):\n",
    "    # se llama al inicializador de la clase padre\n",
    "    super(RegLin, self).__init__()\n",
    "    # importante: se definen las capas como atributos de la clase\n",
    "    self.fc = Dense(1)\n",
    "\n",
    "  def call(self, x):\n",
    "    # se realiza inferencia y definición de arquitectura al vuelo\n",
    "    return self.fc(x)"
   ]
  },
  {
   "cell_type": "markdown",
   "metadata": {},
   "source": [
    "### Quiz 2\n",
    "\n",
    "¿Cómo podríamos dibujar la regresión lineal como una red neuronal?"
   ]
  },
  {
   "cell_type": "markdown",
   "metadata": {},
   "source": [
    "## Definición de la función perdida\n",
    "\n",
    "Se define el error cuadrático medio como función de pérdida.\n",
    "\n",
    "![alt text](../figs/ecm.png)"
   ]
  },
  {
   "cell_type": "code",
   "execution_count": 7,
   "metadata": {},
   "outputs": [],
   "source": [
    "loss_fn = tf.keras.losses.MeanSquaredError() "
   ]
  },
  {
   "cell_type": "markdown",
   "metadata": {},
   "source": [
    "Se define el gradiente descendente como optimizador y se le asigna una tasa de aprendizaje."
   ]
  },
  {
   "cell_type": "code",
   "execution_count": 8,
   "metadata": {},
   "outputs": [],
   "source": [
    "optimizer = tf.keras.optimizers.SGD(learning_rate=0.001)"
   ]
  },
  {
   "cell_type": "markdown",
   "metadata": {},
   "source": [
    "## Entrenamiento\n",
    "\n",
    "El entrenamiento de un paso del modelo se ilustra con la siguiente figura:\n",
    "![alt text](../figs/model_graph.png \"Title\")"
   ]
  },
  {
   "cell_type": "markdown",
   "metadata": {},
   "source": [
    "Realizamos el entrenamiento de nuestro modelo durante dos epocas."
   ]
  },
  {
   "cell_type": "code",
   "execution_count": 9,
   "metadata": {},
   "outputs": [
    {
     "name": "stdout",
     "output_type": "stream",
     "text": [
      "0 83.66790771484375\n",
      "1 38.38032531738281\n",
      "2 18.23932456970215\n",
      "3 10.85606575012207\n",
      "4 4.825052261352539\n",
      "5 2.7994279861450195\n",
      "6 3.0154786109924316\n",
      "7 0.47831636667251587\n",
      "8 0.5141856074333191\n",
      "9 0.30160146951675415\n",
      "10 0.24179941415786743\n",
      "11 0.20257404446601868\n",
      "12 0.26961958408355713\n",
      "13 0.5222456455230713\n"
     ]
    }
   ],
   "source": [
    "# se crea una instacia de la clase\n",
    "model = RegLin()\n",
    "\n",
    "epochs = 2\n",
    "loss_history = []\n",
    "step = 0\n",
    "\n",
    "for _ in range(epochs):\n",
    "    \n",
    "    for x, y_true in ds:\n",
    "        \n",
    "        # utilizamos tf.GradientTape() para la autodiferenciación\n",
    "        # todo lo que este dentro del bloque de tape\n",
    "        # se usara para la retropropagación\n",
    "        with tf.GradientTape() as tape:\n",
    "            # inferencia\n",
    "            y_pred = model(x)\n",
    "            # cómputo de pérdida\n",
    "            loss = loss_fn(y_true, y_pred)\n",
    "        \n",
    "        # se calculan los gradientes\n",
    "        gradients = tape.gradient(loss, model.trainable_variables)\n",
    "        \n",
    "        # se optimiza el modelo\n",
    "        optimizer.apply_gradients(zip(gradients, model.trainable_variables))\n",
    "\n",
    "        print(step, loss.numpy())\n",
    "        loss_history.append(loss.numpy())\n",
    "        \n",
    "        step += 1"
   ]
  },
  {
   "cell_type": "markdown",
   "metadata": {},
   "source": [
    "Graficamos la pérdida para ver el comportamiento durante el entrenamiento."
   ]
  },
  {
   "cell_type": "code",
   "execution_count": 10,
   "metadata": {},
   "outputs": [
    {
     "data": {
      "image/png": "[encoded data removed]",
      "text/plain": [
       "<Figure size 432x288 with 1 Axes>"
      ]
     },
     "metadata": {
      "needs_background": "light"
     },
     "output_type": "display_data"
    }
   ],
   "source": [
    "plt.plot(np.arange(len(loss_history)), loss_history, color='red')\n",
    "plt.xlabel('iteraciones')\n",
    "plt.ylabel('ECM')\n",
    "plt.show()"
   ]
  },
  {
   "cell_type": "markdown",
   "metadata": {},
   "source": [
    "## Inferencia\n",
    "\n",
    "Graficamos nuestro modelo."
   ]
  },
  {
   "cell_type": "code",
   "execution_count": 11,
   "metadata": {},
   "outputs": [
    {
     "data": {
      "image/png": "[encoded data removed]",
      "text/plain": [
       "<Figure size 432x288 with 1 Axes>"
      ]
     },
     "metadata": {
      "needs_background": "light"
     },
     "output_type": "display_data"
    }
   ],
   "source": [
    "Y_pred = model(x_train)\n",
    "plt.plot(x_train, y_true_train, '.', color='green')\n",
    "plt.plot(x_train, Y_pred, color='blue')\n",
    "plt.xlabel('horas estudiadas')\n",
    "plt.ylabel('calificación obtenida')\n",
    "plt.show()"
   ]
  }
 ],
 "metadata": {
  "kernelspec": {
   "display_name": "Python 3",
   "language": "python",
   "name": "python3"
  },
  "language_info": {
   "codemirror_mode": {
    "name": "ipython",
    "version": 3
   },
   "file_extension": ".py",
   "mimetype": "text/x-python",
   "name": "python",
   "nbconvert_exporter": "python",
   "pygments_lexer": "ipython3",
   "version": "3.6.8"
  }
 },
 "nbformat": 4,
 "nbformat_minor": 2
}
