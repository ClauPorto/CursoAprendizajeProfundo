{
 "cells": [
  {
   "cell_type": "markdown",
   "metadata": {},
   "source": [
    "# Perceptrón multicapa\n",
    "\n",
    "#### <div style=\"text-align: right\"> Berenice Montalvo Lezama </div>\n",
    "\n",
    "En este ejemplo veremos como implementar un perceptrón multicapa para la tarea de clasificación de imágenes. Emplearemos un conjunto referencia llamado [MNIST](http://yann.lecun.com/exdb/mnist/) recolectado por [Yann LeCun](http://yann.lecun.com). Tiene imágenes en escala de grises de 28 × 28 píxeles que contienen dígitos entre 0 y 9 escritos a mano. El conjunto cuenta con 60,000 imágenes de entrenamiento y 10,000 de prueba.\n",
    "\n",
    "![Lecun](../figs/yan_lecun.png)\n"
   ]
  },
  {
   "cell_type": "markdown",
   "metadata": {},
   "source": [
    "## 1 Carga de datos\n",
    "\n",
    "Comenzaremos descargando y leyendo el conjunto de datos. Aprovecharemos que Tensorflow cuenta con utilerias en el paquete [`tf.keras.datasets`](https://www.tensorflow.org/versions/r2.0/api_docs/python/tf/keras/datasets) para descargar conjuntos de datos de referencia preprocesados."
   ]
  },
  {
   "cell_type": "code",
   "execution_count": 1,
   "metadata": {},
   "outputs": [],
   "source": [
    "try:\n",
    "  %tensorflow_version 2.x\n",
    "except Exception:\n",
    "  pass\n",
    "\n",
    "import os\n",
    "from datetime import datetime\n",
    "\n",
    "import matplotlib.pyplot as plt\n",
    "import numpy as np\n",
    "import pandas as pd\n",
    "import tensorflow as tf\n",
    "from tensorflow.keras.layers import Dense, Flatten\n",
    "from tensorflow.keras import Model\n",
    "\n",
    "tf.random.set_seed(2019)\n",
    "\n",
    "mnist = tf.keras.datasets.mnist\n",
    "(x_train, y_train), (x_test, y_test) = mnist.load_data()"
   ]
  },
  {
   "cell_type": "markdown",
   "metadata": {},
   "source": [
    "Una vez descargadas las imágenes, podemos visualizar algunas para ver cómo lucen."
   ]
  },
  {
   "cell_type": "code",
   "execution_count": 2,
   "metadata": {},
   "outputs": [
    {
     "data": {
      "image/png": "[encoded data removed]",
      "text/plain": [
       "<Figure size 360x432 with 9 Axes>"
      ]
     },
     "metadata": {},
     "output_type": "display_data"
    }
   ],
   "source": [
    "plt.figure(figsize=(5, 6))\n",
    "for i in range(1, 10):\n",
    "    plt.subplot(330 + i)\n",
    "    plt.xticks([])\n",
    "    plt.yticks([])\n",
    "    plt.imshow(x_train[5 * i], cmap='Greys')"
   ]
  },
  {
   "cell_type": "markdown",
   "metadata": {},
   "source": [
    "Ahora normalizamos las imágenes."
   ]
  },
  {
   "cell_type": "code",
   "execution_count": 3,
   "metadata": {},
   "outputs": [],
   "source": [
    "x_train, x_test = x_train / 255.0, x_test / 255.0\n",
    "y_train = y_train[..., tf.newaxis]\n",
    "y_test = y_test[..., tf.newaxis]\n",
    "x_train = tf.cast(x_train, tf.float32)\n",
    "x_test = tf.cast(x_test, tf.float32)"
   ]
  },
  {
   "cell_type": "markdown",
   "metadata": {},
   "source": [
    "Definimos nuestra tubería de datos para el conjunto de entrenamiento."
   ]
  },
  {
   "cell_type": "code",
   "execution_count": 4,
   "metadata": {},
   "outputs": [
    {
     "name": "stdout",
     "output_type": "stream",
     "text": [
      "WARNING:tensorflow:From /home/bere/.virtualenvs/tf2/lib/python3.6/site-packages/tensorflow_core/python/data/util/random_seed.py:58: where (from tensorflow.python.ops.array_ops) is deprecated and will be removed in a future version.\n",
      "Instructions for updating:\n",
      "Use tf.where in 2.0, which has the same broadcast rule as np.where\n",
      "x=[0. 0. 0. ... 0. 0. 0.] x.shape=(64, 28, 28)\n",
      "y_true=[2 6 0 7 8 7 5 7 7 4 4 4 3 2 3 7 7 6 3 7 0 3 1 3 1 6 1 3 1 0 6 4 9 9 4 0 5\n",
      " 9 8 8 0 9 2 1 6 1 3 0 7 6 7 0 1 8 7 7 1 7 3 7 9 7 0 3] y_true.shape=(64, 1)\n"
     ]
    }
   ],
   "source": [
    "batch_size = 64\n",
    "ds = tf.data.Dataset.from_tensor_slices((x_train, y_train))\n",
    "ds = ds.shuffle(60000)\n",
    "ds = ds.batch(batch_size)\n",
    "\n",
    "for x, y_true in ds:\n",
    "    print('x={} x.shape={}'.format(x.numpy().flatten(), x.shape))\n",
    "    print('y_true={} y_true.shape={}'.format(y_true.numpy().flatten(), y_true.shape))\n",
    "    break"
   ]
  },
  {
   "cell_type": "markdown",
   "metadata": {},
   "source": [
    "### Quiz 1\n",
    "\n",
    "¿Cúal es la función de activación adecuada para la capa de salida de una red neuronal para clasificación multiclase?"
   ]
  },
  {
   "cell_type": "markdown",
   "metadata": {},
   "source": [
    "## 2 Definición del modelo"
   ]
  },
  {
   "cell_type": "code",
   "execution_count": 5,
   "metadata": {},
   "outputs": [],
   "source": [
    "class MLP(Model):\n",
    "\n",
    "  def __init__(self):\n",
    "    super(MLP, self).__init__()\n",
    "    self.flatten = Flatten(name='flatten')\n",
    "    self.fc1 = Dense(128, name='hiden')\n",
    "    self.fc2 = Dense(10, name='output')\n",
    "\n",
    "  def call(self, x):\n",
    "    x = self.flatten(x)\n",
    "    x = self.fc1(x)\n",
    "    x = tf.nn.sigmoid(x)\n",
    "    x = self.fc2(x)\n",
    "    x = tf.nn.softmax(x)\n",
    "    return x"
   ]
  },
  {
   "cell_type": "code",
   "execution_count": 6,
   "metadata": {
    "scrolled": true
   },
   "outputs": [
    {
     "name": "stdout",
     "output_type": "stream",
     "text": [
      "Model: \"mlp\"\n",
      "_________________________________________________________________\n",
      "Layer (type)                 Output Shape              Param #   \n",
      "=================================================================\n",
      "flatten (Flatten)            multiple                  0         \n",
      "_________________________________________________________________\n",
      "hiden (Dense)                multiple                  100480    \n",
      "_________________________________________________________________\n",
      "output (Dense)               multiple                  1290      \n",
      "=================================================================\n",
      "Total params: 101,770\n",
      "Trainable params: 101,770\n",
      "Non-trainable params: 0\n",
      "_________________________________________________________________\n"
     ]
    }
   ],
   "source": [
    "model = MLP()\n",
    "model.build(input_shape=(None, 784))\n",
    "model.summary()"
   ]
  },
  {
   "cell_type": "markdown",
   "metadata": {},
   "source": [
    "### Quiz 2\n",
    "\n",
    "¿Comó sacamos las cuentitas del número de parámeros de las capas?"
   ]
  },
  {
   "cell_type": "markdown",
   "metadata": {},
   "source": [
    "### Quiz 3\n",
    "\n",
    "Si las clases fueran 100 en vez de 10 y quisera utilizar la misma arquitectura anterior ¿qué modificación tendría que realizar? "
   ]
  },
  {
   "cell_type": "markdown",
   "metadata": {},
   "source": [
    "### Definición de pérdida y optimizador"
   ]
  },
  {
   "cell_type": "code",
   "execution_count": 7,
   "metadata": {},
   "outputs": [],
   "source": [
    "loss_fn = tf.keras.losses.SparseCategoricalCrossentropy()\n",
    "optimizer = tf.keras.optimizers.SGD(learning_rate=1e-3)"
   ]
  },
  {
   "cell_type": "markdown",
   "metadata": {},
   "source": [
    "### Definición de métricas\n",
    "\n",
    "Las clases dentro de `tf.keras.metrics` están diseñadas para mantener un histórico de una métrica a lo largo de los pasas de entrenamiento y agregarlo (con el promedio por ejemplo) para obtener el desempeño de la métrica a nivel epoca."
   ]
  },
  {
   "cell_type": "code",
   "execution_count": 8,
   "metadata": {},
   "outputs": [],
   "source": [
    "# historiales a nivel época\n",
    "loss_epoch = tf.keras.metrics.SparseCategoricalCrossentropy()\n",
    "acc_epoch = tf.keras.metrics.SparseCategoricalAccuracy()"
   ]
  },
  {
   "cell_type": "markdown",
   "metadata": {},
   "source": [
    "## 3 Entrenamiento"
   ]
  },
  {
   "cell_type": "code",
   "execution_count": 9,
   "metadata": {},
   "outputs": [
    {
     "name": "stdout",
     "output_type": "stream",
     "text": [
      "Trainig model 190910-123201\n",
      "WARNING:tensorflow:Entity <function train_step at 0x7f5ccd5a5598> could not be transformed and will be executed as-is. Please report this to the AutoGraph team. When filing the bug, set the verbosity to 10 (on Linux, `export AUTOGRAPH_VERBOSITY=10`) and attach the full output. Cause: Bad argument number for Name: 3, expecting 4\n",
      "WARNING: Entity <function train_step at 0x7f5ccd5a5598> could not be transformed and will be executed as-is. Please report this to the AutoGraph team. When filing the bug, set the verbosity to 10 (on Linux, `export AUTOGRAPH_VERBOSITY=10`) and attach the full output. Cause: Bad argument number for Name: 3, expecting 4\n",
      "WARNING:tensorflow:Entity <bound method MLP.call of <__main__.MLP object at 0x7f5ccd586f98>> could not be transformed and will be executed as-is. Please report this to the AutoGraph team. When filing the bug, set the verbosity to 10 (on Linux, `export AUTOGRAPH_VERBOSITY=10`) and attach the full output. Cause: Bad argument number for Name: 3, expecting 4\n",
      "WARNING: Entity <bound method MLP.call of <__main__.MLP object at 0x7f5ccd586f98>> could not be transformed and will be executed as-is. Please report this to the AutoGraph team. When filing the bug, set the verbosity to 10 (on Linux, `export AUTOGRAPH_VERBOSITY=10`) and attach the full output. Cause: Bad argument number for Name: 3, expecting 4\n",
      "WARNING:tensorflow:Entity <function Function._initialize_uninitialized_variables.<locals>.initialize_variables at 0x7f5ccd5a5510> could not be transformed and will be executed as-is. Please report this to the AutoGraph team. When filing the bug, set the verbosity to 10 (on Linux, `export AUTOGRAPH_VERBOSITY=10`) and attach the full output. Cause: module 'gast' has no attribute 'Num'\n",
      "WARNING: Entity <function Function._initialize_uninitialized_variables.<locals>.initialize_variables at 0x7f5ccd5a5510> could not be transformed and will be executed as-is. Please report this to the AutoGraph team. When filing the bug, set the verbosity to 10 (on Linux, `export AUTOGRAPH_VERBOSITY=10`) and attach the full output. Cause: module 'gast' has no attribute 'Num'\n",
      "WARNING:tensorflow:Entity <bound method MLP.call of <__main__.MLP object at 0x7f5ccd586f98>> could not be transformed and will be executed as-is. Please report this to the AutoGraph team. When filing the bug, set the verbosity to 10 (on Linux, `export AUTOGRAPH_VERBOSITY=10`) and attach the full output. Cause: Bad argument number for Name: 3, expecting 4\n",
      "WARNING: Entity <bound method MLP.call of <__main__.MLP object at 0x7f5ccd586f98>> could not be transformed and will be executed as-is. Please report this to the AutoGraph team. When filing the bug, set the verbosity to 10 (on Linux, `export AUTOGRAPH_VERBOSITY=10`) and attach the full output. Cause: Bad argument number for Name: 3, expecting 4\n",
      "WARNING:tensorflow:Entity <bound method MLP.call of <__main__.MLP object at 0x7f5ccd586f98>> could not be transformed and will be executed as-is. Please report this to the AutoGraph team. When filing the bug, set the verbosity to 10 (on Linux, `export AUTOGRAPH_VERBOSITY=10`) and attach the full output. Cause: Bad argument number for Name: 3, expecting 4\n",
      "WARNING: Entity <bound method MLP.call of <__main__.MLP object at 0x7f5ccd586f98>> could not be transformed and will be executed as-is. Please report this to the AutoGraph team. When filing the bug, set the verbosity to 10 (on Linux, `export AUTOGRAPH_VERBOSITY=10`) and attach the full output. Cause: Bad argument number for Name: 3, expecting 4\n",
      "WARNING:tensorflow:Entity <bound method MLP.call of <__main__.MLP object at 0x7f5ccd586f98>> could not be transformed and will be executed as-is. Please report this to the AutoGraph team. When filing the bug, set the verbosity to 10 (on Linux, `export AUTOGRAPH_VERBOSITY=10`) and attach the full output. Cause: Bad argument number for Name: 3, expecting 4\n",
      "WARNING: Entity <bound method MLP.call of <__main__.MLP object at 0x7f5ccd586f98>> could not be transformed and will be executed as-is. Please report this to the AutoGraph team. When filing the bug, set the verbosity to 10 (on Linux, `export AUTOGRAPH_VERBOSITY=10`) and attach the full output. Cause: Bad argument number for Name: 3, expecting 4\n",
      "E 0 loss=227.99, acc= 19.75\n",
      "E 1 loss=212.42, acc= 47.60\n",
      "E 2 loss=201.15, acc= 58.60\n",
      "E 3 loss=190.41, acc= 64.68\n",
      "E 4 loss=180.13, acc= 68.01\n",
      "E 5 loss=170.33, acc= 70.20\n",
      "E 6 loss=161.02, acc= 71.96\n",
      "E 7 loss=152.25, acc= 73.45\n",
      "E 8 loss=144.07, acc= 74.98\n",
      "E 9 loss=136.47, acc= 75.97\n",
      "E10 loss=129.49, acc= 77.00\n",
      "E11 loss=123.09, acc= 77.99\n",
      "E12 loss=117.25, acc= 78.97\n",
      "E13 loss=111.92, acc= 79.62\n",
      "E14 loss=107.08, acc= 80.24\n",
      "E15 loss=102.68, acc= 80.91\n",
      "E16 loss= 98.67, acc= 81.40\n",
      "E17 loss= 95.02, acc= 81.84\n",
      "E18 loss= 91.67, acc= 82.34\n",
      "E19 loss= 88.62, acc= 82.74\n"
     ]
    }
   ],
   "source": [
    "#########################################################\n",
    "# se crea una marca de tiempo\n",
    "model_name = datetime.now().strftime('%y%m%d-%H%M%S')\n",
    "# se crea una ruta para almacenar las métricas\n",
    "train_dir = 'logs/{}/train'.format(model_name)\n",
    "# se crea un escritor\n",
    "train_writer = tf.summary.create_file_writer(train_dir)\n",
    "print(\"Trainig model {}\".format(model_name))\n",
    "\n",
    "##########################################################\n",
    "# decorador para producir la gráfica de cómputo estática\n",
    "@tf.function\n",
    "def train_step(x, y_true, model, loss_fn, optimizer):\n",
    "    with tf.GradientTape() as tape:\n",
    "        y_pred = model(x)\n",
    "        loss = loss_fn(y_true, y_pred)            \n",
    "    gradients = tape.gradient(loss, model.trainable_variables)\n",
    "    optimizer.apply_gradients(zip(gradients, model.trainable_variables))\n",
    "    return y_pred\n",
    "\n",
    "##########################################################\n",
    "# visualización de la gráfica en tensorboard\n",
    "# habilitamos el rastreo del flujo de cómputo para tensorboard\n",
    "tf.summary.trace_on()\n",
    "# se ejecuta el modelo\n",
    "train_step(x_train[0:1], y_train[0:1], model, loss_fn, optimizer) \n",
    "# activo el contexto del escritor\n",
    "with train_writer.as_default():\n",
    "    # exporto la gráfica\n",
    "    tf.summary.trace_export(model_name, 0)\n",
    "\n",
    "##########################################################\n",
    "# ciclo de entrenamiento\n",
    "epochs = 20\n",
    "for epoch in range(epochs):\n",
    "\n",
    "    for x, y_true in ds:\n",
    "        y_pred = train_step(x, y_true, model, loss_fn, optimizer)\n",
    "            \n",
    "        loss_epoch(y_true, y_pred)\n",
    "        acc_epoch(y_true, y_pred)\n",
    "\n",
    "    loss_val = loss_epoch.result().numpy() * 100\n",
    "    acc_val = acc_epoch.result().numpy() * 100\n",
    "    loss_epoch.reset_states()\n",
    "    acc_epoch.reset_states()\n",
    "    \n",
    "    # escribimos las métricas\n",
    "    with train_writer.as_default():\n",
    "        tf.summary.scalar('loss', loss_val, epoch)\n",
    "        tf.summary.scalar('acc', acc_val, epoch)\n",
    "\n",
    "    print('E{:2d} loss={:6.2f}, acc={:6.2f}'.format(epoch, loss_val, acc_val))"
   ]
  },
  {
   "cell_type": "markdown",
   "metadata": {},
   "source": [
    "## 4 Validación"
   ]
  },
  {
   "cell_type": "code",
   "execution_count": 10,
   "metadata": {},
   "outputs": [
    {
     "name": "stdout",
     "output_type": "stream",
     "text": [
      "83.74999761581421\n"
     ]
    }
   ],
   "source": [
    "y_pred_test = model(x_test)\n",
    "print(acc_epoch(y_test, y_pred_test).numpy() * 100)"
   ]
  },
  {
   "cell_type": "code",
   "execution_count": 11,
   "metadata": {},
   "outputs": [
    {
     "data": {
      "image/png": "[encoded data removed]",
      "text/plain": [
       "<Figure size 360x432 with 9 Axes>"
      ]
     },
     "metadata": {},
     "output_type": "display_data"
    }
   ],
   "source": [
    "plt.figure(figsize=(5, 6))\n",
    "for i in range(1, 10):\n",
    "    plt.subplot(330 + i)\n",
    "    plt.xticks([])\n",
    "    plt.yticks([])\n",
    "    plt.imshow(x_test[5*i], cmap='Greys')\n",
    "    plt.title(y_pred_test[5*i].numpy().argmax())"
   ]
  }
 ],
 "metadata": {
  "kernelspec": {
   "display_name": "Python 3",
   "language": "python",
   "name": "python3"
  },
  "language_info": {
   "codemirror_mode": {
    "name": "ipython",
    "version": 3
   },
   "file_extension": ".py",
   "mimetype": "text/x-python",
   "name": "python",
   "nbconvert_exporter": "python",
   "pygments_lexer": "ipython3",
   "version": "3.6.8"
  }
 },
 "nbformat": 4,
 "nbformat_minor": 4
}
