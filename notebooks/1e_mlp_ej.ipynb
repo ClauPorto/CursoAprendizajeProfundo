{
 "cells": [
  {
   "cell_type": "markdown",
   "metadata": {},
   "source": [
    "# Perceptrón multicapa: ejercicio\n",
    "\n",
    "#### <div style=\"text-align: right\"> Berenice Montalvo Lezama </div>\n",
    "\n",
    "En este ejercicio debes implementar un perceptrón multicapa para realizar la tarea de clasificación de imágenes sobre el conjunto de [CIFAR-100](https://www.cs.toronto.edu/~kriz/cifar.html).\n"
   ]
  }
 ],
 "metadata": {
  "kernelspec": {
   "display_name": "Python 3",
   "language": "python",
   "name": "python3"
  },
  "language_info": {
   "codemirror_mode": {
    "name": "ipython",
    "version": 3
   },
   "file_extension": ".py",
   "mimetype": "text/x-python",
   "name": "python",
   "nbconvert_exporter": "python",
   "pygments_lexer": "ipython3",
   "version": "3.6.8"
  }
 },
 "nbformat": 4,
 "nbformat_minor": 2
}
