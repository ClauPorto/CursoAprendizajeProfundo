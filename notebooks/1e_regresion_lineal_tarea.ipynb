{
 "cells": [
  {
   "cell_type": "markdown",
   "metadata": {},
   "source": [
    "<a href=\"https://colab.research.google.com/github/gibranfp/CursoAprendizajeProfundo/blob/master/notebooks/1c_regresion_lineal_ej.ipynb\" target=\"_parent\"><img src=\"https://colab.research.google.com/assets/colab-badge.svg\" alt=\"Open In Colab\"/></a>\n",
    "\n",
    "\n",
    "# Regresión lineal: tarea\n",
    "\n",
    "\n",
    "<div style=\"text-align: right\"> Bere et Richardt </div>\n",
    "\n",
    "---\n",
    "\n"
   ]
  },
  {
   "cell_type": "markdown",
   "metadata": {},
   "source": [
    "Entrena un modelo de regresión lineal que considere los dos atributos de entrada.\n",
    "\n",
    "* Modifica la carga de datos.\n",
    "* Grafica los datos en 3D.\n",
    "* Modifica la definición de la arquitectura usando la interfaz de alto y medio nivel.\n",
    "* Prueba distintos valores para los hiperparámetros.\n",
    "* Realiza una predicción con tu modelo entrenado para predecir la calificación que tendría un alumno si sabemos que estudió durante 12 horas para el examen y en un examen previo obtuvo 3 de calificación.\n",
    "* Discute las modificaciones que realizaste y las distintas configuraciones para los hiperparámetros que probaste."
   ]
  }
 ],
 "metadata": {
  "kernelspec": {
   "display_name": "Python 3",
   "language": "python",
   "name": "python3"
  },
  "language_info": {
   "codemirror_mode": {
    "name": "ipython",
    "version": 3
   },
   "file_extension": ".py",
   "mimetype": "text/x-python",
   "name": "python",
   "nbconvert_exporter": "python",
   "pygments_lexer": "ipython3",
   "version": "3.8.5"
  }
 },
 "nbformat": 4,
 "nbformat_minor": 4
}
