{
  "nbformat": 4,
  "nbformat_minor": 0,
  "metadata": {
    "colab": {
      "name": "1f_convolution.ipynb",
      "version": "0.3.2",
      "provenance": [],
      "collapsed_sections": [],
      "include_colab_link": true
    },
    "kernelspec": {
      "name": "python3",
      "display_name": "Python 3"
    }
  },
  "cells": [
    {
      "cell_type": "markdown",
      "metadata": {
        "id": "view-in-github",
        "colab_type": "text"
      },
      "source": [
        "<a href=\"https://colab.research.google.com/github/gibranfp/CursoAprendizajeProfundo/blob/master/notebooks/1f_convolution.ipynb\" target=\"_parent\"><img src=\"https://colab.research.google.com/assets/colab-badge.svg\" alt=\"Open In Colab\"/></a>"
      ]
    },
    {
      "cell_type": "code",
      "metadata": {
        "id": "jHwLDelamRFq",
        "colab_type": "code",
        "colab": {
          "base_uri": "https://localhost:8080/",
          "height": 35
        },
        "outputId": "8c680120-537d-402b-baed-3e2062bd255f"
      },
      "source": [
        "try:\n",
        "  %tensorflow_version 2.x\n",
        "except Exception:\n",
        "  pass\n",
        "\n",
        "import matplotlib.pyplot as plt\n",
        "import numpy as np\n",
        "import tensorflow as tf\n",
        "from sklearn.datasets import load_digits"
      ],
      "execution_count": 1,
      "outputs": [
        {
          "output_type": "stream",
          "text": [
            "TensorFlow 2.x selected.\n"
          ],
          "name": "stdout"
        }
      ]
    },
    {
      "cell_type": "markdown",
      "metadata": {
        "id": "W02429ROng15",
        "colab_type": "text"
      },
      "source": [
        "## Carga conjunto de datos de dígitos \n",
        "Vamos a cargar el conjunto de datos de díogitos usando la biblioteca `scikit-learn`:"
      ]
    },
    {
      "cell_type": "code",
      "metadata": {
        "id": "i8Sxl3zRoe7W",
        "colab_type": "code",
        "colab": {}
      },
      "source": [
        "digits = load_digits() \n",
        "zeros_ones = digits.target < 2\n",
        "data = digits.images[zeros_ones]\n",
        "labels = digits.target[zeros_ones]"
      ],
      "execution_count": 0,
      "outputs": []
    },
    {
      "cell_type": "markdown",
      "metadata": {
        "id": "ojbaHdaK-eo7",
        "colab_type": "text"
      },
      "source": [
        "Este conjuntos de datos está compuesto por imágenes de $8 \\times 8$ de los dígitos $0-9$. Visualicemos 2 instancias de los dígitos $0$ y $1$:"
      ]
    },
    {
      "cell_type": "code",
      "metadata": {
        "id": "eIw_VqNVeck3",
        "colab_type": "code",
        "outputId": "04168f00-2f68-486c-a17b-464050b2d056",
        "colab": {
          "base_uri": "https://localhost:8080/",
          "height": 319
        }
      },
      "source": [
        "fig, axs = plt.subplots(1, 2, figsize=(10, 5))\n",
        "axs[0].imshow(data[0], cmap = 'gray') \n",
        "plt.title('Ejemplo de dígito 0')\n",
        "axs[1].imshow(data[1], cmap = 'gray') \n",
        "plt.title('Ejemplo de dígito 1')\n",
        "plt.show() "
      ],
      "execution_count": 3,
      "outputs": [
        {
          "output_type": "display_data",
          "data": {
            "image/png": "[encoded data removed]",
            "text/plain": [
              "<Figure size 720x360 with 2 Axes>"
            ]
          },
          "metadata": {
            "tags": []
          }
        }
      ]
    },
    {
      "cell_type": "markdown",
      "metadata": {
        "id": "P6QRdNNaCmc8",
        "colab_type": "text"
      },
      "source": [
        "## Operación de correlación cruzada\n",
        "Ahora consideremos la operación de correlación cruzada entre una imagen $I$ y un filtro $W$:\n",
        "\n",
        "$$\n",
        "A(i,j) = (I * W)(i,j) = \\sum_m \\sum_n I(i + m, j + n) W(m,n) \n",
        "$$\n",
        "\n",
        "La correlación cruzada es una operación similar a la convolución pero sin voltear el filtro. Muchas bibliotecas ocupan la operación de correlación cruzada para implementar las capas convolucionales en lugar de la convolución."
      ]
    },
    {
      "cell_type": "code",
      "metadata": {
        "id": "JK60sSz6pMgk",
        "colab_type": "code",
        "colab": {}
      },
      "source": [
        "def conv2d(I, W, b, stride = 1):\n",
        "  h_s = int(np.ceil(float(I.shape[0] - W.shape[0]) / float(stride) + 1))\n",
        "  w_s = int(np.ceil(float(I.shape[1] - W.shape[1]) / float(stride) + 1))\n",
        "  a = np.zeros((h_s, w_s))\n",
        "  for i in range(h_s):\n",
        "    for j in range(w_s):\n",
        "      I_m = I[i * stride:i * stride + W.shape[0], j * stride:j * stride + W.shape[1]]\n",
        "      a[i, j] = (I_m * W).sum()\n",
        "                  \n",
        "  return a"
      ],
      "execution_count": 0,
      "outputs": []
    },
    {
      "cell_type": "markdown",
      "metadata": {
        "id": "RY9UBGoqhCDR",
        "colab_type": "text"
      },
      "source": [
        "## Filtro\n",
        "\n",
        "Definamos un filtro de $3 \\times 3$ que detecte bordes en cierta orientación:"
      ]
    },
    {
      "cell_type": "code",
      "metadata": {
        "id": "26O7xja9hDYM",
        "colab_type": "code",
        "outputId": "a9e59d88-699d-4f85-9283-2cc7c125791d",
        "colab": {
          "base_uri": "https://localhost:8080/",
          "height": 269
        }
      },
      "source": [
        "filter = np.zeros((3,3))\n",
        "np.fill_diagonal(filter, [1, 1, 1])\n",
        "plt.imshow(filter, cmap = 'gray') \n",
        "plt.show()"
      ],
      "execution_count": 9,
      "outputs": [
        {
          "output_type": "display_data",
          "data": {
            "image/png": "[encoded data removed]",
            "text/plain": [
              "<Figure size 432x288 with 1 Axes>"
            ]
          },
          "metadata": {
            "tags": []
          }
        }
      ]
    },
    {
      "cell_type": "markdown",
      "metadata": {
        "id": "xYS40PWxH7Su",
        "colab_type": "text"
      },
      "source": [
        "Aplicando las operaciones de correlación cruzada y convolución de una imagen del dígito $0$ con dicho filtro y al revés obtenemos:"
      ]
    },
    {
      "cell_type": "code",
      "metadata": {
        "id": "JoyByBCuhK2Y",
        "colab_type": "code",
        "outputId": "14577e3c-9ab7-4a07-9da2-dff40282f6f7",
        "colab": {
          "base_uri": "https://localhost:8080/",
          "height": 131
        }
      },
      "source": [
        "from scipy import signal\n",
        "ccorr = signal.correlate2d(data[0], filter, mode = 'valid')\n",
        "ccorr2 = signal.correlate2d(filter, data[0], mode = 'valid') \n",
        "conv = signal.convolve2d(data[0], filter, mode = 'valid') \n",
        "conv2 = signal.convolve2d(filter, data[0], mode = 'valid') \n",
        "a = conv2d(data[0], filter, 0)\n",
        "fig, axs = plt.subplots(1, 6, figsize=(10, 5))\n",
        "axs[0].imshow(data[0], cmap = 'gray') \n",
        "axs[1].imshow(ccorr, cmap = 'gray') \n",
        "axs[2].imshow(ccorr2, cmap = 'gray') \n",
        "axs[3].imshow(conv, cmap = 'gray') \n",
        "axs[4].imshow(conv2, cmap = 'gray') \n",
        "axs[5].imshow(a, cmap = 'gray') \n",
        "plt.show()"
      ],
      "execution_count": 10,
      "outputs": [
        {
          "output_type": "display_data",
          "data": {
            "image/png": "[encoded data removed]",
            "text/plain": [
              "<Figure size 720x360 with 6 Axes>"
            ]
          },
          "metadata": {
            "tags": []
          }
        }
      ]
    },
    {
      "cell_type": "markdown",
      "metadata": {
        "id": "H9BE4QqWIX3W",
        "colab_type": "text"
      },
      "source": [
        "Observa que el resultado de la correlación cruzada de la imagen con el filtro es diferente al del filtro con la imagen. En contraste, la convolución es conmutativa y produce el mismo resultado en ambos casos.\n",
        "\n",
        "Haciendo lo mismo para una imagen del dígito $1$:"
      ]
    },
    {
      "cell_type": "code",
      "metadata": {
        "id": "OlX6n1YgA6p0",
        "colab_type": "code",
        "outputId": "2105d85c-65b6-40df-b955-65b6414da06e",
        "colab": {
          "base_uri": "https://localhost:8080/",
          "height": 131
        }
      },
      "source": [
        "corr = signal.correlate2d(data[1], filter, mode = 'valid')\n",
        "corr2 = signal.correlate2d(filter, data[1], mode = 'valid') \n",
        "conv = signal.convolve2d(data[1], filter, mode = 'valid') \n",
        "conv2 = signal.convolve2d(filter, data[1], mode = 'valid') \n",
        "a = conv2d(data[1], filter, 0)\n",
        "fig, axs = plt.subplots(1, 6, figsize=(10, 5))\n",
        "axs[0].imshow(data[1], cmap = 'gray') \n",
        "axs[1].imshow(corr, cmap = 'gray') \n",
        "axs[2].imshow(corr2, cmap = 'gray') \n",
        "axs[3].imshow(conv, cmap = 'gray') \n",
        "axs[4].imshow(conv2, cmap = 'gray') \n",
        "axs[5].imshow(a, cmap = 'gray') \n",
        "plt.show()"
      ],
      "execution_count": 12,
      "outputs": [
        {
          "output_type": "display_data",
          "data": {
            "image/png": "[encoded data removed]",
            "text/plain": [
              "<Figure size 720x360 with 6 Axes>"
            ]
          },
          "metadata": {
            "tags": []
          }
        }
      ]
    }
  ]
}