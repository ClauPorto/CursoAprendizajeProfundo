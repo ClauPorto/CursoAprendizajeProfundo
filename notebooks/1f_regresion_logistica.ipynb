{
 "cells": [
  {
   "cell_type": "markdown",
   "metadata": {},
   "source": [
    "<a href=\"https://colab.research.google.com/github/gibranfp/CursoAprendizajeProfundo/blob/master/notebooks/1f_regresion_logistica.ipynb\" target=\"_parent\"><img src=\"https://colab.research.google.com/assets/colab-badge.svg\" alt=\"Open In Colab\"/></a>"
   ]
  },
  {
   "cell_type": "markdown",
   "metadata": {},
   "source": [
    "# Regresión logística\n",
    "\n",
    "<div style=\"text-align: right\"> Bere et Richardt </div>\n",
    "\n",
    "---\n",
    "\n",
    "En este ejemplo veremos como implementar regresión logisitica para un atributo. Este modelo se puede ver como la forma más simple de una red neuronal para clasificación, por lo que es importante comprenderlo a profundidad.\n"
   ]
  },
  {
   "cell_type": "markdown",
   "metadata": {},
   "source": [
    "## 1 Preparación\n",
    "\n",
    "### 1.1 Bibliotecas"
   ]
  },
  {
   "cell_type": "code",
   "execution_count": 1,
   "metadata": {},
   "outputs": [
    {
     "data": {
      "text/plain": [
       "<torch._C.Generator at 0x7facfb05c348>"
      ]
     },
     "execution_count": 1,
     "metadata": {},
     "output_type": "execute_result"
    }
   ],
   "source": [
    "# sistema de archivos\n",
    "import os\n",
    "# tomar n elementos de una secuencia\n",
    "from itertools import islice as take\n",
    "\n",
    "# gráficas\n",
    "import matplotlib.pyplot as plt\n",
    "# arreglos multidimensionales\n",
    "import numpy as np\n",
    "# csv\n",
    "import pandas as pd\n",
    "\n",
    "# redes neuronales\n",
    "import torch\n",
    "import torch.nn as nn\n",
    "import torch.nn.functional as F\n",
    "import torch.optim as optim\n",
    "from torch.utils.data import DataLoader\n",
    "from torchvision.datasets.utils import download_url\n",
    "\n",
    "\n",
    "# directorio de datos\n",
    "URL = 'https://raw.githubusercontent.com/gibranfp/CursoAprendizajeProfundo/master/data/iris/iris.csv'\n",
    "base_dir = '../data/iris/'\n",
    "filename = 'iris.csv'\n",
    "filepath = os.path.join(base_dir, 'iris.csv')\n",
    "\n",
    "\n",
    "# para reproducibilidad\n",
    "SEED = 1\n",
    "torch.manual_seed(SEED)"
   ]
  },
  {
   "cell_type": "markdown",
   "metadata": {},
   "source": [
    "## 2 Datos\n",
    "\n",
    "Emplearemos un conjunto referencia llamado Iris recolectado por Ronald Fisher (sí, el mismo del algoritmo de barajeo de Fisher-Yates). Este conjunto tiene cuatro atributos de entrada: los anchos y largos de los pétalos y sépalos; y tres clases de flor iris de salida: setosa, versicolour, virginica.\n",
    "\n",
    "![Pétalo y sépalo](../figs/iris.png)\n",
    "<center>Fuente: Suruchi Fialoke, October 13, 2016, Classification of Iris Varieties</center>\n",
    "\n",
    "Este conjunto tiene 50 muestras de cada clase, leamoslo e imprimamos las primeras cinco de cada clase.\n",
    "\n"
   ]
  },
  {
   "cell_type": "markdown",
   "metadata": {},
   "source": [
    "Descargamos los datos para el caso de Colab."
   ]
  },
  {
   "cell_type": "code",
   "execution_count": 2,
   "metadata": {},
   "outputs": [
    {
     "name": "stdout",
     "output_type": "stream",
     "text": [
      "Using downloaded and verified file: ../data/iris/iris.csv\n"
     ]
    }
   ],
   "source": [
    "download_url(URL, base_dir, filename)"
   ]
  },
  {
   "cell_type": "code",
   "execution_count": 3,
   "metadata": {
    "scrolled": true
   },
   "outputs": [
    {
     "data": {
      "text/html": [
       "<div>\n",
       "<style scoped>\n",
       "    .dataframe tbody tr th:only-of-type {\n",
       "        vertical-align: middle;\n",
       "    }\n",
       "\n",
       "    .dataframe tbody tr th {\n",
       "        vertical-align: top;\n",
       "    }\n",
       "\n",
       "    .dataframe thead th {\n",
       "        text-align: right;\n",
       "    }\n",
       "</style>\n",
       "<table border=\"1\" class=\"dataframe\">\n",
       "  <thead>\n",
       "    <tr style=\"text-align: right;\">\n",
       "      <th></th>\n",
       "      <th>largo sépalo</th>\n",
       "      <th>ancho sépalo</th>\n",
       "      <th>largo pétalo</th>\n",
       "      <th>ancho pétalo</th>\n",
       "      <th>clase</th>\n",
       "    </tr>\n",
       "  </thead>\n",
       "  <tbody>\n",
       "    <tr>\n",
       "      <th>1</th>\n",
       "      <td>4.9</td>\n",
       "      <td>3.0</td>\n",
       "      <td>1.4</td>\n",
       "      <td>0.2</td>\n",
       "      <td>Iris-setosa</td>\n",
       "    </tr>\n",
       "    <tr>\n",
       "      <th>2</th>\n",
       "      <td>4.7</td>\n",
       "      <td>3.2</td>\n",
       "      <td>1.3</td>\n",
       "      <td>0.2</td>\n",
       "      <td>Iris-setosa</td>\n",
       "    </tr>\n",
       "    <tr>\n",
       "      <th>3</th>\n",
       "      <td>4.6</td>\n",
       "      <td>3.1</td>\n",
       "      <td>1.5</td>\n",
       "      <td>0.2</td>\n",
       "      <td>Iris-setosa</td>\n",
       "    </tr>\n",
       "    <tr>\n",
       "      <th>4</th>\n",
       "      <td>5.0</td>\n",
       "      <td>3.6</td>\n",
       "      <td>1.4</td>\n",
       "      <td>0.2</td>\n",
       "      <td>Iris-setosa</td>\n",
       "    </tr>\n",
       "    <tr>\n",
       "      <th>50</th>\n",
       "      <td>7.0</td>\n",
       "      <td>3.2</td>\n",
       "      <td>4.7</td>\n",
       "      <td>1.4</td>\n",
       "      <td>Iris-versicolor</td>\n",
       "    </tr>\n",
       "    <tr>\n",
       "      <th>51</th>\n",
       "      <td>6.4</td>\n",
       "      <td>3.2</td>\n",
       "      <td>4.5</td>\n",
       "      <td>1.5</td>\n",
       "      <td>Iris-versicolor</td>\n",
       "    </tr>\n",
       "    <tr>\n",
       "      <th>52</th>\n",
       "      <td>6.9</td>\n",
       "      <td>3.1</td>\n",
       "      <td>4.9</td>\n",
       "      <td>1.5</td>\n",
       "      <td>Iris-versicolor</td>\n",
       "    </tr>\n",
       "    <tr>\n",
       "      <th>53</th>\n",
       "      <td>5.5</td>\n",
       "      <td>2.3</td>\n",
       "      <td>4.0</td>\n",
       "      <td>1.3</td>\n",
       "      <td>Iris-versicolor</td>\n",
       "    </tr>\n",
       "    <tr>\n",
       "      <th>54</th>\n",
       "      <td>6.5</td>\n",
       "      <td>2.8</td>\n",
       "      <td>4.6</td>\n",
       "      <td>1.5</td>\n",
       "      <td>Iris-versicolor</td>\n",
       "    </tr>\n",
       "    <tr>\n",
       "      <th>100</th>\n",
       "      <td>6.3</td>\n",
       "      <td>3.3</td>\n",
       "      <td>6.0</td>\n",
       "      <td>2.5</td>\n",
       "      <td>Iris-virginica</td>\n",
       "    </tr>\n",
       "    <tr>\n",
       "      <th>101</th>\n",
       "      <td>5.8</td>\n",
       "      <td>2.7</td>\n",
       "      <td>5.1</td>\n",
       "      <td>1.9</td>\n",
       "      <td>Iris-virginica</td>\n",
       "    </tr>\n",
       "    <tr>\n",
       "      <th>102</th>\n",
       "      <td>7.1</td>\n",
       "      <td>3.0</td>\n",
       "      <td>5.9</td>\n",
       "      <td>2.1</td>\n",
       "      <td>Iris-virginica</td>\n",
       "    </tr>\n",
       "    <tr>\n",
       "      <th>103</th>\n",
       "      <td>6.3</td>\n",
       "      <td>2.9</td>\n",
       "      <td>5.6</td>\n",
       "      <td>1.8</td>\n",
       "      <td>Iris-virginica</td>\n",
       "    </tr>\n",
       "    <tr>\n",
       "      <th>104</th>\n",
       "      <td>6.5</td>\n",
       "      <td>3.0</td>\n",
       "      <td>5.8</td>\n",
       "      <td>2.2</td>\n",
       "      <td>Iris-virginica</td>\n",
       "    </tr>\n",
       "  </tbody>\n",
       "</table>\n",
       "</div>"
      ],
      "text/plain": [
       "     largo sépalo  ancho sépalo  largo pétalo  ancho pétalo            clase\n",
       "1             4.9           3.0           1.4           0.2      Iris-setosa\n",
       "2             4.7           3.2           1.3           0.2      Iris-setosa\n",
       "3             4.6           3.1           1.5           0.2      Iris-setosa\n",
       "4             5.0           3.6           1.4           0.2      Iris-setosa\n",
       "50            7.0           3.2           4.7           1.4  Iris-versicolor\n",
       "51            6.4           3.2           4.5           1.5  Iris-versicolor\n",
       "52            6.9           3.1           4.9           1.5  Iris-versicolor\n",
       "53            5.5           2.3           4.0           1.3  Iris-versicolor\n",
       "54            6.5           2.8           4.6           1.5  Iris-versicolor\n",
       "100           6.3           3.3           6.0           2.5   Iris-virginica\n",
       "101           5.8           2.7           5.1           1.9   Iris-virginica\n",
       "102           7.1           3.0           5.9           2.1   Iris-virginica\n",
       "103           6.3           2.9           5.6           1.8   Iris-virginica\n",
       "104           6.5           3.0           5.8           2.2   Iris-virginica"
      ]
     },
     "execution_count": 3,
     "metadata": {},
     "output_type": "execute_result"
    }
   ],
   "source": [
    "columns = ('largo sépalo', 'ancho sépalo', 'largo pétalo', 'ancho pétalo', 'clase')\n",
    "df = pd.read_csv('../data/iris/iris.csv', names=columns)\n",
    "pd.concat((df[1:5], df[50:55], df[100:105]))  "
   ]
  },
  {
   "cell_type": "markdown",
   "metadata": {},
   "source": [
    "El modelo de regresión logística que entrenaremos resolvera una tarea de clasificación binaria sobre este conjunto considerando únicamente como entrada el largo del pétalo y como salida las dos primeras clases. Grafiquemos la entrada contra la salida para visualizar su relación."
   ]
  },
  {
   "cell_type": "code",
   "execution_count": 4,
   "metadata": {
    "scrolled": true
   },
   "outputs": [
    {
     "data": {
      "image/png": "[encoded data removed]",
      "text/plain": [
       "<Figure size 432x288 with 1 Axes>"
      ]
     },
     "metadata": {
      "needs_background": "light"
     },
     "output_type": "display_data"
    }
   ],
   "source": [
    "label2index = {'Iris-setosa': 0, 'Iris-versicolor': 1}\n",
    "x_trn = np.array(df.iloc[:, 3][:100], dtype=\"float32\")[..., np.newaxis]\n",
    "y_trn = [label2index[l] for l in df.iloc[:, -1][:100]]\n",
    "y_trn = np.array(y_trn, dtype=\"float32\")[..., np.newaxis]\n",
    "plt.plot(x_trn[:50], y_trn[:50], '.', label='Iris-setosa')\n",
    "plt.plot(x_trn[50:], y_trn[50:], '.', label='Iris-versicolor')\n",
    "plt.xlabel('ancho pétalo')\n",
    "plt.ylabel('clase')\n",
    "plt.legend(loc='lower right')\n",
    "plt.show()"
   ]
  },
  {
   "cell_type": "markdown",
   "metadata": {},
   "source": [
    "### 2.1 Tuberias de datos con PyTorch"
   ]
  },
  {
   "cell_type": "markdown",
   "metadata": {},
   "source": [
    "\n",
    "![data](../figs/regresion_logistica_datos.png)"
   ]
  },
  {
   "cell_type": "code",
   "execution_count": 5,
   "metadata": {},
   "outputs": [],
   "source": [
    "class IrisDS:\n",
    "    \n",
    "    def __init__(self, X, Y):\n",
    "        self.x = X\n",
    "        self.y = Y\n",
    "\n",
    "    def __getitem__(self, i):\n",
    "        return self.x[i], self.y[i]\n",
    "\n",
    "    def __len__(self):\n",
    "        return len(self.y)"
   ]
  },
  {
   "cell_type": "markdown",
   "metadata": {},
   "source": [
    "### 2.2 Exploración\n",
    "\n",
    "\n",
    "Para ver el funcionamiento de la tubería de datos imprimimos la forma de cada lote y su primer elemento."
   ]
  },
  {
   "cell_type": "code",
   "execution_count": 6,
   "metadata": {},
   "outputs": [
    {
     "name": "stdout",
     "output_type": "stream",
     "text": [
      "x shape=torch.Size([32, 1]) dtype=torch.float32\n",
      "y shape=torch.Size([32, 1]) dtype=torch.float32\n"
     ]
    }
   ],
   "source": [
    "# tamaño del lote\n",
    "batch_size = 32\n",
    "\n",
    "# creamos un Dataset\n",
    "ds = IrisDS(x_trn, y_trn)\n",
    "\n",
    "# creamos un DataLoader\n",
    "trn_dl = DataLoader(ds, batch_size=batch_size, shuffle=True)\n",
    "\n",
    "# desplegamos un lote de imágenes\n",
    "for x, y in take(trn_dl, 1):\n",
    "    print(f'x shape={x.shape} dtype={x.dtype}')\n",
    "    print(f'y shape={y.shape} dtype={y.dtype}')"
   ]
  },
  {
   "cell_type": "code",
   "execution_count": 7,
   "metadata": {},
   "outputs": [
    {
     "data": {
      "text/plain": [
       "100"
      ]
     },
     "execution_count": 7,
     "metadata": {},
     "output_type": "execute_result"
    }
   ],
   "source": [
    "len(ds)"
   ]
  },
  {
   "cell_type": "markdown",
   "metadata": {},
   "source": [
    "## 3 Modelo"
   ]
  },
  {
   "cell_type": "markdown",
   "metadata": {},
   "source": [
    "### 3.1 Definición de la arquitectura"
   ]
  },
  {
   "cell_type": "markdown",
   "metadata": {},
   "source": [
    "#### Alto nivel (similar a Keras) "
   ]
  },
  {
   "cell_type": "code",
   "execution_count": 8,
   "metadata": {},
   "outputs": [],
   "source": [
    "model = nn.Sequential(\n",
    "    nn.Linear(1, 1),\n",
    "    nn.Sigmoid()\n",
    ")"
   ]
  },
  {
   "cell_type": "markdown",
   "metadata": {},
   "source": [
    "#### Medio nivel (Chainer, tensorflow.keras.model) "
   ]
  },
  {
   "cell_type": "code",
   "execution_count": 9,
   "metadata": {},
   "outputs": [],
   "source": [
    "#se define la clase RegLog que hereda de torch.nn.Module\n",
    "class RegLog(nn.Module):\n",
    "\n",
    "    #se define el inicializador\n",
    "    def __init__(self):\n",
    "        # se llama al inicializador de la clase padre\n",
    "        super(RegLog, self).__init__()\n",
    "        # importante: se definen las capas como atributos de la clase\n",
    "        self.fc = nn.Linear(1, 1)\n",
    "\n",
    "    # método para inferencia\n",
    "    def forward(self, x):\n",
    "        # definición de arquitectura \n",
    "        x = self.fc(x)\n",
    "        x = torch.sigmoid(x)\n",
    "        return x\n",
    "\n",
    "# model = RegLog()"
   ]
  },
  {
   "cell_type": "markdown",
   "metadata": {},
   "source": [
    "### 3.3 Impresión de la arquitectura"
   ]
  },
  {
   "cell_type": "code",
   "execution_count": 10,
   "metadata": {},
   "outputs": [
    {
     "name": "stdout",
     "output_type": "stream",
     "text": [
      "Sequential(\n",
      "  (0): Linear(in_features=1, out_features=1, bias=True)\n",
      "  (1): Sigmoid()\n",
      ")\n"
     ]
    }
   ],
   "source": [
    "print(model)"
   ]
  },
  {
   "cell_type": "markdown",
   "metadata": {},
   "source": [
    "### 3.4 Prueba de la arquitectura"
   ]
  },
  {
   "cell_type": "code",
   "execution_count": 11,
   "metadata": {},
   "outputs": [
    {
     "name": "stdout",
     "output_type": "stream",
     "text": [
      "torch.float32\n",
      "torch.Size([1, 1])\n",
      "torch.float32\n"
     ]
    }
   ],
   "source": [
    "# inferencia con datos sintéticos\n",
    "x = torch.zeros(1, 1)\n",
    "y = model(x)\n",
    "print(x.dtype)\n",
    "print(y.shape)\n",
    "print(y.dtype)"
   ]
  },
  {
   "cell_type": "markdown",
   "metadata": {},
   "source": [
    "### Quiz 1\n",
    "\n",
    "¿Qué modelo sencillo podríamos usar para realizar clasificación de las tres clases?"
   ]
  },
  {
   "cell_type": "markdown",
   "metadata": {},
   "source": [
    "## 4 Entrenamiento\n",
    "\n",
    "### 4.1 Ciclo de entrenamiento"
   ]
  },
  {
   "cell_type": "markdown",
   "metadata": {},
   "source": [
    "Realizamos el entrenamiento de nuestro modelo durante dos epocas."
   ]
  },
  {
   "cell_type": "code",
   "execution_count": 12,
   "metadata": {},
   "outputs": [
    {
     "name": "stdout",
     "output_type": "stream",
     "text": [
      "E 0 loss= 73.31 acc=50.00\n",
      "E 1 loss= 62.05 acc=55.47\n",
      "E 2 loss= 60.55 acc=44.53\n",
      "E 3 loss= 50.94 acc=71.88\n",
      "E 4 loss= 49.50 acc=84.38\n",
      "E 5 loss= 41.95 acc=99.22\n"
     ]
    }
   ],
   "source": [
    "# optimizador\n",
    "opt = optim.SGD(model.parameters(), lr=0.5)\n",
    "\n",
    "\n",
    "# historial de pérdida\n",
    "losses, accs = [], []\n",
    "\n",
    "# ciclo de entrenamiento\n",
    "EPOCHS = 6\n",
    "for epoch in range(EPOCHS):\n",
    "\n",
    "    \n",
    "    # historial de pérdida\n",
    "    losses_epoch, accs_epoch = [], []\n",
    "    # entrenamiento de una época\n",
    "    for x, y_true in trn_dl:\n",
    "        # hacemos inferencia\n",
    "        y_prob = model(x)\n",
    "        # calculamos de pérdida\n",
    "        loss = F.binary_cross_entropy(y_prob, y_true)\n",
    "        # obtenemos la clase predicha\n",
    "        y_pred = torch.round(y_prob)\n",
    "        # calculamos la exactitud\n",
    "        acc = (y_true == y_pred).type(torch.float32).mean()\n",
    "        # vaciamos los gradientes\n",
    "        opt.zero_grad()\n",
    "        # retropropagamos\n",
    "        loss.backward()\n",
    "        # actulizamos parámetros\n",
    "        opt.step()\n",
    "        \n",
    "        # guardamos historial de pérdida\n",
    "        losses_epoch.append(loss.item() * 100)\n",
    "        accs_epoch.append(acc.item() * 100)\n",
    "\n",
    "    # imprimimos métricas\n",
    "    loss = np.mean(losses_epoch)\n",
    "    acc = np.mean(accs_epoch)\n",
    "    print(f'E{epoch:2} loss={loss:6.2f} acc={acc:.2f}')\n",
    "    losses.append(loss)\n",
    "    accs.append(acc)"
   ]
  },
  {
   "cell_type": "markdown",
   "metadata": {},
   "source": [
    "Graficamos la exactitud para ver el comportamiento durante el entrenamiento."
   ]
  },
  {
   "cell_type": "code",
   "execution_count": 13,
   "metadata": {},
   "outputs": [
    {
     "data": {
      "image/png": "[encoded data removed]",
      "text/plain": [
       "<Figure size 432x288 with 1 Axes>"
      ]
     },
     "metadata": {
      "needs_background": "light"
     },
     "output_type": "display_data"
    }
   ],
   "source": [
    "plt.plot(accs, color='blue')\n",
    "plt.xlabel('iteraciones')\n",
    "plt.ylabel('Exactitud');"
   ]
  },
  {
   "cell_type": "markdown",
   "metadata": {},
   "source": [
    "Graficamos la pérdida para ver el comportamiento durante el entrenamiento."
   ]
  },
  {
   "cell_type": "code",
   "execution_count": 14,
   "metadata": {
    "scrolled": true
   },
   "outputs": [
    {
     "data": {
      "image/png": "[encoded data removed]",
      "text/plain": [
       "<Figure size 432x288 with 1 Axes>"
      ]
     },
     "metadata": {
      "needs_background": "light"
     },
     "output_type": "display_data"
    }
   ],
   "source": [
    "plt.plot(losses, color='red')\n",
    "plt.xlabel('iteraciones')\n",
    "plt.ylabel('Entropía cruzada binaria');"
   ]
  },
  {
   "cell_type": "markdown",
   "metadata": {},
   "source": [
    "Obtenemos los parámetros de nuestro modelo."
   ]
  },
  {
   "cell_type": "code",
   "execution_count": 15,
   "metadata": {},
   "outputs": [],
   "source": [
    "[w, b] = model.parameters()"
   ]
  },
  {
   "cell_type": "markdown",
   "metadata": {},
   "source": [
    "Imprimimos la pendiente:"
   ]
  },
  {
   "cell_type": "code",
   "execution_count": 16,
   "metadata": {},
   "outputs": [
    {
     "data": {
      "text/plain": [
       "Parameter containing:\n",
       "tensor([[1.4888]], requires_grad=True)"
      ]
     },
     "execution_count": 16,
     "metadata": {},
     "output_type": "execute_result"
    }
   ],
   "source": [
    "w"
   ]
  },
  {
   "cell_type": "markdown",
   "metadata": {},
   "source": [
    "Imprimimos la ordenada:"
   ]
  },
  {
   "cell_type": "code",
   "execution_count": 17,
   "metadata": {},
   "outputs": [
    {
     "data": {
      "text/plain": [
       "Parameter containing:\n",
       "tensor([-0.6404], requires_grad=True)"
      ]
     },
     "execution_count": 17,
     "metadata": {},
     "output_type": "execute_result"
    }
   ],
   "source": [
    "b"
   ]
  },
  {
   "cell_type": "markdown",
   "metadata": {},
   "source": [
    "### Quiz 2\n",
    "\n",
    "¿Qué función de pérdida podríamos usar para realizar clasificación de las tres clases?"
   ]
  },
  {
   "cell_type": "markdown",
   "metadata": {},
   "source": [
    "## Inferencia\n",
    "\n",
    "Graficamos nuestro modelo."
   ]
  },
  {
   "cell_type": "code",
   "execution_count": 18,
   "metadata": {},
   "outputs": [
    {
     "data": {
      "image/png": "[encoded data removed]",
      "text/plain": [
       "<Figure size 432x288 with 1 Axes>"
      ]
     },
     "metadata": {
      "needs_background": "light"
     },
     "output_type": "display_data"
    }
   ],
   "source": [
    "x_train = torch.from_numpy(x_trn)\n",
    "\n",
    "with torch.no_grad():\n",
    "    y_pred = model(x_train).numpy()\n",
    "\n",
    "w, b = w.item(), b.item()\n",
    "sigmoid = lambda x: (1 / (1 + np.exp(-x)))\n",
    "x_model = np.linspace(x_train[:100].min(), x_train[:100].max(), 100)[..., np.newaxis]\n",
    "y_model = sigmoid(x_model * w + b)\n",
    "plt.plot(x_trn[:50], y_trn[:50], '.', label='Iris-setosa')\n",
    "plt.plot(x_trn[50:], y_trn[50:], '.', label='Iris-versicolor')\n",
    "plt.plot(x_model, y_model, label='reglog')\n",
    "plt.xlabel('ancho pétalo')\n",
    "plt.ylabel('clase')\n",
    "plt.legend(loc='lower right')\n",
    "plt.show()"
   ]
  },
  {
   "cell_type": "markdown",
   "metadata": {},
   "source": [
    "### Quiz 3\n",
    "\n",
    "¿Qué pasaría con la pérdida y la gráfica de la función sigmoide si entrenamos durante 100 épocas?"
   ]
  }
 ],
 "metadata": {
  "kernelspec": {
   "display_name": "Python 3",
   "language": "python",
   "name": "python3"
  },
  "language_info": {
   "codemirror_mode": {
    "name": "ipython",
    "version": 3
   },
   "file_extension": ".py",
   "mimetype": "text/x-python",
   "name": "python",
   "nbconvert_exporter": "python",
   "pygments_lexer": "ipython3",
   "version": "3.6.12"
  }
 },
 "nbformat": 4,
 "nbformat_minor": 4
}
