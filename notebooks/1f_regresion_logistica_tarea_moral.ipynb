{
 "cells": [
  {
   "cell_type": "markdown",
   "metadata": {},
   "source": [
    "<a href=\"https://colab.research.google.com/github/gibranfp/CursoAprendizajeProfundo/blob/master/notebooks/1f_regresion_logistica_tarea_moral.ipynb\" target=\"_parent\"><img src=\"https://colab.research.google.com/assets/colab-badge.svg\" alt=\"Open In Colab\"/></a>"
   ]
  },
  {
   "cell_type": "markdown",
   "metadata": {},
   "source": [
    "# Regresión Softmax: tarea\n",
    "\n",
    "En este ejercicio debes extender el modelo de regresión logística para Iris para realizar clasificación multiclase sobre todos los atributos del conjunto.\n",
    "\n",
    "\n",
    "* Realiza la definición de la arquitectura usando tanto la interfaz de alto como la de medio nivel.\n",
    "* Programa la exactitud multiclase y evalúa el modelo con esta métrica.\n",
    "* Prueba distintos valores para los hiperparámetros.\n",
    "* Discute las modificaciones que realizaste y las distintas configuraciones para los hiperparámetros que probaste."
   ]
  }
 ],
 "metadata": {
  "kernelspec": {
   "display_name": "Python 3",
   "language": "python",
   "name": "python3"
  },
  "language_info": {
   "codemirror_mode": {
    "name": "ipython",
    "version": 3
   },
   "file_extension": ".py",
   "mimetype": "text/x-python",
   "name": "python",
   "nbconvert_exporter": "python",
   "pygments_lexer": "ipython3",
   "version": "3.6.12"
  }
 },
 "nbformat": 4,
 "nbformat_minor": 4
}
