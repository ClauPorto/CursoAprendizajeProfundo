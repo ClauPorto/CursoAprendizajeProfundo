{
 "cells": [
  {
   "cell_type": "markdown",
   "metadata": {},
   "source": [
    "<a href=\"https://colab.research.google.com/github/gibranfp/CursoAprendizajeProfundo/blob/master/notebooks/2b_cnn.ipynb\" target=\"_parent\"><img src=\"https://colab.research.google.com/assets/colab-badge.svg\" alt=\"Open In Colab\"/></a>"
   ]
  },
  {
   "cell_type": "markdown",
   "metadata": {},
   "source": [
    "\n",
    "# Red neural convolucional\n",
    "\n",
    "#### <div style=\"text-align: right\"> Berenice Montalvo Lezama </div>\n",
    "\n",
    "En este ejemplo veremos como implementar un perceptrón multicapa para la tarea de clasificación de imágenes. Emplearemos un conjunto referencia llamado [MNIST](http://yann.lecun.com/exdb/mnist/) recolectado por [Yann LeCun](http://yann.lecun.com). Tiene imágenes en escala de grises de 28 × 28 píxeles que contienen dígitos entre 0 y 9 escritos a mano. El conjunto cuenta con 60,000 imágenes de entrenamiento y 10,000 de prueba.\n",
    "\n"
   ]
  },
  {
   "cell_type": "markdown",
   "metadata": {},
   "source": [
    "## 1 Carga de datos\n",
    "\n",
    "Comenzaremos descargando y leyendo el conjunto de datos. Aprovecharemos que Tensorflow cuenta con utilerias en el paquete [`tf.keras.datasets`](https://www.tensorflow.org/versions/r2.0/api_docs/python/tf/keras/datasets) para descargar conjuntos de datos de referencia preprocesados."
   ]
  },
  {
   "cell_type": "code",
   "execution_count": 1,
   "metadata": {},
   "outputs": [],
   "source": [
    "try:\n",
    "  %tensorflow_version 2.x\n",
    "except Exception:\n",
    "  pass\n",
    "\n",
    "import os\n",
    "from datetime import datetime\n",
    "\n",
    "import matplotlib.pyplot as plt\n",
    "import numpy as np\n",
    "import pandas as pd\n",
    "import tensorflow as tf\n",
    "from tensorflow.keras.layers import Conv2D, Dense, Flatten, MaxPooling2D\n",
    "from tensorflow.keras import Model\n",
    "\n",
    "tf.random.set_seed(2019)\n",
    "\n",
    "mnist = tf.keras.datasets.mnist\n",
    "(x_train, y_train), (x_test, y_test) = mnist.load_data()"
   ]
  },
  {
   "cell_type": "markdown",
   "metadata": {},
   "source": [
    "Una vez descargadas las imágenes, podemos visualizar algunas para ver cómo lucen."
   ]
  },
  {
   "cell_type": "code",
   "execution_count": 2,
   "metadata": {},
   "outputs": [
    {
     "data": {
      "image/png": "[encoded data removed]",
      "text/plain": [
       "<Figure size 360x432 with 9 Axes>"
      ]
     },
     "metadata": {},
     "output_type": "display_data"
    }
   ],
   "source": [
    "plt.figure(figsize=(5, 6))\n",
    "for i in range(1, 10):\n",
    "    plt.subplot(330 + i)\n",
    "    plt.xticks([])\n",
    "    plt.yticks([])\n",
    "    plt.imshow(x_train[5 * i], cmap='Greys')"
   ]
  },
  {
   "cell_type": "markdown",
   "metadata": {},
   "source": [
    "Ahora normalizamos las imágenes."
   ]
  },
  {
   "cell_type": "code",
   "execution_count": 3,
   "metadata": {},
   "outputs": [],
   "source": [
    "x_train, x_test = tf.cast(x_train, tf.float32) / 255.0, tf.cast(x_test, tf.float32) / 255.0\n",
    "x_train = x_train[..., tf.newaxis]\n",
    "x_test = x_test[..., tf.newaxis]\n",
    "y_train = y_train[..., tf.newaxis]\n",
    "y_test = y_test[..., tf.newaxis]"
   ]
  },
  {
   "cell_type": "markdown",
   "metadata": {},
   "source": [
    "Definimos nuestra tubería de datos para el conjunto de entrenamiento."
   ]
  },
  {
   "cell_type": "code",
   "execution_count": 4,
   "metadata": {},
   "outputs": [
    {
     "name": "stderr",
     "output_type": "stream",
     "text": [
      "WARNING: Logging before flag parsing goes to stderr.\n",
      "W0904 19:46:06.657560 140656526202688 deprecation.py:323] From /home/bere/.virtualenvs/cap/lib/python3.6/site-packages/tensorflow/python/data/util/random_seed.py:58: add_dispatch_support.<locals>.wrapper (from tensorflow.python.ops.array_ops) is deprecated and will be removed in a future version.\n",
      "Instructions for updating:\n",
      "Use tf.where in 2.0, which has the same broadcast rule as np.where\n"
     ]
    },
    {
     "name": "stdout",
     "output_type": "stream",
     "text": [
      "x=[0. 0. 0. ... 0. 0. 0.] x.shape=(64, 28, 28, 1)\n",
      "y=[2 6 0 7 8 7 5 7 7 4 4 4 3 2 3 7 7 6 3 7 0 3 1 3 1 6 1 3 1 0 6 4 9 9 4 0 5\n",
      " 9 8 8 0 9 2 1 6 1 3 0 7 6 7 0 1 8 7 7 1 7 3 7 9 7 0 3] y_true.shape=(64, 1)\n"
     ]
    }
   ],
   "source": [
    "batch_size = 64\n",
    "ds = tf.data.Dataset.from_tensor_slices((x_train, y_train))\n",
    "ds = ds.shuffle(60000)\n",
    "ds = ds.batch(batch_size)\n",
    "\n",
    "for x, y_true in ds:\n",
    "    print('x={} x.shape={}'.format(x.numpy().flatten(), x.shape))\n",
    "    print('y={} y_true.shape={}'.format(y_true.numpy().flatten(), y_true.shape))\n",
    "    break"
   ]
  },
  {
   "cell_type": "markdown",
   "metadata": {},
   "source": [
    "## 2 Definición del modelo"
   ]
  },
  {
   "cell_type": "code",
   "execution_count": 5,
   "metadata": {},
   "outputs": [],
   "source": [
    "class CNN(Model):\n",
    "\n",
    "  def __init__(self):\n",
    "    super(CNN, self).__init__()\n",
    "    self.conv1 = Conv2D(4, 3, padding='same')\n",
    "    self.pool1 = MaxPooling2D(pool_size=2, padding='same')\n",
    "    self.conv2 = Conv2D(8, 3, padding='same')\n",
    "    self.pool2 = MaxPooling2D(pool_size=2, padding='same')\n",
    "    self.flat = Flatten()\n",
    "    self.fc = Dense(10)\n",
    "\n",
    "  def call(self, x):\n",
    "    #####################\n",
    "    # (N, 28, 28, 1) =>\n",
    "    # (N, 28, 28, 4)\n",
    "    x = self.conv1(x)\n",
    "    # (N, 28, 28, 4)\n",
    "    x = tf.nn.relu(x)\n",
    "    # (N, 28, 28, 4) =>\n",
    "    # (N, 14, 14, 4)\n",
    "    x = self.pool1(x)\n",
    "    #####################\n",
    "    # (N, 14, 14, 4) =>\n",
    "    # (N, 14, 14, 8)\n",
    "    x = self.conv2(x)\n",
    "    # (N, 14, 14, 8)\n",
    "    x = tf.nn.relu(x)\n",
    "    # (N, 14, 14, 8) =>\n",
    "    # (N, 7, 7, 8)\n",
    "    x = self.pool2(x)\n",
    "    #####################\n",
    "    # (N, 7, 7, 8) =>\n",
    "    # (N, 7*7*8)\n",
    "    x = self.flat(x)\n",
    "    #####################\n",
    "    # (N, 7*7*8) =>\n",
    "    # (N, 10)\n",
    "    x = self.fc(x)\n",
    "    # (N, 10)\n",
    "    x = tf.nn.softmax(x)\n",
    "    return x"
   ]
  },
  {
   "cell_type": "code",
   "execution_count": 6,
   "metadata": {},
   "outputs": [
    {
     "name": "stdout",
     "output_type": "stream",
     "text": [
      "Model: \"cnn\"\n",
      "_________________________________________________________________\n",
      "Layer (type)                 Output Shape              Param #   \n",
      "=================================================================\n",
      "conv2d (Conv2D)              multiple                  40        \n",
      "_________________________________________________________________\n",
      "max_pooling2d (MaxPooling2D) multiple                  0         \n",
      "_________________________________________________________________\n",
      "conv2d_1 (Conv2D)            multiple                  296       \n",
      "_________________________________________________________________\n",
      "max_pooling2d_1 (MaxPooling2 multiple                  0         \n",
      "_________________________________________________________________\n",
      "flatten (Flatten)            multiple                  0         \n",
      "_________________________________________________________________\n",
      "dense (Dense)                multiple                  3930      \n",
      "=================================================================\n",
      "Total params: 4,266\n",
      "Trainable params: 4,266\n",
      "Non-trainable params: 0\n",
      "_________________________________________________________________\n"
     ]
    }
   ],
   "source": [
    "model = CNN()\n",
    "model.build(input_shape=(None, 28, 28 , 1))\n",
    "model.summary()"
   ]
  },
  {
   "cell_type": "markdown",
   "metadata": {},
   "source": [
    "### Quiz 1\n",
    "\n",
    "¿Comó sacamos las cuentitas del número de parámeros de las capas?"
   ]
  },
  {
   "cell_type": "markdown",
   "metadata": {},
   "source": [
    "### Definición de pérdida y optimizador"
   ]
  },
  {
   "cell_type": "code",
   "execution_count": 7,
   "metadata": {},
   "outputs": [],
   "source": [
    "loss_fn = tf.keras.losses.SparseCategoricalCrossentropy()\n",
    "optimizer = tf.keras.optimizers.SGD(learning_rate=1e-3)"
   ]
  },
  {
   "cell_type": "markdown",
   "metadata": {},
   "source": [
    "### Definición de métricas\n",
    "\n",
    "Las clases dentro de `tf.keras.metrics` están diseñadas para mantener un histórico de una métrica a lo largo de los pasas de entrenamiento y agregarlo (con el promedio por ejemplo) para obtener el desempeño de la métrica a nivel epoca."
   ]
  },
  {
   "cell_type": "code",
   "execution_count": 8,
   "metadata": {},
   "outputs": [],
   "source": [
    "# historiales a nivel época\n",
    "loss_epoch = tf.keras.metrics.SparseCategoricalCrossentropy()\n",
    "acc_epoch = tf.keras.metrics.SparseCategoricalAccuracy()"
   ]
  },
  {
   "cell_type": "markdown",
   "metadata": {},
   "source": [
    "## 3 Entrenamiento"
   ]
  },
  {
   "cell_type": "code",
   "execution_count": 9,
   "metadata": {},
   "outputs": [
    {
     "name": "stdout",
     "output_type": "stream",
     "text": [
      "Trainig model 190904-194607\n",
      "E 0 loss=228.41, acc= 10.51\n",
      "E 1 loss=214.20, acc= 28.54\n",
      "E 2 loss=157.14, acc= 60.21\n",
      "E 3 loss= 80.52, acc= 77.61\n",
      "E 4 loss= 55.11, acc= 83.66\n",
      "E 5 loss= 45.92, acc= 86.25\n",
      "E 6 loss= 41.06, acc= 87.59\n",
      "E 7 loss= 37.87, acc= 88.59\n",
      "E 8 loss= 35.52, acc= 89.34\n",
      "E 9 loss= 33.65, acc= 89.91\n",
      "E10 loss= 32.10, acc= 90.41\n",
      "E11 loss= 30.76, acc= 90.83\n",
      "E12 loss= 29.58, acc= 91.23\n",
      "E13 loss= 28.52, acc= 91.55\n",
      "E14 loss= 27.56, acc= 91.88\n"
     ]
    }
   ],
   "source": [
    "##########################################################\n",
    "# se crea una marca de tiempo\n",
    "model_name = datetime.now().strftime('%y%m%d-%H%M%S')\n",
    "# se crea una ruta para almacenar las métricas\n",
    "train_dir = 'logs/{}/train'.format(model_name)\n",
    "# se crea un escritor\n",
    "train_writer = tf.summary.create_file_writer(train_dir)\n",
    "print(\"Trainig model {}\".format(model_name))\n",
    "\n",
    "##########################################################\n",
    "# decorador para producir la gráfica de cómputo estática\n",
    "@tf.function\n",
    "def train_step(x, y_true, model, loss_fn, optimizer):\n",
    "    with tf.GradientTape() as tape:\n",
    "        y_pred = model(x)\n",
    "        loss = loss_fn(y_true, y_pred)            \n",
    "    gradients = tape.gradient(loss, model.trainable_variables)\n",
    "    optimizer.apply_gradients(zip(gradients, model.trainable_variables))\n",
    "    return y_pred\n",
    "\n",
    "##########################################################\n",
    "\n",
    "# visualización de la gráfica en tensorboard\n",
    "# habilitamos el rastreo del flujo de cómputo para tensorboard\n",
    "tf.summary.trace_on()\n",
    "# se ejecuta el modelo\n",
    "train_step(x_train[0:1], y_train[0:1], model, loss_fn, optimizer) \n",
    "# activo el contexto del escritor\n",
    "with train_writer.as_default():\n",
    "    # exporto la gráfica\n",
    "    tf.summary.trace_export(model_name, 0)\n",
    "\n",
    "##########################################################\n",
    "\n",
    "epochs = 15\n",
    "\n",
    "for epoch in range(epochs):\n",
    "\n",
    "    for x, y_true in ds:\n",
    "        y_pred = train_step(x, y_true, model, loss_fn, optimizer)\n",
    "            \n",
    "        loss_epoch(y_true, y_pred)\n",
    "        acc_epoch(y_true, y_pred)\n",
    "\n",
    "    loss_val = loss_epoch.result().numpy() * 100\n",
    "    acc_val = acc_epoch.result().numpy() * 100\n",
    "    loss_epoch.reset_states()\n",
    "    acc_epoch.reset_states()\n",
    "    \n",
    "    # escribimos las métricas\n",
    "    with train_writer.as_default():\n",
    "        tf.summary.scalar('loss', loss_val, epoch)\n",
    "        tf.summary.scalar('acc', acc_val, epoch)\n",
    "\n",
    "    print('E{:2d} loss={:6.2f}, acc={:6.2f}'.format(epoch, loss_val, acc_val))"
   ]
  },
  {
   "cell_type": "markdown",
   "metadata": {
    "scrolled": true
   },
   "source": [
    "## 4 Validación"
   ]
  },
  {
   "cell_type": "code",
   "execution_count": 12,
   "metadata": {},
   "outputs": [
    {
     "name": "stdout",
     "output_type": "stream",
     "text": [
      "92.46000051498413\n"
     ]
    }
   ],
   "source": [
    "y_pred_test = model(x_test)\n",
    "print(acc_epoch(y_test, y_pred_test).numpy() * 100)"
   ]
  },
  {
   "cell_type": "code",
   "execution_count": 13,
   "metadata": {},
   "outputs": [
    {
     "data": {
      "image/png": "[encoded data removed]",
      "text/plain": [
       "<Figure size 360x432 with 9 Axes>"
      ]
     },
     "metadata": {},
     "output_type": "display_data"
    }
   ],
   "source": [
    "x_test = tf.squeeze(x_test)\n",
    "plt.figure(figsize=(5, 6))\n",
    "for i in range(1, 10):\n",
    "    plt.subplot(330 + i)\n",
    "    plt.xticks([])\n",
    "    plt.yticks([])\n",
    "    plt.imshow(x_test[5 * i], cmap='Greys')\n",
    "    plt.title(y_pred_test[5*i].numpy().argmax())"
   ]
  }
 ],
 "metadata": {
  "kernelspec": {
   "display_name": "Python 3",
   "language": "python",
   "name": "python3"
  },
  "language_info": {
   "codemirror_mode": {
    "name": "ipython",
    "version": 3
   },
   "file_extension": ".py",
   "mimetype": "text/x-python",
   "name": "python",
   "nbconvert_exporter": "python",
   "pygments_lexer": "ipython3",
   "version": "3.6.8"
  }
 },
 "nbformat": 4,
 "nbformat_minor": 2
}
