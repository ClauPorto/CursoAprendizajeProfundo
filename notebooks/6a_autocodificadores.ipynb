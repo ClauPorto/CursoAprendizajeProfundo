{
  "nbformat": 4,
  "nbformat_minor": 0,
  "metadata": {
    "accelerator": "GPU",
    "colab": {
      "name": "6a_autocodificadores.ipynb",
      "provenance": [],
      "collapsed_sections": [],
      "include_colab_link": true
    },
    "kernelspec": {
      "display_name": "Python 3",
      "language": "python",
      "name": "python3"
    },
    "language_info": {
      "codemirror_mode": {
        "name": "ipython",
        "version": 3
      },
      "file_extension": ".py",
      "mimetype": "text/x-python",
      "name": "python",
      "nbconvert_exporter": "python",
      "pygments_lexer": "ipython3",
      "version": "3.7.3"
    }
  },
  "cells": [
    {
      "cell_type": "markdown",
      "metadata": {
        "id": "view-in-github",
        "colab_type": "text"
      },
      "source": [
        "<a href=\"https://colab.research.google.com/github/gibranfp/CursoAprendizajeProfundo/blob/master/notebooks/6a_autocodificadores.ipynb\" target=\"_parent\"><img src=\"https://colab.research.google.com/assets/colab-badge.svg\" alt=\"Open In Colab\"/></a>"
      ]
    },
    {
      "cell_type": "markdown",
      "metadata": {
        "id": "aqjbxeS9ZTrD"
      },
      "source": [
        "# Autocodificadores\r\n",
        "En este libreta programaremos un autocodificador contractivo simple usando Pytorch y lo usaremos para reducir dimensiones en tres conjuntos de datos. "
      ]
    },
    {
      "cell_type": "code",
      "metadata": {
        "colab": {
          "base_uri": "https://localhost:8080/"
        },
        "id": "xFiTTx7MV-xx",
        "outputId": "f184cebc-7892-4471-81f4-7ee7c3300c7a"
      },
      "source": [
        "import os\n",
        "import sys\n",
        "\n",
        "import numpy as np\n",
        "import pandas as pd\n",
        "import matplotlib.pyplot as plt\n",
        "\n",
        "from sklearn.datasets import load_wine, load_digits\n",
        "from sklearn.decomposition import PCA\n",
        "from sklearn.preprocessing import StandardScaler\n",
        "\n",
        "import torch\n",
        "from torch.nn import Sequential, Module\n",
        "from torch.nn import Linear, Sigmoid\n",
        "from torch.nn import MSELoss\n",
        "from torch.optim import Adam\n",
        "\n",
        "from torch.utils.data import Dataset, DataLoader\n",
        "from torchvision.datasets.utils import download_url\n",
        "\n",
        "from itertools import islice as take\n",
        "\n",
        "URL = 'https://raw.githubusercontent.com/gibranfp/CursoAprendizajeProfundo/master/data/iris/iris.csv'\n",
        "base_dir = '../data/iris/'\n",
        "filename = 'iris.csv'\n",
        "filepath = os.path.join(base_dir, 'iris.csv')\n",
        "\n",
        "SEED = 1\n",
        "torch.manual_seed(SEED)"
      ],
      "execution_count": null,
      "outputs": [
        {
          "output_type": "execute_result",
          "data": {
            "text/plain": [
              "<torch._C.Generator at 0x7f113e141180>"
            ]
          },
          "metadata": {
            "tags": []
          },
          "execution_count": 1
        }
      ]
    },
    {
      "cell_type": "markdown",
      "metadata": {
        "id": "xjB9QXHhPIMo"
      },
      "source": [
        "Definimos nuestro autocodificador en una subclase, donde tanto el codificador como el decodificador tienen arquitecturas secuenciales. "
      ]
    },
    {
      "cell_type": "code",
      "metadata": {
        "id": "kSw9zuJBjUoP"
      },
      "source": [
        "class Autocodificador(torch.nn.Module):\n",
        "  def __init__(self, d, n_ocultas, n_salidas):\n",
        "    super(Autocodificador, self).__init__()  \n",
        "    \n",
        "    self.cod = Sequential(Linear(d, n_ocultas),\n",
        "                          Sigmoid(),\n",
        "                          Linear(n_ocultas, n_salidas))\n",
        "    self.dec = Sequential(Linear(n_salidas, n_ocultas),\n",
        "                          Sigmoid(),\n",
        "                          Linear(n_ocultas, d))\n",
        "\n",
        "  def forward(self, x):\n",
        "    z = self.cod(x)\n",
        "    x = self.dec(z)\n",
        "\n",
        "    return x"
      ],
      "execution_count": null,
      "outputs": []
    },
    {
      "cell_type": "markdown",
      "metadata": {
        "id": "8NgbBQt8PZtt"
      },
      "source": [
        "Probemos nuestro autocodificador con datos generados aleatorioriamente."
      ]
    },
    {
      "cell_type": "code",
      "metadata": {
        "colab": {
          "base_uri": "https://localhost:8080/"
        },
        "id": "zSePCBnELufX",
        "outputId": "87423c6c-f2eb-4232-adc9-837782037c15"
      },
      "source": [
        "ac = Autocodificador(d=4, n_ocultas=5, n_salidas=2)\r\n",
        "x = torch.rand(16,4)\r\n",
        "print(x)\r\n",
        "print(x.shape)\r\n",
        "print(ac.cod(x))\r\n",
        "print(ac.cod(x).shape)\r\n",
        "print(ac(x))\r\n",
        "print(ac(x).shape)"
      ],
      "execution_count": null,
      "outputs": [
        {
          "output_type": "stream",
          "text": [
            "tensor([[0.6818, 0.7479, 0.0369, 0.7517],\n",
            "        [0.1484, 0.1227, 0.5304, 0.4148],\n",
            "        [0.7937, 0.2104, 0.0555, 0.8639],\n",
            "        [0.4259, 0.7812, 0.6607, 0.1251],\n",
            "        [0.6004, 0.6201, 0.1652, 0.2628],\n",
            "        [0.6705, 0.5896, 0.2873, 0.3486],\n",
            "        [0.9579, 0.4075, 0.7819, 0.7165],\n",
            "        [0.1768, 0.0748, 0.9799, 0.5261],\n",
            "        [0.8427, 0.6036, 0.6608, 0.8735],\n",
            "        [0.9741, 0.1682, 0.5625, 0.8731],\n",
            "        [0.8622, 0.8106, 0.1381, 0.1399],\n",
            "        [0.1976, 0.5628, 0.9983, 0.1842],\n",
            "        [0.7664, 0.2233, 0.0299, 0.3937],\n",
            "        [0.7881, 0.9642, 0.1895, 0.6085],\n",
            "        [0.9314, 0.8313, 0.8116, 0.8553],\n",
            "        [0.8163, 0.6291, 0.1581, 0.0801]])\n",
            "torch.Size([16, 4])\n",
            "tensor([[-0.0167,  0.3971],\n",
            "        [-0.0121,  0.3746],\n",
            "        [-0.0357,  0.3708],\n",
            "        [-0.0053,  0.3707],\n",
            "        [-0.0306,  0.3797],\n",
            "        [-0.0271,  0.3705],\n",
            "        [-0.0146,  0.3322],\n",
            "        [ 0.0047,  0.3532],\n",
            "        [-0.0021,  0.3558],\n",
            "        [-0.0259,  0.3354],\n",
            "        [-0.0394,  0.3696],\n",
            "        [ 0.0099,  0.3621],\n",
            "        [-0.0513,  0.3634],\n",
            "        [-0.0129,  0.3886],\n",
            "        [ 0.0070,  0.3521],\n",
            "        [-0.0453,  0.3631]], grad_fn=<AddmmBackward>)\n",
            "torch.Size([16, 2])\n",
            "tensor([[ 0.6423,  0.0897,  0.3511, -0.1753],\n",
            "        [ 0.6415,  0.0888,  0.3496, -0.1727],\n",
            "        [ 0.6421,  0.0886,  0.3499, -0.1733],\n",
            "        [ 0.6411,  0.0886,  0.3492, -0.1720],\n",
            "        [ 0.6422,  0.0890,  0.3503, -0.1740],\n",
            "        [ 0.6418,  0.0886,  0.3497, -0.1729],\n",
            "        [ 0.6402,  0.0871,  0.3470, -0.1683],\n",
            "        [ 0.6403,  0.0879,  0.3479, -0.1698],\n",
            "        [ 0.6406,  0.0880,  0.3482, -0.1703],\n",
            "        [ 0.6407,  0.0872,  0.3474, -0.1691],\n",
            "        [ 0.6422,  0.0886,  0.3499, -0.1733],\n",
            "        [ 0.6404,  0.0883,  0.3483, -0.1705],\n",
            "        [ 0.6424,  0.0883,  0.3498, -0.1731],\n",
            "        [ 0.6419,  0.0894,  0.3505, -0.1742],\n",
            "        [ 0.6402,  0.0879,  0.3477, -0.1696],\n",
            "        [ 0.6422,  0.0883,  0.3496, -0.1729]], grad_fn=<AddmmBackward>)\n",
            "torch.Size([16, 4])\n"
          ],
          "name": "stdout"
        }
      ]
    },
    {
      "cell_type": "markdown",
      "metadata": {
        "id": "ehYDqB3dWbvT"
      },
      "source": [
        "Creamos una subclase de `Dataset` para cargar los tres conjuntos de datos que utilizaremos. "
      ]
    },
    {
      "cell_type": "code",
      "metadata": {
        "id": "SAJkY3q2eouW"
      },
      "source": [
        "class MiDS(Dataset):    \n",
        "    def __init__(self, X):\n",
        "        self.x = X\n",
        "\n",
        "    def __getitem__(self, i):\n",
        "        return self.x[i]\n",
        "\n",
        "    def __len__(self):\n",
        "        return len(self.x)"
      ],
      "execution_count": null,
      "outputs": []
    },
    {
      "cell_type": "markdown",
      "metadata": {
        "id": "5cxGkFdSPzbd"
      },
      "source": [
        "Probamos esta subclase con los datos generados aleatoriamente."
      ]
    },
    {
      "cell_type": "code",
      "metadata": {
        "colab": {
          "base_uri": "https://localhost:8080/"
        },
        "id": "x2DycYOkO6vV",
        "outputId": "9efba0ff-98d1-44b1-bac3-b9fcc477cc05"
      },
      "source": [
        "ds = MiDS(x)\r\n",
        "print(len(ds))\r\n",
        "print(ds[1])"
      ],
      "execution_count": null,
      "outputs": [
        {
          "output_type": "stream",
          "text": [
            "16\n",
            "tensor([0.1484, 0.1227, 0.5304, 0.4148])\n"
          ],
          "name": "stdout"
        }
      ]
    },
    {
      "cell_type": "markdown",
      "metadata": {
        "id": "kTOEq6SgWZdF"
      },
      "source": [
        "Para hacer más fácil la generación de los cargadores de datos de los tres conjuntos de datos, definimos una función que toma un arreglo de NumPy y el tamaño de lote, estandariza los datos y crea y regresa el cargador de datos."
      ]
    },
    {
      "cell_type": "code",
      "metadata": {
        "id": "4rL6FGK5QOaP"
      },
      "source": [
        "def numpy_a_dataloader(X, t_lote):\r\n",
        "  sc = StandardScaler()\r\n",
        "  X = sc.fit_transform(X).astype('float32')\r\n",
        "\r\n",
        "  ds = MiDS(X)\r\n",
        "  print('Tamaño del conjunto de datos: {0}'.format(len(ds)))\r\n",
        "\r\n",
        "  dl = DataLoader(ds, \r\n",
        "                  batch_size=t_lote, \r\n",
        "                  shuffle=True)\r\n",
        "\r\n",
        "  for x in take(dl, 1):\r\n",
        "    print(f'x shape={x.shape} dtype={x.dtype}')\r\n",
        "\r\n",
        "  return X, dl"
      ],
      "execution_count": null,
      "outputs": []
    },
    {
      "cell_type": "markdown",
      "metadata": {
        "id": "R_S-WIPcQYo_"
      },
      "source": [
        "Probamos nuestra función con los datos generados aleatoriamente."
      ]
    },
    {
      "cell_type": "code",
      "metadata": {
        "colab": {
          "base_uri": "https://localhost:8080/"
        },
        "id": "Pm_SJtngPJ8u",
        "outputId": "360eea92-ab65-4851-b228-b15510746138"
      },
      "source": [
        "x, dl = numpy_a_dataloader(x, 2)"
      ],
      "execution_count": null,
      "outputs": [
        {
          "output_type": "stream",
          "text": [
            "Tamaño del conjunto de datos: 16\n",
            "x shape=torch.Size([2, 4]) dtype=torch.float32\n"
          ],
          "name": "stdout"
        }
      ]
    },
    {
      "cell_type": "markdown",
      "metadata": {
        "id": "SUMUO6yRQdQt"
      },
      "source": [
        "Encapsulamos la definición, el entrenamiento y la inferencia de los autocodificadores que vamos evaluar en una clase."
      ]
    },
    {
      "cell_type": "code",
      "metadata": {
        "id": "y7jupNGxHljn"
      },
      "source": [
        "class Modelo:\r\n",
        "  def __init__(self, d, n_ocultas=10, n_salidas=2):\r\n",
        "    self.ac = Autocodificador(d=d, n_ocultas=n_ocultas, n_salidas=n_salidas)\r\n",
        " \r\n",
        "  def fit(self, X, n_epocas=100):\r\n",
        "    opt = Adam(self.ac.parameters())\r\n",
        "\r\n",
        "    perdidas = []\r\n",
        "    for e in range(n_epocas):   \r\n",
        "      perdidas_epoca = [] \r\n",
        "      for r in X:\r\n",
        "        xs = self.ac(r)\r\n",
        "        p = torch.nn.functional.mse_loss(xs, r)\r\n",
        "        opt.zero_grad()\r\n",
        "        p.backward()\r\n",
        "        opt.step()\r\n",
        "        perdidas_epoca.append(p.item())\r\n",
        "      \r\n",
        "      perdidas.append(np.mean(perdidas_epoca))\r\n",
        "\r\n",
        "    return perdidas\r\n",
        "\r\n",
        "  def transform(self, X):\r\n",
        "    with torch.no_grad():\r\n",
        "      return self.ac.cod(torch.from_numpy(X)).numpy()"
      ],
      "execution_count": null,
      "outputs": []
    },
    {
      "cell_type": "markdown",
      "metadata": {
        "id": "80xNzPOjV2mk"
      },
      "source": [
        "Finalmente, creamos una función para visualizar los datos mapeados por el codificador y comparándolos con los de PCA."
      ]
    },
    {
      "cell_type": "code",
      "metadata": {
        "id": "ePwDQBJLPgSX"
      },
      "source": [
        "def grafica_mapeos(X_ac, X_pca, y, etiquetas):\r\n",
        "  fig, (ax1, ax2) = plt.subplots(1, 2)\r\n",
        "\r\n",
        "  for e in etiquetas:\r\n",
        "    ax1.scatter(X_ac[y==e, 0], \r\n",
        "                X_ac[y==e, 1], \r\n",
        "                label=e)\r\n",
        "\r\n",
        "    ax2.scatter(X_pca[y==e, 0], \r\n",
        "                X_pca[y==e, 1], \r\n",
        "                label=e)\r\n",
        "    \r\n",
        "  ax1.set_title('Autocodificador')\r\n",
        "  ax2.set_title('PCA')"
      ],
      "execution_count": null,
      "outputs": []
    },
    {
      "cell_type": "markdown",
      "metadata": {
        "id": "w7meg8JOiOns"
      },
      "source": [
        "## Conjunto de datos de la flor Iris\n",
        "Se carga el conjunto de datos Iris usando las funciones predefinidas de PyTorch:"
      ]
    },
    {
      "cell_type": "code",
      "metadata": {
        "colab": {
          "base_uri": "https://localhost:8080/"
        },
        "id": "qlQELSowPD8_",
        "outputId": "5e07e18e-d54c-4678-e226-c8fdec4dfbb6"
      },
      "source": [
        "download_url(URL, base_dir, filename)"
      ],
      "execution_count": null,
      "outputs": [
        {
          "output_type": "stream",
          "text": [
            "Using downloaded and verified file: ../data/iris/iris.csv\n"
          ],
          "name": "stdout"
        }
      ]
    },
    {
      "cell_type": "markdown",
      "metadata": {
        "id": "SffbmoNmQ_tN"
      },
      "source": [
        "Leemos el archivo y mostramos algunos ejemplos."
      ]
    },
    {
      "cell_type": "code",
      "metadata": {
        "colab": {
          "base_uri": "https://localhost:8080/",
          "height": 203
        },
        "id": "TIgxGMtQPKzu",
        "outputId": "f52ab255-812d-4b31-db94-01be94b92aa2"
      },
      "source": [
        "columns = ('largo sépalo', 'ancho sépalo', 'largo pétalo', 'ancho pétalo', 'clase')\r\n",
        "df = pd.read_csv('../data/iris/iris.csv', names=columns)\r\n",
        "df.head()"
      ],
      "execution_count": null,
      "outputs": [
        {
          "output_type": "execute_result",
          "data": {
            "text/html": [
              "<div>\n",
              "<style scoped>\n",
              "    .dataframe tbody tr th:only-of-type {\n",
              "        vertical-align: middle;\n",
              "    }\n",
              "\n",
              "    .dataframe tbody tr th {\n",
              "        vertical-align: top;\n",
              "    }\n",
              "\n",
              "    .dataframe thead th {\n",
              "        text-align: right;\n",
              "    }\n",
              "</style>\n",
              "<table border=\"1\" class=\"dataframe\">\n",
              "  <thead>\n",
              "    <tr style=\"text-align: right;\">\n",
              "      <th></th>\n",
              "      <th>largo sépalo</th>\n",
              "      <th>ancho sépalo</th>\n",
              "      <th>largo pétalo</th>\n",
              "      <th>ancho pétalo</th>\n",
              "      <th>clase</th>\n",
              "    </tr>\n",
              "  </thead>\n",
              "  <tbody>\n",
              "    <tr>\n",
              "      <th>0</th>\n",
              "      <td>5.1</td>\n",
              "      <td>3.5</td>\n",
              "      <td>1.4</td>\n",
              "      <td>0.2</td>\n",
              "      <td>Iris-setosa</td>\n",
              "    </tr>\n",
              "    <tr>\n",
              "      <th>1</th>\n",
              "      <td>4.9</td>\n",
              "      <td>3.0</td>\n",
              "      <td>1.4</td>\n",
              "      <td>0.2</td>\n",
              "      <td>Iris-setosa</td>\n",
              "    </tr>\n",
              "    <tr>\n",
              "      <th>2</th>\n",
              "      <td>4.7</td>\n",
              "      <td>3.2</td>\n",
              "      <td>1.3</td>\n",
              "      <td>0.2</td>\n",
              "      <td>Iris-setosa</td>\n",
              "    </tr>\n",
              "    <tr>\n",
              "      <th>3</th>\n",
              "      <td>4.6</td>\n",
              "      <td>3.1</td>\n",
              "      <td>1.5</td>\n",
              "      <td>0.2</td>\n",
              "      <td>Iris-setosa</td>\n",
              "    </tr>\n",
              "    <tr>\n",
              "      <th>4</th>\n",
              "      <td>5.0</td>\n",
              "      <td>3.6</td>\n",
              "      <td>1.4</td>\n",
              "      <td>0.2</td>\n",
              "      <td>Iris-setosa</td>\n",
              "    </tr>\n",
              "  </tbody>\n",
              "</table>\n",
              "</div>"
            ],
            "text/plain": [
              "   largo sépalo  ancho sépalo  largo pétalo  ancho pétalo        clase\n",
              "0           5.1           3.5           1.4           0.2  Iris-setosa\n",
              "1           4.9           3.0           1.4           0.2  Iris-setosa\n",
              "2           4.7           3.2           1.3           0.2  Iris-setosa\n",
              "3           4.6           3.1           1.5           0.2  Iris-setosa\n",
              "4           5.0           3.6           1.4           0.2  Iris-setosa"
            ]
          },
          "metadata": {
            "tags": []
          },
          "execution_count": 11
        }
      ]
    },
    {
      "cell_type": "markdown",
      "metadata": {
        "id": "xvCehwkcRHJ-"
      },
      "source": [
        "Extraemos los atributos de las flores en un arreglo de NumPy (omitiendo la clase) y creamos nuestro cargador de datos."
      ]
    },
    {
      "cell_type": "code",
      "metadata": {
        "colab": {
          "base_uri": "https://localhost:8080/"
        },
        "id": "v6xbMX2kRjjA",
        "outputId": "525a3063-a2cd-4508-babb-f5db2803df21"
      },
      "source": [
        "Xiris = df.loc[:, df.columns!='clase'].to_numpy()\r\n",
        "irisdim = Xiris.shape[-1]\r\n",
        "Xiris, irisdl = numpy_a_dataloader(Xiris, 10)"
      ],
      "execution_count": null,
      "outputs": [
        {
          "output_type": "stream",
          "text": [
            "Tamaño del conjunto de datos: 150\n",
            "x shape=torch.Size([10, 4]) dtype=torch.float32\n"
          ],
          "name": "stdout"
        }
      ]
    },
    {
      "cell_type": "markdown",
      "metadata": {
        "id": "EruevTCfRcxP"
      },
      "source": [
        "Instanciamos y entrenamos nuestro autocodificador con el cargador de datos creado."
      ]
    },
    {
      "cell_type": "code",
      "metadata": {
        "colab": {
          "base_uri": "https://localhost:8080/",
          "height": 281
        },
        "id": "48GeWvuU2-gn",
        "outputId": "0020b890-0bcf-4cb4-bda1-ab8926e1256e"
      },
      "source": [
        "irisac = Modelo(irisdim)\r\n",
        "perdidas = irisac.fit(irisdl)\r\n",
        "\r\n",
        "plt.plot(perdidas)\r\n",
        "plt.xlabel('Época')\r\n",
        "plt.ylabel('Pérdida')\r\n",
        "plt.show()"
      ],
      "execution_count": null,
      "outputs": [
        {
          "output_type": "display_data",
          "data": {
            "image/png": "[encoded data removed]",
            "text/plain": [
              "<Figure size 432x288 with 1 Axes>"
            ]
          },
          "metadata": {
            "tags": [],
            "needs_background": "light"
          }
        }
      ]
    },
    {
      "cell_type": "markdown",
      "metadata": {
        "id": "Y9qAX2zORhEO"
      },
      "source": [
        "Mapeamos los datos a los vectores generador por el codificador entrenado."
      ]
    },
    {
      "cell_type": "code",
      "metadata": {
        "id": "vbPvIHB7FCqu"
      },
      "source": [
        "X_irisac = irisac.transform(Xiris)"
      ],
      "execution_count": null,
      "outputs": []
    },
    {
      "cell_type": "markdown",
      "metadata": {
        "id": "NQ_zZ-WehIqa"
      },
      "source": [
        "Se visualizan los vectores latentes y se comparan con los producidos por _Principal Component Analysis_ (PCA):\n",
        "\n"
      ]
    },
    {
      "cell_type": "code",
      "metadata": {
        "colab": {
          "base_uri": "https://localhost:8080/"
        },
        "id": "MrT7P7DeDcwu",
        "outputId": "9a3865e8-fb48-46a0-9e68-e73cde3512af"
      },
      "source": [
        "irispca = PCA(n_components=2)\n",
        "X_irispca = irispca.fit_transform(Xiris)\n",
        "grafica_mapeos(X_irisac, X_irispca, df.clase, list(df.clase.unique()))"
      ],
      "execution_count": null,
      "outputs": [
        {
          "output_type": "display_data",
          "data": {
            "image/png": "[encoded data removed]",
            "text/plain": [
              "<Figure size 432x288 with 2 Axes>"
            ]
          },
          "metadata": {
            "tags": [],
            "needs_background": "light"
          }
        }
      ]
    },
    {
      "cell_type": "markdown",
      "metadata": {
        "id": "_TiYXPBdiUZl"
      },
      "source": [
        "## Conjunto de datos de vinos"
      ]
    },
    {
      "cell_type": "markdown",
      "metadata": {
        "id": "NraqqRPfiDOt"
      },
      "source": [
        "Se carga el conjunto de datos Wine usando las funciones predefinidas de scikit-learn y se crea el cargador de datos:"
      ]
    },
    {
      "cell_type": "code",
      "metadata": {
        "colab": {
          "base_uri": "https://localhost:8080/"
        },
        "id": "_4NieGcc8VdH",
        "outputId": "97363fd2-3265-474b-9d8b-c563eeaf8507"
      },
      "source": [
        "vino = load_wine()\r\n",
        "vinodim = vino.data.shape[-1]\r\n",
        "Xvino, vinodl = numpy_a_dataloader(X=vino.data, t_lote=10)"
      ],
      "execution_count": null,
      "outputs": [
        {
          "output_type": "stream",
          "text": [
            "Tamaño del conjunto de datos: 178\n",
            "x shape=torch.Size([10, 13]) dtype=torch.float32\n"
          ],
          "name": "stdout"
        }
      ]
    },
    {
      "cell_type": "markdown",
      "metadata": {
        "id": "3kUlsyMGR6sY"
      },
      "source": [
        "Instanciamos y entrenamos el autocodificador con el cargador de datos creado."
      ]
    },
    {
      "cell_type": "code",
      "metadata": {
        "colab": {
          "base_uri": "https://localhost:8080/",
          "height": 281
        },
        "id": "MUZ_KO2yBM3P",
        "outputId": "3c4dd872-0aea-45c3-ebcb-48a682cb7298"
      },
      "source": [
        "vinoac = Modelo(vinodim)\r\n",
        "perdidas = vinoac.fit(vinodl)\r\n",
        "\r\n",
        "plt.plot(perdidas)\r\n",
        "plt.xlabel('Época')\r\n",
        "plt.ylabel('Pérdida')\r\n",
        "plt.show()"
      ],
      "execution_count": null,
      "outputs": [
        {
          "output_type": "display_data",
          "data": {
            "image/png": "[encoded data removed]",
            "text/plain": [
              "<Figure size 432x288 with 1 Axes>"
            ]
          },
          "metadata": {
            "tags": [],
            "needs_background": "light"
          }
        }
      ]
    },
    {
      "cell_type": "markdown",
      "metadata": {
        "id": "F_LYQ7d_heZv"
      },
      "source": [
        "Se mapea el conjunto de datos a vectores producidos por el codificador entrenado."
      ]
    },
    {
      "cell_type": "code",
      "metadata": {
        "id": "hDb8LtxsTCL_"
      },
      "source": [
        "X_vinoac = vinoac.transform(Xvino)"
      ],
      "execution_count": null,
      "outputs": []
    },
    {
      "cell_type": "markdown",
      "metadata": {
        "id": "PFU9AXaIhi3_"
      },
      "source": [
        "Se visualizan los vectores latentes y se comparan con los producidos por _Principal Component Analysis_ (PCA):"
      ]
    },
    {
      "cell_type": "code",
      "metadata": {
        "colab": {
          "base_uri": "https://localhost:8080/"
        },
        "id": "CpL73_yXizO-",
        "outputId": "8dc3c5e5-e638-40fe-ecb8-cd268461a387"
      },
      "source": [
        "pca = PCA(n_components=2)\n",
        "X_vinopca = pca.fit_transform(Xvino)\n",
        "grafica_mapeos(X_vinoac, X_vinopca, vino.target, np.unique(vino.target))"
      ],
      "execution_count": null,
      "outputs": [
        {
          "output_type": "display_data",
          "data": {
            "image/png": "[encoded data removed]",
            "text/plain": [
              "<Figure size 432x288 with 2 Axes>"
            ]
          },
          "metadata": {
            "tags": [],
            "needs_background": "light"
          }
        }
      ]
    },
    {
      "cell_type": "markdown",
      "metadata": {
        "id": "jMlfU1imjKkN"
      },
      "source": [
        "## Conjunto de datos de dígitos"
      ]
    },
    {
      "cell_type": "markdown",
      "metadata": {
        "id": "4W8qFEAEiMvo"
      },
      "source": [
        "Se carga el conjunto de datos Digits usando las funciones predefinidas de scikit-learn y se crea el cargador de datos."
      ]
    },
    {
      "cell_type": "code",
      "metadata": {
        "colab": {
          "base_uri": "https://localhost:8080/"
        },
        "id": "PD1WgNyyjKWt",
        "outputId": "d7fc2f5b-fbd4-4aad-d98e-dec74bdee0e7"
      },
      "source": [
        "digitos = load_digits()\n",
        "digitosdim = digitos.data.shape[-1]\n",
        "Xdigitos, digitosdl = numpy_a_dataloader(X=digitos.data, t_lote=10)"
      ],
      "execution_count": null,
      "outputs": [
        {
          "output_type": "stream",
          "text": [
            "Tamaño del conjunto de datos: 1797\n",
            "x shape=torch.Size([10, 64]) dtype=torch.float32\n"
          ],
          "name": "stdout"
        }
      ]
    },
    {
      "cell_type": "markdown",
      "metadata": {
        "id": "Bbp9Kf91hgtZ"
      },
      "source": [
        "Se instancia y entrena un autcodificador con el cargador de datos creado."
      ]
    },
    {
      "cell_type": "code",
      "metadata": {
        "colab": {
          "base_uri": "https://localhost:8080/",
          "height": 281
        },
        "id": "NPneZZXajC1G",
        "outputId": "dd09a492-a527-4ae4-9b91-b4f3d1319a72"
      },
      "source": [
        "digitosac = Modelo(digitosdim)\n",
        "perdidas = digitosac.fit(digitosdl)\n",
        "\n",
        "plt.plot(perdidas)\n",
        "plt.xlabel('Época')\n",
        "plt.ylabel('Pérdida')\n",
        "plt.show()"
      ],
      "execution_count": null,
      "outputs": [
        {
          "output_type": "display_data",
          "data": {
            "image/png": "[encoded data removed]",
            "text/plain": [
              "<Figure size 432x288 with 1 Axes>"
            ]
          },
          "metadata": {
            "tags": [],
            "needs_background": "light"
          }
        }
      ]
    },
    {
      "cell_type": "markdown",
      "metadata": {
        "id": "rbYqpY3sSlPm"
      },
      "source": [
        "Se mapea el conjunto de datos con el codificador entrenado."
      ]
    },
    {
      "cell_type": "code",
      "metadata": {
        "id": "ZfVV0DK-U9DA"
      },
      "source": [
        "X_digitosac = digitosac.transform(Xdigitos)"
      ],
      "execution_count": null,
      "outputs": []
    },
    {
      "cell_type": "markdown",
      "metadata": {
        "id": "EzpYRsvYh0Rw"
      },
      "source": [
        "Se visualizan los vectores latentes y se comparan con los producidos por _Principal Component Analysis_ (PCA)."
      ]
    },
    {
      "cell_type": "code",
      "metadata": {
        "colab": {
          "base_uri": "https://localhost:8080/",
          "height": 281
        },
        "id": "K9o_KDgxjeD2",
        "outputId": "78d74242-c28a-4d70-d43b-60a2790cf579"
      },
      "source": [
        "digitospca = PCA(n_components=2)\n",
        "X_digitospca = digitospca.fit_transform(Xdigitos)\n",
        "grafica_mapeos(X_digitosac, X_digitospca, digitos.target, np.unique(digitos.target))"
      ],
      "execution_count": null,
      "outputs": [
        {
          "output_type": "display_data",
          "data": {
            "image/png": "[encoded data removed]",
            "text/plain": [
              "<Figure size 432x288 with 2 Axes>"
            ]
          },
          "metadata": {
            "tags": [],
            "needs_background": "light"
          }
        }
      ]
    }
  ]
}