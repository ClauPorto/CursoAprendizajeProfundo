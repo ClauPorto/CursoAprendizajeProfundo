{
  "nbformat": 4,
  "nbformat_minor": 0,
  "metadata": {
    "colab": {
      "name": "6b_ac_quita_ruido.ipynb",
      "provenance": [],
      "collapsed_sections": [],
      "include_colab_link": true
    },
    "kernelspec": {
      "name": "python3",
      "display_name": "Python 3"
    },
    "accelerator": "GPU"
  },
  "cells": [
    {
      "cell_type": "markdown",
      "metadata": {
        "id": "view-in-github",
        "colab_type": "text"
      },
      "source": [
        "<a href=\"https://colab.research.google.com/github/gibranfp/CursoAprendizajeProfundo/blob/master/notebooks/6b_ac_quita_ruido.ipynb\" target=\"_parent\"><img src=\"https://colab.research.google.com/assets/colab-badge.svg\" alt=\"Open In Colab\"/></a>"
      ]
    },
    {
      "cell_type": "markdown",
      "metadata": {
        "id": "5-1339ovz37o",
        "colab_type": "text"
      },
      "source": [
        "# Autocodificadores quita ruido\n"
      ]
    },
    {
      "cell_type": "code",
      "metadata": {
        "id": "R9fUIYFnrUYP",
        "colab_type": "code",
        "colab": {
          "base_uri": "https://localhost:8080/",
          "height": 33
        },
        "outputId": "f9c1eef8-47c8-4332-b4bb-ef7b07911ffe"
      },
      "source": [
        "try:\n",
        "  %tensorflow_version 2.x\n",
        "except Exception:\n",
        "  pass\n",
        "\n",
        "import os\n",
        "from datetime import datetime\n",
        "\n",
        "import matplotlib.pyplot as plt\n",
        "import numpy as np\n",
        "import pandas as pd\n",
        "import tensorflow as tf\n",
        "from tensorflow.keras.layers import Dense, Flatten\n",
        "from tensorflow.keras import Model\n",
        "from tensorflow.keras.datasets import fashion_mnist\n",
        "from tensorflow.keras.layers import Input, Dense, Flatten\n",
        "from tensorflow.keras.layers import Conv2D, Conv2DTranspose, Reshape\n",
        "from tensorflow.keras import Model, Sequential\n",
        "from tensorflow.keras.regularizers import l1\n",
        "\n",
        "tf.keras.backend.set_floatx('float64')\n",
        "\n",
        "np.random.seed(1)\n",
        "tf.random.set_seed(2)"
      ],
      "execution_count": 1,
      "outputs": [
        {
          "output_type": "stream",
          "text": [
            "TensorFlow 2.x selected.\n"
          ],
          "name": "stdout"
        }
      ]
    },
    {
      "cell_type": "markdown",
      "metadata": {
        "id": "-N1W7OmW_4Q7",
        "colab_type": "text"
      },
      "source": [
        "## Carga de datos\n",
        "Se carga y preprocesan las imágenes del conjunto Fashion MNIST:"
      ]
    },
    {
      "cell_type": "code",
      "metadata": {
        "id": "3VKiOq43_yXi",
        "colab_type": "code",
        "colab": {
          "base_uri": "https://localhost:8080/",
          "height": 151
        },
        "outputId": "5e6bdb40-5bfb-4920-8a2c-1204c886ea89"
      },
      "source": [
        "(I_ent, y_ent), (I_val, y_val) = fashion_mnist.load_data()\n",
        "X_ent = I_ent.reshape(I_ent.shape[0], 784) / 255\n",
        "X_val = I_val.reshape(I_val.shape[0], 784) / 255"
      ],
      "execution_count": 2,
      "outputs": [
        {
          "output_type": "stream",
          "text": [
            "Downloading data from https://storage.googleapis.com/tensorflow/tf-keras-datasets/train-labels-idx1-ubyte.gz\n",
            "32768/29515 [=================================] - 0s 0us/step\n",
            "Downloading data from https://storage.googleapis.com/tensorflow/tf-keras-datasets/train-images-idx3-ubyte.gz\n",
            "26427392/26421880 [==============================] - 0s 0us/step\n",
            "Downloading data from https://storage.googleapis.com/tensorflow/tf-keras-datasets/t10k-labels-idx1-ubyte.gz\n",
            "8192/5148 [===============================================] - 0s 0us/step\n",
            "Downloading data from https://storage.googleapis.com/tensorflow/tf-keras-datasets/t10k-images-idx3-ubyte.gz\n",
            "4423680/4422102 [==============================] - 0s 0us/step\n"
          ],
          "name": "stdout"
        }
      ]
    },
    {
      "cell_type": "markdown",
      "metadata": {
        "id": "8IkYKxwh_-Cz",
        "colab_type": "text"
      },
      "source": [
        "Se define función de mapeo para la generación de una versión ruidosa de cada imagen:"
      ]
    },
    {
      "cell_type": "code",
      "metadata": {
        "id": "-IqN3v9s_9bw",
        "colab_type": "code",
        "colab": {}
      },
      "source": [
        "def procesa_imagen(imagen):\n",
        "  imagen = tf.cast(imagen, tf.float64)\n",
        "  ruido = tf.random.normal(imagen.shape, mean=0.2, stddev=0.3, dtype=tf.float64)\n",
        "  imagen_ruido = imagen + ruido\n",
        "  return imagen_ruido, imagen"
      ],
      "execution_count": 0,
      "outputs": []
    },
    {
      "cell_type": "markdown",
      "metadata": {
        "id": "YtMpCcLe_zPR",
        "colab_type": "text"
      },
      "source": [
        "Se genera la tubería de datos:"
      ]
    },
    {
      "cell_type": "code",
      "metadata": {
        "id": "p6qkByEO3ocE",
        "colab_type": "code",
        "colab": {}
      },
      "source": [
        "ent_ds = tf.data.Dataset.from_tensor_slices((X_ent))\n",
        "ent_ds = ent_ds.shuffle(60000)\n",
        "ent_ds = ent_ds.map(procesa_imagen, num_parallel_calls=tf.data.experimental.AUTOTUNE)\n",
        "ent_ds = ent_ds.batch(64)\n",
        "ent_ds = ent_ds.prefetch(buffer_size=tf.data.experimental.AUTOTUNE)\n",
        "\n",
        "val_ds = tf.data.Dataset.from_tensor_slices((X_val))\n",
        "val_ds = val_ds.map(procesa_imagen, num_parallel_calls=tf.data.experimental.AUTOTUNE)\n",
        "val_ds = val_ds.batch(1)"
      ],
      "execution_count": 0,
      "outputs": []
    },
    {
      "cell_type": "markdown",
      "metadata": {
        "id": "PgOBwAu2666x",
        "colab_type": "text"
      },
      "source": [
        "## Autocodificador contractivo\n",
        "Se define un autocodificador quita ruido contractivo:"
      ]
    },
    {
      "cell_type": "code",
      "metadata": {
        "id": "X0CoZajb6CEZ",
        "colab_type": "code",
        "outputId": "9037f6c6-4c23-4008-eb86-c0433740df07",
        "colab": {
          "base_uri": "https://localhost:8080/",
          "height": 352
        }
      },
      "source": [
        "cod = Sequential([Dense(100, activation='sigmoid', input_shape=(784,)),\n",
        "                  Dense(50, activation='sigmoid'),\n",
        "                  Dense(20, activation='sigmoid'),\n",
        "                  Dense(10, activation='sigmoid')])\n",
        "dec = Sequential([Dense(20, activation='sigmoid', input_shape=(10,)),\n",
        "                  Dense(50, activation='sigmoid'),\n",
        "                  Dense(100, activation='sigmoid'),\n",
        "                  Dense(784, activation='sigmoid')])\n",
        "ac = Model(cod.inputs, dec(cod.outputs))\n",
        "ac.summary()"
      ],
      "execution_count": 5,
      "outputs": [
        {
          "output_type": "stream",
          "text": [
            "Model: \"model\"\n",
            "_________________________________________________________________\n",
            "Layer (type)                 Output Shape              Param #   \n",
            "=================================================================\n",
            "dense_input (InputLayer)     [(None, 784)]             0         \n",
            "_________________________________________________________________\n",
            "dense (Dense)                (None, 100)               78500     \n",
            "_________________________________________________________________\n",
            "dense_1 (Dense)              (None, 50)                5050      \n",
            "_________________________________________________________________\n",
            "dense_2 (Dense)              (None, 20)                1020      \n",
            "_________________________________________________________________\n",
            "dense_3 (Dense)              (None, 10)                210       \n",
            "_________________________________________________________________\n",
            "sequential_1 (Sequential)    (None, 784)               85554     \n",
            "=================================================================\n",
            "Total params: 170,334\n",
            "Trainable params: 170,334\n",
            "Non-trainable params: 0\n",
            "_________________________________________________________________\n"
          ],
          "name": "stdout"
        }
      ]
    },
    {
      "cell_type": "markdown",
      "metadata": {
        "id": "bYRS-n7n7l_K",
        "colab_type": "text"
      },
      "source": [
        "Se entrena el autocodificador por 3 épocas con el optimizador Adam y función de pérdida de error cuadrático medio:"
      ]
    },
    {
      "cell_type": "code",
      "metadata": {
        "id": "UHtbvmQF5fwo",
        "colab_type": "code",
        "outputId": "e0521366-0a53-4140-ad18-1ca67d2d811e",
        "colab": {
          "base_uri": "https://localhost:8080/",
          "height": 67
        }
      },
      "source": [
        "@tf.function\n",
        "def paso_ent(x, y, modelo, fn_perdida, optimizador):\n",
        "    with tf.GradientTape() as cinta:\n",
        "        y_pred = modelo(x)\n",
        "        perdida = fn_perdida(y, y_pred)\n",
        "    gradientes = cinta.gradient(perdida, modelo.trainable_variables)\n",
        "    optimizador.apply_gradients(zip(gradientes, modelo.trainable_variables))\n",
        "    return y_pred\n",
        "\n",
        "fn_perdida = tf.keras.losses.MeanSquaredError()\n",
        "optimizador = tf.keras.optimizers.Adam()\n",
        "perdida_ent = tf.keras.metrics.MeanSquaredError()\n",
        "hist_perdida_ent = []\n",
        "for epoca in range(3):\n",
        "    for paso, (x, y) in enumerate(ent_ds):\n",
        "        y_pred = paso_ent(x, y,  ac, fn_perdida, optimizador)\n",
        "        perdida_ent(y, y_pred)\n",
        "        \n",
        "    perdida_ent_res = perdida_ent.result().numpy()\n",
        "    perdida_ent.reset_states()\n",
        "    hist_perdida_ent.append(perdida_ent_res)\n",
        "     \n",
        "    print('E{:2d} MSE(E)={:6.2f}'.format(epoca, \n",
        "                                         perdida_ent_res))"
      ],
      "execution_count": 6,
      "outputs": [
        {
          "output_type": "stream",
          "text": [
            "E 0 MSE(E)=  0.08\n",
            "E 1 MSE(E)=  0.06\n",
            "E 2 MSE(E)=  0.05\n"
          ],
          "name": "stdout"
        }
      ]
    },
    {
      "cell_type": "markdown",
      "metadata": {
        "id": "e-fzuFn2WcaK",
        "colab_type": "text"
      },
      "source": [
        "Se visualizan los resultados con algunos ejemplos del conjunto de validación:"
      ]
    },
    {
      "cell_type": "code",
      "metadata": {
        "id": "6HsEsc7y8LQY",
        "colab_type": "code",
        "outputId": "eff7639a-525c-43c9-a497-fa9fff4686ad",
        "colab": {
          "base_uri": "https://localhost:8080/",
          "height": 134
        }
      },
      "source": [
        "plt.figure(figsize=(5, 2))\n",
        "for i, (x, y) in enumerate(val_ds.take(10)):\n",
        "    ax = plt.subplot(2, 10, i + 1)\n",
        "    plt.imshow(x.numpy().reshape(28, 28))\n",
        "    plt.gray()\n",
        "\n",
        "    ax = plt.subplot(2, 10, i + 1 + 10)\n",
        "    plt.imshow(dec(cod(x)).numpy().reshape(28, 28))"
      ],
      "execution_count": 7,
      "outputs": [
        {
          "output_type": "display_data",
          "data": {
            "image/png": "[encoded data removed]",
            "text/plain": [
              "<Figure size 360x144 with 20 Axes>"
            ]
          },
          "metadata": {
            "tags": []
          }
        }
      ]
    },
    {
      "cell_type": "markdown",
      "metadata": {
        "id": "CsFHYxxLDLXF",
        "colab_type": "text"
      },
      "source": [
        "## Autocodificador disperso\n",
        "Se define un autocodificador quita ruido disperso agregando un regularizador de activaciones sobre la salida del codificador:\n",
        "\n"
      ]
    },
    {
      "cell_type": "code",
      "metadata": {
        "id": "5jYekEImDNuC",
        "colab_type": "code",
        "outputId": "e85b4b9d-a1e2-4aba-f119-dacb35689716",
        "colab": {
          "base_uri": "https://localhost:8080/",
          "height": 352
        }
      },
      "source": [
        "cod_d = Sequential([Dense(1000, activation='sigmoid', input_shape=(784,)),\n",
        "                    Dense(500, activation='sigmoid'),\n",
        "                    Dense(200, activation='sigmoid'),\n",
        "                    Dense(100, activation='sigmoid', activity_regularizer=l1(10e-5))])\n",
        "dec_d = Sequential([Dense(200, activation='sigmoid', input_shape=(100,)),\n",
        "                    Dense(500, activation='sigmoid'),\n",
        "                    Dense(1000, activation='sigmoid'),\n",
        "                    Dense(784, activation='sigmoid')])\n",
        "ac_d = Model(cod_d.inputs, dec_d(cod_d.outputs))\n",
        "ac_d.summary()"
      ],
      "execution_count": 8,
      "outputs": [
        {
          "output_type": "stream",
          "text": [
            "Model: \"model_1\"\n",
            "_________________________________________________________________\n",
            "Layer (type)                 Output Shape              Param #   \n",
            "=================================================================\n",
            "dense_8_input (InputLayer)   [(None, 784)]             0         \n",
            "_________________________________________________________________\n",
            "dense_8 (Dense)              (None, 1000)              785000    \n",
            "_________________________________________________________________\n",
            "dense_9 (Dense)              (None, 500)               500500    \n",
            "_________________________________________________________________\n",
            "dense_10 (Dense)             (None, 200)               100200    \n",
            "_________________________________________________________________\n",
            "dense_11 (Dense)             (None, 100)               20100     \n",
            "_________________________________________________________________\n",
            "sequential_3 (Sequential)    (None, 784)               1406484   \n",
            "=================================================================\n",
            "Total params: 2,812,284\n",
            "Trainable params: 2,812,284\n",
            "Non-trainable params: 0\n",
            "_________________________________________________________________\n"
          ],
          "name": "stdout"
        }
      ]
    },
    {
      "cell_type": "markdown",
      "metadata": {
        "id": "apYiIBteDuqH",
        "colab_type": "text"
      },
      "source": [
        "Se entrena el autocodificador por 3 épocas con el optimizador Adam y función de pérdida de error cuadrático medio:"
      ]
    },
    {
      "cell_type": "code",
      "metadata": {
        "id": "pcHTDhQdDwLQ",
        "colab_type": "code",
        "outputId": "5878eebb-5a3a-4ce6-9ed6-f7becab7a683",
        "colab": {
          "base_uri": "https://localhost:8080/",
          "height": 67
        }
      },
      "source": [
        "@tf.function\n",
        "def paso_ent(x, y, modelo, fn_perdida, optimizador):\n",
        "    with tf.GradientTape() as cinta:\n",
        "        y_pred = modelo(x)\n",
        "        perdida = fn_perdida(y, y_pred)\n",
        "    gradientes = cinta.gradient(perdida, modelo.trainable_variables)\n",
        "    optimizador.apply_gradients(zip(gradientes, modelo.trainable_variables))\n",
        "    return y_pred\n",
        "\n",
        "fn_perdida = tf.keras.losses.MeanSquaredError()\n",
        "optimizador = tf.keras.optimizers.Adam()\n",
        "perdida_ent = tf.keras.metrics.MeanSquaredError()\n",
        "hist_perdida_ent = []\n",
        "for epoca in range(3):\n",
        "    for paso, (x, y) in enumerate(ent_ds):\n",
        "        y_pred = paso_ent(x, y,  ac_d, fn_perdida, optimizador)\n",
        "        perdida_ent(y, y_pred)\n",
        "        \n",
        "    perdida_ent_res = perdida_ent.result().numpy()\n",
        "    perdida_ent.reset_states()\n",
        "    hist_perdida_ent.append(perdida_ent_res)\n",
        "     \n",
        "    print('E{:2d} MSE(E)={:6.2f}'.format(epoca, \n",
        "                                         perdida_ent_res))"
      ],
      "execution_count": 9,
      "outputs": [
        {
          "output_type": "stream",
          "text": [
            "E 0 MSE(E)=  0.07\n",
            "E 1 MSE(E)=  0.03\n",
            "E 2 MSE(E)=  0.03\n"
          ],
          "name": "stdout"
        }
      ]
    },
    {
      "cell_type": "markdown",
      "metadata": {
        "id": "PASCOWA2WHU6",
        "colab_type": "text"
      },
      "source": [
        "Se visualizan los resultados con algunos ejemplos del conjunto de validación:"
      ]
    },
    {
      "cell_type": "code",
      "metadata": {
        "id": "jyc7cv_9RYha",
        "colab_type": "code",
        "outputId": "498f436f-caa5-44c7-85e1-8b165a830f43",
        "colab": {
          "base_uri": "https://localhost:8080/",
          "height": 134
        }
      },
      "source": [
        "plt.figure(figsize=(5, 2))\n",
        "for i, (x, y) in enumerate(val_ds.take(10)):\n",
        "    ax = plt.subplot(2, 10, i + 1)\n",
        "    plt.imshow(x.numpy().reshape(28, 28))\n",
        "    plt.gray()\n",
        "\n",
        "    ax = plt.subplot(2, 10, i + 1 + 10)\n",
        "    plt.imshow(dec_d(cod_d(x)).numpy().reshape(28, 28))"
      ],
      "execution_count": 10,
      "outputs": [
        {
          "output_type": "display_data",
          "data": {
            "image/png": "[encoded data removed]",
            "text/plain": [
              "<Figure size 360x144 with 20 Axes>"
            ]
          },
          "metadata": {
            "tags": []
          }
        }
      ]
    },
    {
      "cell_type": "markdown",
      "metadata": {
        "id": "v0b1l7p5qyXk",
        "colab_type": "text"
      },
      "source": [
        "## Autocodificador convolucional"
      ]
    },
    {
      "cell_type": "markdown",
      "metadata": {
        "id": "xEZr-BIsVzLe",
        "colab_type": "text"
      },
      "source": [
        "Se cargan las imágenes como tensor de $28 \\times 28 \\times 1$ para alimentarlas a la red convolucional y se genera una tubería de datos:"
      ]
    },
    {
      "cell_type": "code",
      "metadata": {
        "id": "0wUdzHxY8T_w",
        "colab_type": "code",
        "colab": {}
      },
      "source": [
        "X_ent_im = I_ent.reshape(I_ent.shape[0], 28, 28, 1) / 255\n",
        "X_val_im = I_val.reshape(I_val.shape[0], 28, 28, 1) / 255\n",
        "\n",
        "ent_ds_c = tf.data.Dataset.from_tensor_slices((X_ent_im))\n",
        "ent_ds_c = ent_ds_c.shuffle(60000)\n",
        "ent_ds_c = ent_ds_c.map(procesa_imagen, num_parallel_calls=tf.data.experimental.AUTOTUNE)\n",
        "ent_ds_c = ent_ds_c.batch(64)\n",
        "ent_ds_c = ent_ds_c.prefetch(buffer_size=tf.data.experimental.AUTOTUNE)\n",
        "\n",
        "val_ds_c = tf.data.Dataset.from_tensor_slices((X_val_im))\n",
        "val_ds_c = val_ds_c.map(procesa_imagen, num_parallel_calls=tf.data.experimental.AUTOTUNE)\n",
        "val_ds_c = val_ds_c.batch(1)"
      ],
      "execution_count": 0,
      "outputs": []
    },
    {
      "cell_type": "markdown",
      "metadata": {
        "id": "SSerWFwtV-01",
        "colab_type": "text"
      },
      "source": [
        "Se define un autocodificador convolucional:"
      ]
    },
    {
      "cell_type": "code",
      "metadata": {
        "id": "8HGSed6IRmwi",
        "colab_type": "code",
        "outputId": "ca933dad-0dcd-4add-910a-8592e82db828",
        "colab": {
          "base_uri": "https://localhost:8080/",
          "height": 386
        }
      },
      "source": [
        "cod_c = Sequential([Conv2D(64, 3, activation='relu', padding='same', input_shape=(28,28,1)),\n",
        "                    Conv2D(32, 3, activation='relu', padding='same'),\n",
        "                    Conv2D(16, 3, activation='relu', padding='same'),\n",
        "                    Flatten(),\n",
        "                    Dense(100, activity_regularizer=l1(10e-3))])\n",
        "dec_c = Sequential([Dense(784, input_shape=(100,)),\n",
        "                    Reshape((28, 28, 1)),\n",
        "                    Conv2DTranspose(16, 3, activation='relu', padding='same'),\n",
        "                    Conv2DTranspose(32, 3, activation='relu', padding='same'),\n",
        "                    Conv2DTranspose(64, 3, activation='relu', padding='same'),\n",
        "                    Conv2DTranspose(1, 3, activation='sigmoid', padding='same')])\n",
        "ac_c = Model(cod_c.inputs, dec_c(cod_c.outputs))\n",
        "ac_c.summary()"
      ],
      "execution_count": 12,
      "outputs": [
        {
          "output_type": "stream",
          "text": [
            "Model: \"model_2\"\n",
            "_________________________________________________________________\n",
            "Layer (type)                 Output Shape              Param #   \n",
            "=================================================================\n",
            "conv2d_input (InputLayer)    [(None, 28, 28, 1)]       0         \n",
            "_________________________________________________________________\n",
            "conv2d (Conv2D)              (None, 28, 28, 64)        640       \n",
            "_________________________________________________________________\n",
            "conv2d_1 (Conv2D)            (None, 28, 28, 32)        18464     \n",
            "_________________________________________________________________\n",
            "conv2d_2 (Conv2D)            (None, 28, 28, 16)        4624      \n",
            "_________________________________________________________________\n",
            "flatten (Flatten)            (None, 12544)             0         \n",
            "_________________________________________________________________\n",
            "dense_16 (Dense)             (None, 100)               1254500   \n",
            "_________________________________________________________________\n",
            "sequential_5 (Sequential)    (None, 28, 28, 1)         103057    \n",
            "=================================================================\n",
            "Total params: 1,381,285\n",
            "Trainable params: 1,381,285\n",
            "Non-trainable params: 0\n",
            "_________________________________________________________________\n"
          ],
          "name": "stdout"
        }
      ]
    },
    {
      "cell_type": "markdown",
      "metadata": {
        "id": "M6p5sikyYFrB",
        "colab_type": "text"
      },
      "source": [
        "Se entrena el autocodificador por 3 épocas con el optimizador Adam y función de pérdida de error cuadrático medio:"
      ]
    },
    {
      "cell_type": "code",
      "metadata": {
        "id": "1h2I1JhjRbpz",
        "colab_type": "code",
        "outputId": "083c122c-f211-423b-ae5f-33895a4662b9",
        "colab": {
          "base_uri": "https://localhost:8080/",
          "height": 67
        }
      },
      "source": [
        "@tf.function\n",
        "def paso_ent(x, y, modelo, fn_perdida, optimizador):\n",
        "    with tf.GradientTape() as cinta:\n",
        "        y_pred = modelo(x)\n",
        "        perdida = fn_perdida(y, y_pred)\n",
        "    gradientes = cinta.gradient(perdida, modelo.trainable_variables)\n",
        "    optimizador.apply_gradients(zip(gradientes, modelo.trainable_variables))\n",
        "    return y_pred\n",
        "\n",
        "fn_perdida = tf.keras.losses.MeanSquaredError()\n",
        "optimizador = tf.keras.optimizers.Adam()\n",
        "perdida_ent = tf.keras.metrics.MeanSquaredError()\n",
        "hist_perdida_ent = []\n",
        "for epoca in range(3):\n",
        "    for paso, (x, y) in enumerate(ent_ds_c):\n",
        "        y_pred = paso_ent(x, y,  ac_c, fn_perdida, optimizador)\n",
        "        perdida_ent(y, y_pred)\n",
        "        \n",
        "    perdida_ent_res = perdida_ent.result().numpy()\n",
        "    perdida_ent.reset_states()\n",
        "    hist_perdida_ent.append(perdida_ent_res)\n",
        "     \n",
        "    print('E{:2d} MSE(E)={:6.2f}'.format(epoca, \n",
        "                                         perdida_ent_res))"
      ],
      "execution_count": 13,
      "outputs": [
        {
          "output_type": "stream",
          "text": [
            "E 0 MSE(E)=  0.02\n",
            "E 1 MSE(E)=  0.01\n",
            "E 2 MSE(E)=  0.01\n"
          ],
          "name": "stdout"
        }
      ]
    },
    {
      "cell_type": "markdown",
      "metadata": {
        "id": "Xfil0JVzYNkn",
        "colab_type": "text"
      },
      "source": [
        "Se visualizan los resultados con algunos ejemplos del conjunto de validación:"
      ]
    },
    {
      "cell_type": "code",
      "metadata": {
        "id": "oJga_34NUvyF",
        "colab_type": "code",
        "outputId": "ec744a6d-a526-4ffd-88a2-486d5f9efc8a",
        "colab": {
          "base_uri": "https://localhost:8080/",
          "height": 134
        }
      },
      "source": [
        "plt.figure(figsize=(5, 2))\n",
        "for i, (x, y) in enumerate(val_ds_c.take(10)):\n",
        "    ax = plt.subplot(2, 10, i + 1)\n",
        "    plt.imshow(x.numpy().reshape(28, 28))\n",
        "    plt.gray()\n",
        "\n",
        "    ax = plt.subplot(2, 10, i + 1 + 10)\n",
        "    plt.imshow(dec_c(cod_c(x)).numpy().reshape(28, 28))"
      ],
      "execution_count": 14,
      "outputs": [
        {
          "output_type": "display_data",
          "data": {
            "image/png": "[encoded data removed]",
            "text/plain": [
              "<Figure size 360x144 with 20 Axes>"
            ]
          },
          "metadata": {
            "tags": []
          }
        }
      ]
    }
  ]
}