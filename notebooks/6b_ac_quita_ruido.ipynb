{
  "nbformat": 4,
  "nbformat_minor": 0,
  "metadata": {
    "colab": {
      "name": "6b_ac_quita_ruido.ipynb",
      "provenance": [],
      "collapsed_sections": [],
      "include_colab_link": true
    },
    "kernelspec": {
      "name": "python3",
      "display_name": "Python 3"
    }
  },
  "cells": [
    {
      "cell_type": "markdown",
      "metadata": {
        "id": "view-in-github",
        "colab_type": "text"
      },
      "source": [
        "<a href=\"https://colab.research.google.com/github/gibranfp/CursoAprendizajeProfundo/blob/master/notebooks/6b_ac_quita_ruido.ipynb\" target=\"_parent\"><img src=\"https://colab.research.google.com/assets/colab-badge.svg\" alt=\"Open In Colab\"/></a>"
      ]
    },
    {
      "cell_type": "markdown",
      "metadata": {
        "id": "5-1339ovz37o",
        "colab_type": "text"
      },
      "source": [
        "# Autocodificadores quita ruido dispersos\n"
      ]
    },
    {
      "cell_type": "code",
      "metadata": {
        "id": "R9fUIYFnrUYP",
        "colab_type": "code",
        "colab": {}
      },
      "source": [
        "try:\n",
        "  %tensorflow_version 2.x\n",
        "except Exception:\n",
        "  pass\n",
        "\n",
        "import os\n",
        "from datetime import datetime\n",
        "\n",
        "import matplotlib.pyplot as plt\n",
        "import numpy as np\n",
        "import pandas as pd\n",
        "import tensorflow as tf\n",
        "from tensorflow.keras.layers import Dense, Flatten\n",
        "from tensorflow.keras import Model\n",
        "from tensorflow.keras.datasets import fashion_mnist\n",
        "from tensorflow.keras.layers import Input, Dense, Flatten\n",
        "from tensorflow.keras.layers import Conv2D, Conv2DTranspose, Reshape\n",
        "from tensorflow.keras import Model, Sequential\n",
        "from tensorflow.keras.regularizers import l1\n",
        "\n",
        "tf.keras.backend.set_floatx('float64')\n",
        "\n",
        "np.random.seed(1)\n",
        "tf.random.set_seed(2)"
      ],
      "execution_count": 0,
      "outputs": []
    },
    {
      "cell_type": "markdown",
      "metadata": {
        "id": "0Z7vms7l68m_",
        "colab_type": "text"
      },
      "source": [
        "## Carga de datos"
      ]
    },
    {
      "cell_type": "markdown",
      "metadata": {
        "id": "-N1W7OmW_4Q7",
        "colab_type": "text"
      },
      "source": [
        "Carga y preprocesa las imágenes:"
      ]
    },
    {
      "cell_type": "code",
      "metadata": {
        "id": "3VKiOq43_yXi",
        "colab_type": "code",
        "colab": {}
      },
      "source": [
        "(I_ent, y_ent), (I_val, y_val) = fashion_mnist.load_data()\n",
        "X_ent = I_ent.reshape(I_ent.shape[0], 784) / 255\n",
        "X_val = I_val.reshape(I_val.shape[0], 784) / 255"
      ],
      "execution_count": 0,
      "outputs": []
    },
    {
      "cell_type": "markdown",
      "metadata": {
        "id": "8IkYKxwh_-Cz",
        "colab_type": "text"
      },
      "source": [
        "Define función de mapeo para tubería de datos:"
      ]
    },
    {
      "cell_type": "code",
      "metadata": {
        "id": "-IqN3v9s_9bw",
        "colab_type": "code",
        "colab": {}
      },
      "source": [
        "def procesa_imagen(imagen):\n",
        "  imagen = tf.cast(imagen, tf.float64)\n",
        "  ruido = tf.random.normal(imagen.shape, mean=0.5, stddev=0.5, dtype=tf.float64)\n",
        "  imagen_ruido = imagen + ruido\n",
        "  return imagen_ruido, imagen"
      ],
      "execution_count": 0,
      "outputs": []
    },
    {
      "cell_type": "markdown",
      "metadata": {
        "id": "YtMpCcLe_zPR",
        "colab_type": "text"
      },
      "source": [
        "Genera la tubería de datos:"
      ]
    },
    {
      "cell_type": "code",
      "metadata": {
        "id": "p6qkByEO3ocE",
        "colab_type": "code",
        "colab": {}
      },
      "source": [
        "ent_ds = tf.data.Dataset.from_tensor_slices((X_ent))\n",
        "ent_ds = ent_ds.shuffle(60000)\n",
        "ent_ds = ent_ds.map(procesa_imagen, num_parallel_calls=tf.data.experimental.AUTOTUNE)\n",
        "ent_ds = ent_ds.batch(64)\n",
        "ent_ds = ent_ds.prefetch(buffer_size=tf.data.experimental.AUTOTUNE)\n",
        "\n",
        "val_ds = tf.data.Dataset.from_tensor_slices((X_val))\n",
        "val_ds = val_ds.map(procesa_imagen, num_parallel_calls=tf.data.experimental.AUTOTUNE)\n",
        "val_ds = val_ds.batch(1)"
      ],
      "execution_count": 0,
      "outputs": []
    },
    {
      "cell_type": "markdown",
      "metadata": {
        "id": "PgOBwAu2666x",
        "colab_type": "text"
      },
      "source": [
        "## Modelo"
      ]
    },
    {
      "cell_type": "code",
      "metadata": {
        "id": "X0CoZajb6CEZ",
        "colab_type": "code",
        "outputId": "0ce2d816-e00b-4a55-b381-2893d03c45e9",
        "colab": {
          "base_uri": "https://localhost:8080/",
          "height": 360
        }
      },
      "source": [
        "cod = Sequential([Dense(100, activation='sigmoid', input_shape=(784,)),\n",
        "                  Dense(50, activation='sigmoid'),\n",
        "                  Dense(20, activation='sigmoid'),\n",
        "                  Dense(10, activation='linear')])\n",
        "dec = Sequential([Dense(20, activation='sigmoid', input_shape=(10,)),\n",
        "                  Dense(50, activation='sigmoid'),\n",
        "                  Dense(100, activation='sigmoid'),\n",
        "                  Dense(784, activation='sigmoid')])\n",
        "ac = Model(cod.inputs, dec(cod.outputs))\n",
        "ac.summary()"
      ],
      "execution_count": 5,
      "outputs": [
        {
          "output_type": "stream",
          "text": [
            "Model: \"model\"\n",
            "_________________________________________________________________\n",
            "Layer (type)                 Output Shape              Param #   \n",
            "=================================================================\n",
            "dense_input (InputLayer)     [(None, 784)]             0         \n",
            "_________________________________________________________________\n",
            "dense (Dense)                (None, 100)               78500     \n",
            "_________________________________________________________________\n",
            "dense_1 (Dense)              (None, 50)                5050      \n",
            "_________________________________________________________________\n",
            "dense_2 (Dense)              (None, 20)                1020      \n",
            "_________________________________________________________________\n",
            "dense_3 (Dense)              (None, 10)                210       \n",
            "_________________________________________________________________\n",
            "sequential_1 (Sequential)    (None, 784)               85554     \n",
            "=================================================================\n",
            "Total params: 170,334\n",
            "Trainable params: 170,334\n",
            "Non-trainable params: 0\n",
            "_________________________________________________________________\n"
          ],
          "name": "stdout"
        }
      ]
    },
    {
      "cell_type": "markdown",
      "metadata": {
        "id": "bYRS-n7n7l_K",
        "colab_type": "text"
      },
      "source": [
        "## Entrenamiento"
      ]
    },
    {
      "cell_type": "code",
      "metadata": {
        "id": "UHtbvmQF5fwo",
        "colab_type": "code",
        "outputId": "685f1d7f-c941-453f-f2e3-276cead6fe00",
        "colab": {
          "base_uri": "https://localhost:8080/",
          "height": 188
        }
      },
      "source": [
        "@tf.function\n",
        "def paso_ent(x, y, modelo, fn_perdida, optimizador):\n",
        "    with tf.GradientTape() as cinta:\n",
        "        y_pred = modelo(x)\n",
        "        perdida = fn_perdida(y, y_pred)\n",
        "    gradientes = cinta.gradient(perdida, modelo.trainable_variables)\n",
        "    optimizador.apply_gradients(zip(gradientes, modelo.trainable_variables))\n",
        "    return y_pred\n",
        "\n",
        "fn_perdida = tf.keras.losses.MeanSquaredError()\n",
        "optimizador = tf.keras.optimizers.Adam()\n",
        "perdida_ent = tf.keras.metrics.MeanSquaredError()\n",
        "hist_perdida_ent = []\n",
        "for epoca in range(10):\n",
        "    for paso, (x, y) in enumerate(ent_ds):\n",
        "        y_pred = paso_ent(x, y,  ac, fn_perdida, optimizador)\n",
        "        perdida_ent(y, y_pred)\n",
        "        \n",
        "    perdida_ent_res = perdida_ent.result().numpy()\n",
        "    perdida_ent.reset_states()\n",
        "    hist_perdida_ent.append(perdida_ent_res)\n",
        "     \n",
        "    print('E{:2d} MSE(E)={:6.2f}'.format(epoca, \n",
        "                                         perdida_ent_res))"
      ],
      "execution_count": 6,
      "outputs": [
        {
          "output_type": "stream",
          "text": [
            "E 0 MSE(E)=  0.08\n",
            "E 1 MSE(E)=  0.06\n",
            "E 2 MSE(E)=  0.05\n",
            "E 3 MSE(E)=  0.05\n",
            "E 4 MSE(E)=  0.05\n",
            "E 5 MSE(E)=  0.04\n",
            "E 6 MSE(E)=  0.04\n",
            "E 7 MSE(E)=  0.04\n",
            "E 8 MSE(E)=  0.04\n",
            "E 9 MSE(E)=  0.03\n"
          ],
          "name": "stdout"
        }
      ]
    },
    {
      "cell_type": "code",
      "metadata": {
        "id": "6HsEsc7y8LQY",
        "colab_type": "code",
        "outputId": "b091b419-249b-4d19-89be-0a046ffe021c",
        "colab": {
          "base_uri": "https://localhost:8080/",
          "height": 134
        }
      },
      "source": [
        "plt.figure(figsize=(5, 2))\n",
        "for i, (x, y) in enumerate(val_ds.take(10)):\n",
        "    ax = plt.subplot(2, 10, i + 1)\n",
        "    plt.imshow(x.numpy().reshape(28, 28))\n",
        "    plt.gray()\n",
        "\n",
        "    ax = plt.subplot(2, 10, i + 1 + 10)\n",
        "    plt.imshow(dec(cod(x)).numpy().reshape(28, 28))"
      ],
      "execution_count": 7,
      "outputs": [
        {
          "output_type": "display_data",
          "data": {
            "text/plain": [
              "<Figure size 360x144 with 20 Axes>"
            ],
            "image/png": "[encoded data removed]"
          },
          "metadata": {
            "tags": [],
            "needs_background": "light"
          }
        }
      ]
    },
    {
      "cell_type": "markdown",
      "metadata": {
        "id": "CsFHYxxLDLXF",
        "colab_type": "text"
      },
      "source": [
        "## Autocodificador disperso"
      ]
    },
    {
      "cell_type": "code",
      "metadata": {
        "id": "5jYekEImDNuC",
        "colab_type": "code",
        "outputId": "09ee6753-8a0e-47cd-ff44-eb948ce6b294",
        "colab": {
          "base_uri": "https://localhost:8080/",
          "height": 360
        }
      },
      "source": [
        "cod_d = Sequential([Dense(1000, activation='sigmoid', input_shape=(784,)),\n",
        "                    Dense(500, activation='sigmoid'),\n",
        "                    Dense(200, activation='sigmoid'),\n",
        "                    Dense(100, activation='linear', activity_regularizer=l1(10e-5))])\n",
        "dec_d = Sequential([Dense(200, activation='sigmoid', input_shape=(100,)),\n",
        "                    Dense(500, activation='sigmoid'),\n",
        "                    Dense(1000, activation='sigmoid'),\n",
        "                    Dense(784, activation='sigmoid')])\n",
        "ac_d = Model(cod_d.inputs, dec_d(cod_d.outputs))\n",
        "ac_d.summary()"
      ],
      "execution_count": 8,
      "outputs": [
        {
          "output_type": "stream",
          "text": [
            "Model: \"model_1\"\n",
            "_________________________________________________________________\n",
            "Layer (type)                 Output Shape              Param #   \n",
            "=================================================================\n",
            "dense_8_input (InputLayer)   [(None, 784)]             0         \n",
            "_________________________________________________________________\n",
            "dense_8 (Dense)              (None, 1000)              785000    \n",
            "_________________________________________________________________\n",
            "dense_9 (Dense)              (None, 500)               500500    \n",
            "_________________________________________________________________\n",
            "dense_10 (Dense)             (None, 200)               100200    \n",
            "_________________________________________________________________\n",
            "dense_11 (Dense)             (None, 100)               20100     \n",
            "_________________________________________________________________\n",
            "sequential_3 (Sequential)    (None, 784)               1406484   \n",
            "=================================================================\n",
            "Total params: 2,812,284\n",
            "Trainable params: 2,812,284\n",
            "Non-trainable params: 0\n",
            "_________________________________________________________________\n"
          ],
          "name": "stdout"
        }
      ]
    },
    {
      "cell_type": "markdown",
      "metadata": {
        "id": "apYiIBteDuqH",
        "colab_type": "text"
      },
      "source": [
        "## Entrenamiento"
      ]
    },
    {
      "cell_type": "code",
      "metadata": {
        "id": "pcHTDhQdDwLQ",
        "colab_type": "code",
        "outputId": "6bbfb693-d129-41c1-8cc6-225fbf9ac067",
        "colab": {
          "base_uri": "https://localhost:8080/",
          "height": 188
        }
      },
      "source": [
        "@tf.function\n",
        "def paso_ent(x, y, modelo, fn_perdida, optimizador):\n",
        "    with tf.GradientTape() as cinta:\n",
        "        y_pred = modelo(x)\n",
        "        perdida = fn_perdida(y, y_pred)\n",
        "    gradientes = cinta.gradient(perdida, modelo.trainable_variables)\n",
        "    optimizador.apply_gradients(zip(gradientes, modelo.trainable_variables))\n",
        "    return y_pred\n",
        "\n",
        "fn_perdida = tf.keras.losses.MeanSquaredError()\n",
        "optimizador = tf.keras.optimizers.Adam()\n",
        "perdida_ent = tf.keras.metrics.MeanSquaredError()\n",
        "hist_perdida_ent = []\n",
        "for epoca in range(10):\n",
        "    for paso, (x, y) in enumerate(ent_ds):\n",
        "        y_pred = paso_ent(x, y,  ac_d, fn_perdida, optimizador)\n",
        "        perdida_ent(y, y_pred)\n",
        "        \n",
        "    perdida_ent_res = perdida_ent.result().numpy()\n",
        "    perdida_ent.reset_states()\n",
        "    hist_perdida_ent.append(perdida_ent_res)\n",
        "     \n",
        "    print('E{:2d} MSE(E)={:6.2f}'.format(epoca, \n",
        "                                         perdida_ent_res))"
      ],
      "execution_count": 9,
      "outputs": [
        {
          "output_type": "stream",
          "text": [
            "E 0 MSE(E)=  0.06\n",
            "E 1 MSE(E)=  0.03\n",
            "E 2 MSE(E)=  0.03\n",
            "E 3 MSE(E)=  0.03\n",
            "E 4 MSE(E)=  0.03\n",
            "E 5 MSE(E)=  0.02\n",
            "E 6 MSE(E)=  0.02\n",
            "E 7 MSE(E)=  0.02\n",
            "E 8 MSE(E)=  0.02\n",
            "E 9 MSE(E)=  0.02\n"
          ],
          "name": "stdout"
        }
      ]
    },
    {
      "cell_type": "code",
      "metadata": {
        "id": "jyc7cv_9RYha",
        "colab_type": "code",
        "outputId": "0c9027a5-c8c6-4a43-9729-dabdbe2abd12",
        "colab": {
          "base_uri": "https://localhost:8080/",
          "height": 134
        }
      },
      "source": [
        "plt.figure(figsize=(5, 2))\n",
        "for i, (x, y) in enumerate(val_ds.take(10)):\n",
        "    ax = plt.subplot(2, 10, i + 1)\n",
        "    plt.imshow(x.numpy().reshape(28, 28))\n",
        "    plt.gray()\n",
        "\n",
        "    ax = plt.subplot(2, 10, i + 1 + 10)\n",
        "    plt.imshow(dec_d(cod_d(x)).numpy().reshape(28, 28))"
      ],
      "execution_count": 10,
      "outputs": [
        {
          "output_type": "display_data",
          "data": {
            "text/plain": [
              "<Figure size 360x144 with 20 Axes>"
            ],
            "image/png": "[encoded data removed]"
          },
          "metadata": {
            "tags": [],
            "needs_background": "light"
          }
        }
      ]
    },
    {
      "cell_type": "markdown",
      "metadata": {
        "id": "v0b1l7p5qyXk",
        "colab_type": "text"
      },
      "source": [
        "## Autocodificador convolucional"
      ]
    },
    {
      "cell_type": "code",
      "metadata": {
        "id": "0wUdzHxY8T_w",
        "colab_type": "code",
        "colab": {}
      },
      "source": [
        "X_ent_im = I_ent.reshape(I_ent.shape[0], 28, 28, 1) / 255\n",
        "X_val_im = I_val.reshape(I_val.shape[0], 28, 28, 1) / 255"
      ],
      "execution_count": 0,
      "outputs": []
    },
    {
      "cell_type": "code",
      "metadata": {
        "id": "8HGSed6IRmwi",
        "colab_type": "code",
        "outputId": "18428c2f-c9d7-4f0f-85e5-a81224c45c29",
        "colab": {
          "base_uri": "https://localhost:8080/",
          "height": 394
        }
      },
      "source": [
        "cod_c = Sequential([Conv2D(64, 3, activation='relu', padding='same', input_shape=(28,28,1)),\n",
        "                    Conv2D(32, 3, activation='relu', padding='same'),\n",
        "                    Conv2D(16, 3, activation='relu', padding='same'),\n",
        "                    Flatten(),\n",
        "                    Dense(100, activity_regularizer=l1(10e-3))])\n",
        "dec_c = Sequential([Dense(784, input_shape=(100,)),\n",
        "                    Reshape((28, 28, 1)),\n",
        "                    Conv2DTranspose(16, 3, activation='relu', padding='same'),\n",
        "                    Conv2DTranspose(32, 3, activation='relu', padding='same'),\n",
        "                    Conv2DTranspose(64, 3, activation='relu', padding='same'),\n",
        "                    Conv2DTranspose(1, 3, activation='sigmoid', padding='same')])\n",
        "ac_c = Model(cod_c.inputs, dec_c(cod_c.outputs))\n",
        "ac_c.summary()"
      ],
      "execution_count": 12,
      "outputs": [
        {
          "output_type": "stream",
          "text": [
            "Model: \"model_2\"\n",
            "_________________________________________________________________\n",
            "Layer (type)                 Output Shape              Param #   \n",
            "=================================================================\n",
            "conv2d_input (InputLayer)    [(None, 28, 28, 1)]       0         \n",
            "_________________________________________________________________\n",
            "conv2d (Conv2D)              (None, 28, 28, 64)        640       \n",
            "_________________________________________________________________\n",
            "conv2d_1 (Conv2D)            (None, 28, 28, 32)        18464     \n",
            "_________________________________________________________________\n",
            "conv2d_2 (Conv2D)            (None, 28, 28, 16)        4624      \n",
            "_________________________________________________________________\n",
            "flatten (Flatten)            (None, 12544)             0         \n",
            "_________________________________________________________________\n",
            "dense_16 (Dense)             (None, 100)               1254500   \n",
            "_________________________________________________________________\n",
            "sequential_5 (Sequential)    (None, 28, 28, 1)         103057    \n",
            "=================================================================\n",
            "Total params: 1,381,285\n",
            "Trainable params: 1,381,285\n",
            "Non-trainable params: 0\n",
            "_________________________________________________________________\n"
          ],
          "name": "stdout"
        }
      ]
    },
    {
      "cell_type": "code",
      "metadata": {
        "id": "pNDgqyJn9Yf9",
        "colab_type": "code",
        "colab": {}
      },
      "source": [
        "ent_ds_c = tf.data.Dataset.from_tensor_slices((X_ent_im))\n",
        "ent_ds_c = ent_ds_c.shuffle(60000)\n",
        "ent_ds_c = ent_ds_c.map(procesa_imagen, num_parallel_calls=tf.data.experimental.AUTOTUNE)\n",
        "ent_ds_c = ent_ds_c.batch(64)\n",
        "ent_ds_c = ent_ds_c.prefetch(buffer_size=tf.data.experimental.AUTOTUNE)\n",
        "\n",
        "val_ds_c = tf.data.Dataset.from_tensor_slices((X_val_im))\n",
        "val_ds_c = val_ds_c.map(procesa_imagen, num_parallel_calls=tf.data.experimental.AUTOTUNE)\n",
        "val_ds_c = val_ds_c.batch(1)"
      ],
      "execution_count": 0,
      "outputs": []
    },
    {
      "cell_type": "code",
      "metadata": {
        "id": "1h2I1JhjRbpz",
        "colab_type": "code",
        "colab": {
          "base_uri": "https://localhost:8080/",
          "height": 188
        },
        "outputId": "2d69f001-3d98-4f05-fef5-8d4a2d8f26ea"
      },
      "source": [
        "@tf.function\n",
        "def paso_ent(x, y, modelo, fn_perdida, optimizador):\n",
        "    with tf.GradientTape() as cinta:\n",
        "        y_pred = modelo(x)\n",
        "        perdida = fn_perdida(y, y_pred)\n",
        "    gradientes = cinta.gradient(perdida, modelo.trainable_variables)\n",
        "    optimizador.apply_gradients(zip(gradientes, modelo.trainable_variables))\n",
        "    return y_pred\n",
        "\n",
        "fn_perdida = tf.keras.losses.MeanSquaredError()\n",
        "optimizador = tf.keras.optimizers.Adam()\n",
        "perdida_ent = tf.keras.metrics.MeanSquaredError()\n",
        "hist_perdida_ent = []\n",
        "for epoca in range(10):\n",
        "    for paso, (x, y) in enumerate(ent_ds_c):\n",
        "        y_pred = paso_ent(x, y,  ac_c, fn_perdida, optimizador)\n",
        "        perdida_ent(y, y_pred)\n",
        "        \n",
        "    perdida_ent_res = perdida_ent.result().numpy()\n",
        "    perdida_ent.reset_states()\n",
        "    hist_perdida_ent.append(perdida_ent_res)\n",
        "     \n",
        "    print('E{:2d} MSE(E)={:6.2f}'.format(epoca, \n",
        "                                         perdida_ent_res))"
      ],
      "execution_count": 14,
      "outputs": [
        {
          "output_type": "stream",
          "text": [
            "E 0 MSE(E)=  0.02\n",
            "E 1 MSE(E)=  0.01\n",
            "E 2 MSE(E)=  0.01\n",
            "E 3 MSE(E)=  0.01\n",
            "E 4 MSE(E)=  0.01\n",
            "E 5 MSE(E)=  0.01\n",
            "E 6 MSE(E)=  0.01\n",
            "E 7 MSE(E)=  0.01\n",
            "E 8 MSE(E)=  0.01\n",
            "E 9 MSE(E)=  0.01\n"
          ],
          "name": "stdout"
        }
      ]
    },
    {
      "cell_type": "code",
      "metadata": {
        "id": "oJga_34NUvyF",
        "colab_type": "code",
        "colab": {
          "base_uri": "https://localhost:8080/",
          "height": 134
        },
        "outputId": "068b2252-91a6-4a0a-a4a4-4764a3d284ea"
      },
      "source": [
        "plt.figure(figsize=(5, 2))\n",
        "for i, (x, y) in enumerate(val_ds_c.take(10)):\n",
        "    ax = plt.subplot(2, 10, i + 1)\n",
        "    plt.imshow(x.numpy().reshape(28, 28))\n",
        "    plt.gray()\n",
        "\n",
        "    ax = plt.subplot(2, 10, i + 1 + 10)\n",
        "    plt.imshow(dec_c(cod_c(x)).numpy().reshape(28, 28))"
      ],
      "execution_count": 15,
      "outputs": [
        {
          "output_type": "display_data",
          "data": {
            "text/plain": [
              "<Figure size 360x144 with 20 Axes>"
            ],
            "image/png": "[encoded data removed]"
          },
          "metadata": {
            "tags": [],
            "needs_background": "light"
          }
        }
      ]
    }
  ]
}